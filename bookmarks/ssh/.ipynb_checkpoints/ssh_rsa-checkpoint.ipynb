{
 "cells": [
  {
   "cell_type": "markdown",
   "metadata": {},
   "source": [
    "# [main article: SSH 公開金鑰認證：不用打密碼登入 Linux 設定教學，安全又方便](https://blog.gtwang.org/linux/linux-ssh-public-key-authentication/)\n",
    "\n",
    "- hashtags: #ssh, #rsa"
   ]
  },
  {
   "cell_type": "markdown",
   "metadata": {},
   "source": [
    "## STEP 1\n",
    "\n",
    "如果要在 Linux 上產生 SSH 登入用的金鑰，可以使用 ssh-keygen 這個指令。在建立金鑰之前，要先建立 ~/.ssh 這個目錄，並設定正確的權限：\n",
    "\n",
    "`mkdir -p ~/.ssh`\n",
    "\n",
    "`chmod 700 ~/.ssh`\n",
    "\n",
    "然後以 ssh-keygen 產生金鑰：\n",
    "\n",
    "`ssh-keygen`\n"
   ]
  },
  {
   "cell_type": "markdown",
   "metadata": {},
   "source": [
    "- id_rsa.pub：公開金鑰（public key），這是可以對外公開的金鑰，之後要將它放在遠端的 Linux 伺服器上作認證使用。\n",
    "\n",
    "- id_rsa：私密金鑰（private key），這是要保護好的金鑰，它等同於你的 Linux 密碼，放在自己的電腦中。"
   ]
  },
  {
   "cell_type": "markdown",
   "metadata": {},
   "source": [
    "## STEP 2\n",
    "\n",
    "<font color='#40e0d0' size='3px'>將產生的 id_rsa.pub 這個公開金鑰複製到 Linux 伺服器上的 ~/.ssh/authorized_keys 檔案中</font>\n",
    "\n",
    "\n",
    "它預設會將 ~/.ssh/id_rsa.pub 這個公開金鑰複製到伺服器上，若要指定使用的金鑰，可以使用 -i 參數：\n",
    "\n",
    "`ssh-copy-id -i ~/.ssh/id_rsa.pub USER@HOST`"
   ]
  },
  {
   "cell_type": "code",
   "execution_count": null,
   "metadata": {},
   "outputs": [],
   "source": []
  },
  {
   "cell_type": "markdown",
   "metadata": {},
   "source": [
    "# [set alias for hosts](https://superuser.com/questions/41652/how-do-i-set-an-alias-name-in-the-hosts-file#:~:text=For%20adding%20a%20alias%20name,are%20alias%20for%20that%20host.)\n",
    "\n",
    "\n",
    "## `vim /etc/hosts`\n",
    "\n",
    "```\n",
    "127.0.0.1       localhost            test.server.com\n",
    "192.168.0.2     test.server.com      test\n",
    "192.168.0.3     another.server.com   another\n",
    "```"
   ]
  },
  {
   "cell_type": "code",
   "execution_count": null,
   "metadata": {},
   "outputs": [],
   "source": []
  }
 ],
 "metadata": {
  "kernelspec": {
   "display_name": "Python 3",
   "language": "python",
   "name": "python3"
  },
  "language_info": {
   "codemirror_mode": {
    "name": "ipython",
    "version": 3
   },
   "file_extension": ".py",
   "mimetype": "text/x-python",
   "name": "python",
   "nbconvert_exporter": "python",
   "pygments_lexer": "ipython3",
   "version": "3.7.4"
  }
 },
 "nbformat": 4,
 "nbformat_minor": 4
}
