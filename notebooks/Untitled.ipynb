{
 "cells": [
  {
   "cell_type": "code",
   "execution_count": null,
   "id": "76dba6b8-5068-42be-96a5-cf40e0ffdce5",
   "metadata": {},
   "outputs": [],
   "source": [
    "import plotly.graph_objects as go\n",
    "from plotly.subplots import make_subplots\n",
    "\n",
    "labels = [\"US\", \"China\", \"European Union\", \"Russian Federation\", \"Brazil\", \"India\",\n",
    "          \"Rest of World\"]\n",
    "\n",
    "# Create subplots: use 'domain' type for Pie subplot\n",
    "fig = make_subplots(rows=1, cols=2, specs=[[{'type':'domain'}, {'type':'domain'}]])\n",
    "fig.add_trace(go.Pie(labels=labels, values=[16, 15, 12, 6, 5, 4, 42], name=\"GHG Emissions\"),\n",
    "              1, 1)\n",
    "fig.add_trace(go.Pie(labels=labels, values=[27, 11, 25, 8, 1, 3, 25], name=\"CO2 Emissions\"),\n",
    "              1, 2)\n",
    "\n",
    "# Use `hole` to create a donut-like pie chart\n",
    "fig.update_traces(hole=.4, hoverinfo=\"label+percent+name\")\n",
    "\n",
    "fig.update_layout(\n",
    "    title_text=\"Global Emissions 1990-2011\",\n",
    "    # Add annotations in the center of the donut pies.\n",
    "    annotations=[dict(text='GHG', x=0.18, y=0.5, font_size=20, showarrow=False),\n",
    "                 dict(text='CO2', x=0.82, y=0.5, font_size=20, showarrow=False)])\n",
    "fig.show()"
   ]
  },
  {
   "cell_type": "code",
   "execution_count": null,
   "id": "f642b1e1-cdeb-464e-9897-9bf327b98785",
   "metadata": {},
   "outputs": [],
   "source": [
    "import plotly.graph_objects as go\n",
    "\n",
    "fig =go.Figure(go.Sunburst(\n",
    "    labels=[\"Eve\", \"Cain\", \"Seth\", \"Enos\", \"Noam\", \"Abel\", \"Awan\", \"Enoch\", \"Azura\"],\n",
    "    parents=[\"\", \"Eve\", \"Eve\", \"Seth\", \"Seth\", \"Eve\", \"Eve\", \"Awan\", \"Eve\" ],\n",
    "    values=[10, 14, 12, 10, 2, 6, 6, 4, 4],\n",
    "))\n",
    "fig.update_layout(margin = dict(t=0, l=0, r=0, b=0))\n",
    "\n",
    "fig.show()"
   ]
  },
  {
   "cell_type": "code",
   "execution_count": null,
   "id": "d8d6981c-ef56-478c-ae25-d99c6066ebe2",
   "metadata": {},
   "outputs": [],
   "source": [
    "import plotly.express as px\n",
    "import numpy as np\n",
    "df = px.data.gapminder().query(\"year == 2007\")\n",
    "fig = px.sunburst(df, path=['continent', 'country'], values='pop',\n",
    "                  color='lifeExp', hover_data=['iso_alpha'],\n",
    "                  color_continuous_scale='RdBu',\n",
    "                  color_continuous_midpoint=np.average(df['lifeExp'], weights=df['pop']))\n",
    "fig.show()"
   ]
  },
  {
   "cell_type": "code",
   "execution_count": null,
   "id": "d300367b-f7f0-4266-8339-90413686e6d4",
   "metadata": {},
   "outputs": [],
   "source": [
    "df"
   ]
  },
  {
   "cell_type": "code",
   "execution_count": null,
   "id": "bad5e963-c9a9-4886-b129-dfaa22c9ee5a",
   "metadata": {},
   "outputs": [],
   "source": [
    "86400/60/5"
   ]
  },
  {
   "cell_type": "code",
   "execution_count": null,
   "id": "c18e371e-1c1b-40b7-9e87-a0984434e159",
   "metadata": {},
   "outputs": [],
   "source": [
    "def get_sugars_for_event(start_hh_mm='00:00', n_sugar=3):\n",
    "    indexes = list()\n",
    "    for n in range(0, n_sugar):\n",
    "        indexes.append(str(datetime.strptime(start_hh_mm, '%H:%M') + timedelta(minutes=5*n)).split(' ')[-1][0:5])\n",
    "    print('{} sugars = {} mins = {} hrs'.format(len(indexes), 5*n_sugar, 5*n_sugar/60))\n",
    "    return indexes\n",
    "print(get_sugars_for_event(start_hh_mm='00:40', n_sugar=96))"
   ]
  },
  {
   "cell_type": "code",
   "execution_count": null,
   "id": "a1f1b6bb-9295-47a8-b2ad-e00fef6d69d2",
   "metadata": {},
   "outputs": [],
   "source": [
    "import pandas as pd\n",
    "pd.set_option('display.max_rows', 20)\n",
    "from datetime import datetime, timedelta\n",
    "\n",
    "today = list()\n",
    "a = datetime.strptime('2021-01-01 01:00:00', '%Y-%m-%d %H:%M:%S')\n",
    "for i in range(0, int(86400/60/5)):  # TODO: 86400/60/5\n",
    "    today.append(a)\n",
    "    a += timedelta(minutes=5)\n",
    "\n",
    "df = pd.DataFrame(np.array(today),\n",
    "                   columns=['time_start'])\n",
    "df[\"Data_lagged\"] = df['time_start'].shift(-1)\n",
    "df[\"Data_lagged\"] = df['Data_lagged'].fillna(datetime.strptime('2021-01-01 00:00:00', '%Y-%m-%d %H:%M:%S') + timedelta(days=1))\n",
    "df['hour'] = df['time_start'].dt.hour\n",
    "# df['time_start_min'] = df['time_start'].dt.minute\n",
    "# df['Data_lagged_min'] = df['Data_lagged'].dt.minute\n",
    "df['strf_start_min'] = df['time_start'].apply(lambda x: datetime.strftime(x, \"%H:%M\"))\n",
    "df['strf_lagged_min'] = df['Data_lagged'].apply(lambda x: datetime.strftime(x, \"%H:%M\"))\n",
    "\n",
    "df['sugar'] = df.apply(lambda row: row['strf_start_min'] + ' ~ ' + row['strf_lagged_min'], axis=1)\n",
    "\n",
    "\n",
    "df = df.set_index('sugar')\n",
    "df.loc[df.index.str.startswith('01:00'), 'event'] = \"test1\"\n",
    "df.loc[df.index.str.startswith('01:05'), 'event'] = \"test2\"\n",
    "df.loc[df.index.str.startswith('01:10'), 'event'] = \"test3\"\n",
    "df.loc[df.index.str.startswith('01:15'), 'event'] = \"test4\"\n",
    "df.loc[df.index.str.startswith('01:20'), 'event'] = \"test5\"\n",
    "\n",
    "# df = df[['hour', 'event']]\n",
    "\n",
    "\n",
    "df"
   ]
  },
  {
   "cell_type": "code",
   "execution_count": null,
   "id": "2b4b644c-ca08-4610-8506-ff1db64b0829",
   "metadata": {},
   "outputs": [],
   "source": [
    "type(df['strf_start_min'][0])"
   ]
  },
  {
   "cell_type": "code",
   "execution_count": null,
   "id": "f093eb87-3615-4e37-8fea-83f5aba3e6d7",
   "metadata": {},
   "outputs": [],
   "source": [
    "fig = px.sunburst(df.reset_index(), path=['event'], values='hour',\n",
    "                  color='event', \n",
    "                  # hover_data=['iso_alpha'],\n",
    "                  color_continuous_scale='RdBu',\n",
    "                  # color_continuous_midpoint=np.average(df['lifeExp'], weights=df['pop'])\n",
    "                 )\n",
    "fig.show()"
   ]
  },
  {
   "cell_type": "code",
   "execution_count": null,
   "id": "2397a9c2-dbe8-425e-86e3-c5194ff1f0bf",
   "metadata": {},
   "outputs": [],
   "source": [
    "import numpy as np\n",
    "import seaborn as sns\n",
    "import matplotlib.pyplot as plt\n",
    "\n",
    "data = np.random.rand(4,16)\n",
    "ax = sns.heatmap(data)\n",
    "ax.set_aspect(\"equal\")\n",
    "plt.show()"
   ]
  },
  {
   "cell_type": "code",
   "execution_count": null,
   "id": "f40daa21-ccd7-4e29-ac7c-7c2433b074d4",
   "metadata": {},
   "outputs": [],
   "source": [
    "import matplotlib.pyplot as plt\n",
    "import numpy as np\n",
    "# % matplotlib inline\n",
    "\n",
    "n = np.arange(45)\n",
    "theta = n * (3 - np.sqrt(5)) * np.pi\n",
    "r = 0.1 * np.sqrt(n)\n",
    "x = r * np.cos(theta)\n",
    "y = r * np.sin(theta)\n",
    "circle = plt.Circle((0.0, 0.0), radius=0.75, fc='deepskyblue')\n",
    "fig, ax = plt.subplots()\n",
    "ax.add_patch(circle)\n",
    "ax.axis('scaled')\n",
    "ax.scatter(x, y, s=320, marker='*', color='gold', zorder=5)\n",
    "ax.plot(x,y,color='tomato')\n",
    "ax.axis('off')\n",
    "plt.show()"
   ]
  },
  {
   "cell_type": "code",
   "execution_count": null,
   "id": "131737a0-b258-436d-a57d-7a773df13af1",
   "metadata": {},
   "outputs": [],
   "source": [
    "import matplotlib.pyplot as plt\n",
    "import numpy as np\n",
    "# % matplotlib inline\n",
    "\n",
    "n = np.arange(45)\n",
    "theta = n * (3 - np.sqrt(5)) * np.pi\n",
    "r = 0.1 * np.sqrt(n)\n",
    "x = r * np.cos(theta)\n",
    "y = r * np.sin(theta)\n",
    "circle = plt.Circle((0.0, 0.0), radius=0.75, fc='deepskyblue')\n",
    "fig, ax = plt.subplots()\n",
    "ax.add_patch(circle)\n",
    "ax.axis('scaled')\n",
    "ax.scatter(x, y, s=320, marker='*', color='gold', zorder=5)\n",
    "ax.plot(x,y,color='tomato')\n",
    "ax.axis('off')\n",
    "plt.show()"
   ]
  },
  {
   "cell_type": "code",
   "execution_count": null,
   "id": "945f2987-8f23-4c74-989f-f04779ffb080",
   "metadata": {},
   "outputs": [],
   "source": [
    "np.arange(45)\n",
    "np.linspace(0,10,5)"
   ]
  },
  {
   "cell_type": "code",
   "execution_count": null,
   "id": "95df84f4-3deb-4557-8767-e34b4407f89c",
   "metadata": {},
   "outputs": [],
   "source": [
    "import numpy as np\n",
    "import matplotlib.pyplot as plt\n",
    "\n",
    "x = np.linspace(-0.5, 0.5, 100)\n",
    "y = np.linspace(-0.5, 0.5, 100)\n",
    "\n",
    "a, b = np.meshgrid(x, y)\n",
    "\n",
    "C = a**2+b**2-0.2\n",
    "\n",
    "fig, ax = plt.subplots()\n",
    "\n",
    "ax.contour(a,b,C,[0])\n",
    "ax.set_aspect(1)\n",
    "ax.axis('off')\n",
    "\n",
    "plt.show()"
   ]
  },
  {
   "cell_type": "code",
   "execution_count": null,
   "id": "cc5f2601-533f-4a5e-937e-d26e8f3089c2",
   "metadata": {},
   "outputs": [],
   "source": [
    "import matplotlib.pyplot as plt\n",
    "import numpy as np\n",
    "\n",
    "x = list(range(1,6))\n",
    "y = list(range(10, 20, 2))\n",
    "\n",
    "print(x, y)\n",
    "\n",
    "fig, ax = plt.subplots()\n",
    "for i, data in enumerate(zip(x,y)):\n",
    "    j, k = data\n",
    "    ax = plt.scatter(j,k, marker = \"o\", s = ((i+1)**4)*50, alpha = 0.3)\n",
    "\n",
    "plt.show()"
   ]
  },
  {
   "cell_type": "code",
   "execution_count": null,
   "id": "c4619244-d854-4499-a1c1-4866059d9596",
   "metadata": {},
   "outputs": [],
   "source": [
    "import matplotlib.pyplot as plt\n",
    "\n",
    "fig, ax = plt.subplots()\n",
    "ax.add_patch(plt.Circle((0, 0), 0.2, color='r', alpha=0.5))\n",
    "# ax.add_patch(plt.Circle((1, 1), 0.5, color='#00ffff', alpha=0.5))\n",
    "# ax.add_artist(plt.Circle((1, 0), 0.5, color='#000033', alpha=0.5))\n",
    "\n",
    "#Use adjustable='box-forced' to make the plot area square-shaped as well.\n",
    "ax.set_aspect('equal', adjustable='datalim')\n",
    "\n",
    "ax.axis('off')\n",
    "ax.plot()   #Causes an autoscale update.\n",
    "plt.show()"
   ]
  },
  {
   "cell_type": "code",
   "execution_count": null,
   "id": "763a8943-5bb6-484e-8950-3d491b4405b0",
   "metadata": {},
   "outputs": [],
   "source": []
  },
  {
   "cell_type": "code",
   "execution_count": null,
   "id": "bcd7466a-4149-4a41-951a-5a955e01f421",
   "metadata": {},
   "outputs": [],
   "source": []
  }
 ],
 "metadata": {
  "kernelspec": {
   "display_name": "Python 3",
   "language": "python",
   "name": "python3"
  },
  "language_info": {
   "codemirror_mode": {
    "name": "ipython",
    "version": 3
   },
   "file_extension": ".py",
   "mimetype": "text/x-python",
   "name": "python",
   "nbconvert_exporter": "python",
   "pygments_lexer": "ipython3",
   "version": "3.7.4"
  }
 },
 "nbformat": 4,
 "nbformat_minor": 5
}
