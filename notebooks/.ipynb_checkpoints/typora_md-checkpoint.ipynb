{
 "cells": [
  {
   "cell_type": "markdown",
   "id": "71673ce8",
   "metadata": {},
   "source": [
    "graph TD\n",
    "\n",
    "id1>翻目錄 腦海中有大綱和索引]\n",
    "style id1 fill: #E6F0EF, stroke: #ACD0CA, stroke-width: 4px;\n",
    "id2([和老師拿資源])\n",
    "id3>畫出來]\n",
    "style id3 fill: #E6F0EF, stroke: #ACD0CA, stroke-width: 4px;\n",
    "id4([比較易混淆])\n",
    "id5([背同一個新單字先看5到10遍才往下一個 以及自己造新句子])\n",
    "id6([教很多次或被教很多次])\n",
    "id7([詳解])\n",
    "id8>即時回想]\n",
    "style id8 fill: #E6F0EF, stroke: #ACD0CA, stroke-width: 4px;\n",
    "id9([用慢慢改習慣 對抗自制力不夠])\n",
    "id10([考前重點本/錯誤本 只記錄我最記不得的])\n",
    "\n",
    "id1 -.-> id2 -.-> id3 -.-> id4 -.-> id5 \n",
    "id6 -.-> id7 -.-> id8 -.-> id9 -.-> id10"
   ]
  },
  {
   "cell_type": "code",
   "execution_count": null,
   "id": "ea797ef9",
   "metadata": {},
   "outputs": [],
   "source": []
  }
 ],
 "metadata": {
  "kernelspec": {
   "display_name": "Python 3 (ipykernel)",
   "language": "python",
   "name": "python3"
  },
  "language_info": {
   "codemirror_mode": {
    "name": "ipython",
    "version": 3
   },
   "file_extension": ".py",
   "mimetype": "text/x-python",
   "name": "python",
   "nbconvert_exporter": "python",
   "pygments_lexer": "ipython3",
   "version": "3.8.6"
  },
  "toc": {
   "base_numbering": 1,
   "nav_menu": {},
   "number_sections": true,
   "sideBar": true,
   "skip_h1_title": false,
   "title_cell": "Table of Contents",
   "title_sidebar": "Contents",
   "toc_cell": false,
   "toc_position": {},
   "toc_section_display": true,
   "toc_window_display": false
  }
 },
 "nbformat": 4,
 "nbformat_minor": 5
}
