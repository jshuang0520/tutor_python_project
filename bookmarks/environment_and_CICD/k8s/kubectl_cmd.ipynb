{
 "cells": [
  {
   "cell_type": "markdown",
   "metadata": {},
   "source": [
    "## basic information"
   ]
  },
  {
   "cell_type": "markdown",
   "metadata": {},
   "source": [
    "<p style=\"vertical-align: text-top; text-align: left; font-family: 'objektiv-mk1,Helvetica,Arial,sans-serif,Linotte Light'; white-space:pre-wrap; word-wrap:break-word;\">\n",
    "<font color='#00CC66'>- command</font>\n",
    "<font color='grey'>kubectl version</font></p>"
   ]
  },
  {
   "cell_type": "markdown",
   "metadata": {},
   "source": [
    "<p style=\"vertical-align: text-top; text-align: left; font-family: 'objektiv-mk1,Helvetica,Arial,sans-serif,Linotte Light'; white-space:pre-wrap; word-wrap:break-word;\">\n",
    "<font color='#00CC66'>- command</font>\n",
    "<font color='grey'>kubectl proxy</font>\n",
    "\n",
    "Starting to serve on 127.0.0.1:8001</p>"
   ]
  },
  {
   "cell_type": "markdown",
   "metadata": {},
   "source": [
    "<p style=\"vertical-align: text-top; text-align: left; font-family: 'objektiv-mk1,Helvetica,Arial,sans-serif,Linotte Light'; white-space:pre-wrap; word-wrap:break-word;\">\n",
    "<font color='#00CC66'>- command</font>\n",
    "<font color='grey'>kubectl version --client</font></p>"
   ]
  },
  {
   "cell_type": "markdown",
   "metadata": {},
   "source": [
    "## all"
   ]
  },
  {
   "cell_type": "markdown",
   "metadata": {},
   "source": [
    "<p style=\"vertical-align: text-top; text-align: left; font-family: 'objektiv-mk1,Helvetica,Arial,sans-serif,Linotte Light'; white-space:pre-wrap; word-wrap:break-word;\">\n",
    "<font color='#00CC66'>- command</font>\n",
    "<font color='grey'>kubectl get all</font></p>"
   ]
  },
  {
   "cell_type": "markdown",
   "metadata": {},
   "source": [
    "## config"
   ]
  },
  {
   "cell_type": "markdown",
   "metadata": {},
   "source": [
    "<p style=\"vertical-align: text-top; text-align: left; font-family: 'objektiv-mk1,Helvetica,Arial,sans-serif,Linotte Light'; white-space:pre-wrap; word-wrap:break-word;\">\n",
    "<font color='#00CC66'>- command</font>\n",
    "<font color='grey'>kubectl config view</font></p>"
   ]
  },
  {
   "cell_type": "code",
   "execution_count": null,
   "metadata": {},
   "outputs": [],
   "source": []
  },
  {
   "cell_type": "markdown",
   "metadata": {},
   "source": [
    "# Kubernetes 四元件\n",
    "\n",
    "> 由小到大: Pod、Worker Node、Master Node、Cluster"
   ]
  },
  {
   "cell_type": "code",
   "execution_count": null,
   "metadata": {},
   "outputs": [],
   "source": []
  },
  {
   "cell_type": "markdown",
   "metadata": {},
   "source": [
    "## namespace"
   ]
  },
  {
   "cell_type": "markdown",
   "metadata": {},
   "source": [
    "<p style=\"vertical-align: text-top; text-align: left; font-family: 'objektiv-mk1,Helvetica,Arial,sans-serif,Linotte Light'; white-space:pre-wrap; word-wrap:break-word;\">\n",
    "<font color='#00CC66'>- get namespace</font>\n",
    "<font color='grey'>kubectl get ns</font></p>\n",
    "<div class=\"alert-success\">\n",
    "kubectl get namespace\n",
    "</div>"
   ]
  },
  {
   "cell_type": "markdown",
   "metadata": {},
   "source": [
    "## cluster\n",
    "\n",
    "- cluster\n",
    "  - node (master node & worker node)\n",
    "    - pod\n",
    "      - container\n",
    "\n",
    "<table>\n",
    "    <td>\n",
    "        <img src='https://miro.medium.com/max/1400/0*5N7SlevIHOdKB-yC' width='400'>\n",
    "    </td>\n",
    "    <td>\n",
    "        <img src='https://github.com/zxcvbnius/k8s-30-day-sharing/blob/master/Day06/kubernetes-orverview.png?raw=true' width='700'>\n",
    "        <p style=\"vertical-align: text-top; text-align: left; font-family: 'objektiv-mk1'; white-space:pre-wrap; word-wrap:break-word;\">- 該圖中的 Kubernetes Cluster 有N 個 Nodes，Node 1, Node 2, ... Node N\n",
    "- 每個 Node 都必須跑起 Container Engine 以便於運行 Pods。而在30天教學筆記中使用的是 Docker Engine。\n",
    "- 圖中，一個橘色框分別代表一個 Pod ，而 Pod 中綠色的空心方型則代表一個container。以 Pod 3 與 Pod 5 為例，這兩個 Pod 分別只運行一個 container；而在 Pod 1 中則運行三個 containers。\n",
    "- 圖中每個 Node 都有屬於它自己的 iptables，iptables 是 Linux 上的防火牆(firewall)，不只限制哪些連線可以連進來，也會管理網路連線，決定收到的 request 要交給哪個 Pod。\n",
    "</p>\n",
    "    </td>\n",
    "</table>"
   ]
  },
  {
   "cell_type": "markdown",
   "metadata": {},
   "source": [
    "<p style=\"vertical-align: text-top; text-align: left; font-family: 'objektiv-mk1,Helvetica,Arial,sans-serif,Linotte Light'; white-space:pre-wrap; word-wrap:break-word;\">\n",
    "<font color='#00CC66'>- command</font>\n",
    "<font color='grey'> kubectl cluster-info</font></p>"
   ]
  },
  {
   "cell_type": "markdown",
   "metadata": {},
   "source": [
    "<p style=\"vertical-align: text-top; text-align: left; font-family: 'objektiv-mk1,Helvetica,Arial,sans-serif,Linotte Light'; white-space:pre-wrap; word-wrap:break-word;\">\n",
    "<font color='#00CC66'>- 使用 alpine 查看 cluster 狀況</font>\n",
    "alpine 提供非常輕量級的 Docker Image，大小只有 5MB 上下。\n",
    "可以藉由在 alpine下 指令，在 Kubernetes Cluster 中與其他 Pods 互動，非常適合用來 debug。\n",
    "以下面指令為例，在輸入下述指令後，我們就可以進到 alpine 的 shell。\n",
    "<font color='grey'>kubectl run -i --tty alpine --image=alpine --restart=Never -- sh</font></p>\n",
    "\n",
    "e.g.\n",
    "\n",
    "```kubectl describe pod my-pod```\n",
    "\n",
    "```apk add --no-cache curl```\n",
    "\n",
    "```curl http://172.17.0.4:3000```\n",
    "\n",
    "<div>\n",
    "    <img src='https://github.com/zxcvbnius/k8s-30-day-sharing/blob/master/Day05/kubectl-apline-curl.png?raw=true' width='600'>\n",
    "</div>"
   ]
  },
  {
   "cell_type": "markdown",
   "metadata": {},
   "source": [
    "## node\n",
    "\n",
    "\n",
    "### Node 是什麼\n",
    "\n",
    "<p style=\"vertical-align: text-top; text-align: left; font-family: 'objektiv-mk1,Helvetica,Arial,sans-serif,Linotte Light'; white-space:pre-wrap; word-wrap:break-word;\">\n",
    "<font color='#00CC66'>在 Kubernetes 中，Node 通常是指實體機、虛擬機。</font></p>\n",
    "\n",
    "<p style=\"vertical-align: text-top; text-align: left; font-family: 'objektiv-mk1,Helvetica,Arial,sans-serif,Linotte Light'; white-space:pre-wrap; word-wrap:break-word;\">\n",
    "<font color='grey'>一個 Node，可以是指 AWS 的一台 EC2 或 GCP 上的一台 computer engine，也可以是你的筆電，甚至是一台 Raspberry Pi。\n",
    "只要他們上面裝有 Docker Engine ，足以跑起 Pod，就可以被加入 Kubernetes Cluster。\n",
    "將 Node 加到 Kubernetes 中之後，Kubernetes 會建立一個 Node 物件，並進行一連串檢查，包含網路連線，Pod 是否能被正常啟動等，若都通過則會將該 Node 物件的狀態設為 Ready，若是無法通過則會顯示 Not Ready</font></p>\n",
    "\n",
    "\n",
    "\n",
    "### 用 Kubernetes 管理 Nodes 的好處\n",
    "\n",
    "<p style=\"vertical-align: text-top; text-align: left; font-family: 'objektiv-mk1,Helvetica,Arial,sans-serif,Linotte Light'; white-space:pre-wrap; word-wrap:break-word;\">\n",
    "<font color='#00CC66'>在 Kubernetes 上，當我們將 Node 都加到 Kubernetes Cluster 後，系統會根據目前 Pod 的設定檔去決定要部署在哪個 Node 上。</font></p>\n",
    "\n",
    "<p style=\"vertical-align: text-top; text-align: left; font-family: 'objektiv-mk1,Helvetica,Arial,sans-serif,Linotte Light'; white-space:pre-wrap; word-wrap:break-word;\">\n",
    "<font color='grey'>過去是一台 Node<font color='#00CC66'>(實體機/虛擬機)</font> 指運行可能只運行一個應用服務(application)，\n",
    "若是該應用服務(application) 只使用 I/O 資源，免不了 Node 上閒置 memory 的浪費；\n",
    "若是為了避免閒置資源，而將多個服務同時運行在同一台 Node 上，運維人員還需隨時掌控目前各個應用服務使用資源狀況，避免資源不足情形。\n",
    "而在 Kubernetes 上，當我們將 Node 都加到 Kubernetes Cluster 後，系統會根據目前 Pod 的設定檔去決定要部署在哪個 Node 上。在未來讀書筆記 [Day 27] 如何限制每個服務資源 - Resource Quotas 也會分享這部分。</font></p>\n",
    "\n",
    "<a href=\"https://kubernetes.io/docs/concepts/architecture/nodes\">Node</a>\n",
    "\n",
    "<a href=\"https://kubernetes.io/docs/concepts/workloads/pods/pod/\">Pod</a>"
   ]
  },
  {
   "cell_type": "markdown",
   "metadata": {},
   "source": [
    "<p style=\"vertical-align: text-top; text-align: left; font-family: 'objektiv-mk1,Helvetica,Arial,sans-serif,Linotte Light'; white-space:pre-wrap; word-wrap:break-word;\">\n",
    "<font color='#00CC66'>- to get all nodes</font>\n",
    "<font color='grey'>kubectl get nodes</font></p>"
   ]
  },
  {
   "cell_type": "markdown",
   "metadata": {},
   "source": [
    "## pod\n",
    "\n",
    "<p style=\"vertical-align: text-top; text-align: left; font-family: 'objektiv-mk1,Helvetica,Arial,sans-serif,Linotte Light'; white-space:pre-wrap; word-wrap:break-word;\">\n",
    "<font color='#00CC66'>Kubernetes 運作的最小單位，一個 Pod 對應到一個應用服務（Application）</font></p>\n",
    "\n",
    "<p style=\"vertical-align: text-top; text-align: left; font-family: 'objektiv-mk1,Helvetica,Arial,sans-serif,Linotte Light'; white-space:pre-wrap; word-wrap:break-word;\">\n",
    "<font color='grey'>Kubernetes 上會運行很多個不同種類型的應用服務(applications)，而一個 Pod 在Kubernetes世界中就相當於一個application。\n",
    "Pod有以下特點，\n",
    "每個 Pod 都有屬於自己的 yaml 檔\n",
    "一個 Pod 裡面可以包含一個或多個 Docker Container\n",
    "在同一個 Pod 裡面的 containers，可以用 local port numbers 來互相溝通</font></p>"
   ]
  },
  {
   "cell_type": "markdown",
   "metadata": {},
   "source": [
    "<p style=\"vertical-align: text-top; text-align: left; font-family: 'objektiv-mk1,Helvetica,Arial,sans-serif,Linotte Light'; white-space:pre-wrap; word-wrap:break-word;\">\n",
    "<font color='#00CC66'>- to get names of all running pods from all namespaces</font>\n",
    "<div class=\"alert-success\">\n",
    "kubectl get pods -o=name --all-namespaces\n",
    "</div>"
   ]
  },
  {
   "cell_type": "markdown",
   "metadata": {},
   "source": [
    "<p style=\"vertical-align: text-top; text-align: left; font-family: 'objektiv-mk1,Helvetica,Arial,sans-serif,Linotte Light'; white-space:pre-wrap; word-wrap:break-word;\">\n",
    "<font color='#00CC66'>- check status of all running pods in a specific namespace</font>\n",
    "<font color='grey'>kubectl get pods --namespace=[YOUR_NAMESPACE]</font></p>\n",
    "<div class=\"alert-success\">\n",
    "kubectl get pods -n [YOUR_NAMESPACE]\n",
    "</div>\n",
    "\n",
    "check the 'STATUS' - 'Running / Completed / CreateContainerConfigError / Terminated (reason: Job has reached the specified backoff limit)'\n",
    "\n",
    "--\n",
    "<p style=\"vertical-align: text-top; text-align: left; font-family: 'objektiv-mk1,Helvetica,Arial,sans-serif,Linotte Light'; white-space:pre-wrap; word-wrap:break-word;\">   \n",
    "Kubernetes control plane is running at [host:port]\n",
    "CoreDNS is running at [host]:[port]/api/v1/namespaces/kube-system/services/kube-dns:dns/proxy\n",
    "To further debug and diagnose cluster problems, use 'kubectl cluster-info dump'.</p>"
   ]
  },
  {
   "cell_type": "markdown",
   "metadata": {},
   "source": [
    "<p style=\"vertical-align: text-top; text-align: left; font-family: 'objektiv-mk1,Helvetica,Arial,sans-serif,Linotte Light'; white-space:pre-wrap; word-wrap:break-word;\">\n",
    "<font color='#00CC66'>- to check the log history of a pod in a namespace</font>\n",
    "<font color='grey'>kubectl describe pods [YOUR_POD_NAME] -n [YOUR_NAMESPACE]</font></p>\n",
    "\n",
    "<div class=\"alert-info\">\n",
    "kubectl describe pods [YOUR_POD_NAME] -n [YOUR_NAMESPACE]\n",
    "</div>"
   ]
  },
  {
   "cell_type": "markdown",
   "metadata": {},
   "source": [
    "<p style=\"vertical-align: text-top; text-align: left; font-family: 'objektiv-mk1,Helvetica,Arial,sans-serif,Linotte Light'; white-space:pre-wrap; word-wrap:break-word;\">\n",
    "<font color='#00CC66'>- 取得 Kubernetes Cluster 中所有正在運行的 Pods 的資訊, 加上--show-all，則會顯示所有 Pods</font>\n",
    "<font color='grey'>kubectl get pods --show-all</font></p>"
   ]
  },
  {
   "cell_type": "markdown",
   "metadata": {},
   "source": [
    "<p style=\"vertical-align: text-top; text-align: left; font-family: 'objektiv-mk1,Helvetica,Arial,sans-serif,Linotte Light'; white-space:pre-wrap; word-wrap:break-word;\">\n",
    "<font color='#00CC66'>- 將某一 Pod 中指定的 port number expose 出來讓外部服務存取(建立一個新的 Service 物件)</font>\n",
    "<font color='grey'>kubectl expose pod [pod] --port=[port] --name=[service-name]</font></p>"
   ]
  },
  {
   "cell_type": "markdown",
   "metadata": {},
   "source": [
    "<p style=\"vertical-align: text-top; text-align: left; font-family: 'objektiv-mk1,Helvetica,Arial,sans-serif,Linotte Light'; white-space:pre-wrap; word-wrap:break-word;\">\n",
    "<font color='#00CC66'>- 將某一 Pod 中指定的 port number mapping 到本機端的某一特定 port number</font>\n",
    "<font color='grey'>kubectl port-forward [pod] [external-port]:[pod-port]</font></p>"
   ]
  },
  {
   "cell_type": "markdown",
   "metadata": {},
   "source": [
    "<p style=\"vertical-align: text-top; text-align: left; font-family: 'objektiv-mk1,Helvetica,Arial,sans-serif,Linotte Light'; white-space:pre-wrap; word-wrap:break-word;\">\n",
    "<font color='#00CC66'>- 當一個 container 起來之後，有時希望能進到 container 內部去看 logs，可以使用 kubectl attach 這個指令</font>\n",
    "<font color='grey'>kubectl attach [pod] -i</font></p>"
   ]
  },
  {
   "cell_type": "markdown",
   "metadata": {},
   "source": [
    "<p style=\"vertical-align: text-top; text-align: left; font-family: 'objektiv-mk1,Helvetica,Arial,sans-serif,Linotte Light'; white-space:pre-wrap; word-wrap:break-word;\">\n",
    "<font color='#00CC66'>- 可以對 Pod 下一個內部指令</font>\n",
    "<font color='grey'>kubectl exec [pod] -- [command]</font></p>\n",
    "\n",
    "e.g.\n",
    "```kubectl exec py-pod -- ls /src```"
   ]
  },
  {
   "cell_type": "markdown",
   "metadata": {},
   "source": [
    "<p style=\"vertical-align: text-top; text-align: left; font-family: 'objektiv-mk1,Helvetica,Arial,sans-serif,Linotte Light'; white-space:pre-wrap; word-wrap:break-word;\">\n",
    "<font color='#00CC66'>- to delete a pod</font>\n",
    "<font color='grey'>kubectl delete pod [YOUR_JOB]</font></p>"
   ]
  },
  {
   "cell_type": "markdown",
   "metadata": {},
   "source": [
    "<p style=\"vertical-align: text-top; text-align: left; font-family: 'objektiv-mk1,Helvetica,Arial,sans-serif,Linotte Light'; white-space:pre-wrap; word-wrap:break-word;\">\n",
    "<font color='#00CC66'>- delete pods, assigning a specific app name in a given namespace</font>\n",
    "<font color='grey'>kubectl delete pods -l app=[YOUR_APP_NAME] -n [YOUR_NAMESPACE]</font></p>"
   ]
  },
  {
   "cell_type": "markdown",
   "metadata": {},
   "source": [
    "### 如何與 Pod 中的 container 互動\n",
    "\n",
    "<p style=\"vertical-align: text-top; text-align: left; font-family: 'objektiv-mk1,Helvetica,Arial,sans-serif,Linotte Light'; white-space:pre-wrap; word-wrap:break-word;\">\n",
    "<font color='grey' size='4px'>方法1：透過kubectl port-forward</font>\n",
    "\n",
    "<font color='#00CC66'>kubectl port-forward 是將 pod 的 port mapping 到本機端上，</font></p>\n",
    "\n",
    "```\n",
    "$ kubectl port-forward my-pod 8000:3000\n",
    "Forwarding from 127.0.0.1:8000 -> 3000\n",
    "```\n",
    "\n",
    "<p style=\"vertical-align: text-top; text-align: left; font-family: 'objektiv-mk1,Helvetica,Arial,sans-serif,Linotte Light'; white-space:pre-wrap; word-wrap:break-word;\"><font color='#0091fa'>\n",
    "而 kubectl expose 則是將 pod 的 port 與 Kubernetes Cluster 的 port number 做 mapping。</font></p>\n",
    "\n",
    "\n",
    "<p style=\"vertical-align: text-top; text-align: left; font-family: 'objektiv-mk1,Helvetica,Arial,sans-serif,Linotte Light'; white-space:pre-wrap; word-wrap:break-word;\">\n",
    "<font color='grey' size='4px'>方法2：建立一個 Service</font>"
   ]
  },
  {
   "cell_type": "markdown",
   "metadata": {},
   "source": [
    "## service"
   ]
  },
  {
   "cell_type": "markdown",
   "metadata": {},
   "source": [
    "<p style=\"vertical-align: text-top; text-align: left; font-family: 'objektiv-mk1,Helvetica,Arial,sans-serif,Linotte Light'; white-space:pre-wrap; word-wrap:break-word;\">\n",
    "<font color='#00CC66'>- get services</font>\n",
    "<font color='grey'>kubectl get services</font></p>\n",
    "<font color='grey'>kubectl get service --all-namespaces</font></p>"
   ]
  },
  {
   "cell_type": "markdown",
   "metadata": {},
   "source": [
    "## secret"
   ]
  },
  {
   "cell_type": "markdown",
   "metadata": {},
   "source": [
    "<p style=\"vertical-align: text-top; text-align: left; font-family: 'objektiv-mk1,Helvetica,Arial,sans-serif,Linotte Light'; white-space:pre-wrap; word-wrap:break-word;\">\n",
    "<font color='#00CC66'>- create a secret file to record some passwords and GIVE_THIS_SECRET_FILE_A_NAME</font>\n",
    "<font color='grey'>kubectl create secret generic [GIVE_THIS_SECRET_FILE_A_NAME] --from-literal=VAR1=${VAR1} --from-literal=VAR2=${VAR2}</font></p>"
   ]
  },
  {
   "cell_type": "markdown",
   "metadata": {},
   "source": [
    "<p style=\"vertical-align: text-top; text-align: left; font-family: 'objektiv-mk1,Helvetica,Arial,sans-serif,Linotte Light'; white-space:pre-wrap; word-wrap:break-word;\">\n",
    "<font color='#00CC66'>- to check encrypted environment variables in a secret file</font>\n",
    "<font color='grey'>kubectl describe secret [THIS_SECRET_FILE_A_NAME]</font>\n",
    "<font color='grey'>kubectl get secret [THIS_SECRET_FILE_A_NAME] -o jsonpath='{.data}'</font>\n",
    "<font color='grey'>kubectl get secret [THIS_SECRET_FILE_A_NAME] -o 'go-template={{index .data \"[ENCRYPTED_VAR]\"}}' | base64 -d</font>\n",
    "    \n",
    "<div class=\"alert-danger\">\n",
    "    \n",
    "## - check all the encrypted variables\n",
    "    \n",
    "kubectl describe secret [THIS_SECRET_FILE_A_NAME]\n",
    "</div>\n",
    "\n",
    "<font color='grey' size='5px'>- Decode</font>\n",
    "\n",
    "\n",
    "<font color='grey' size='3px'>## - decrypt all of the encrypted variables</font>\n",
    "\n",
    "<div class=\"alert-danger\">\n",
    "kubectl get secret [THIS_SECRET_FILE_A_NAME] -o 'go-template={{index .data \"ENCRYPTED_VAR_1\" | base64decode}} {{index .data \"ENCRYPTED_VAR_2\" | base64decode}} {{index .data \"ENCRYPTED_VAR_3\" | base64decode}}'\n",
    "</div>\n",
    "</p>"
   ]
  },
  {
   "cell_type": "markdown",
   "metadata": {},
   "source": [
    "<p style=\"vertical-align: text-top; text-align: left; font-family: 'objektiv-mk1,Helvetica,Arial,sans-serif,Linotte Light'; white-space:pre-wrap; word-wrap:break-word;\">\n",
    "<font color='#00CC66'>- delete a secret file by its name</font>\n",
    "<font color='grey'>kubectl delete secret [THIS_SECRET_FILE_A_NAME] --ignore-not-found</font></p>"
   ]
  },
  {
   "cell_type": "markdown",
   "metadata": {},
   "source": [
    "## jobs"
   ]
  },
  {
   "cell_type": "markdown",
   "metadata": {},
   "source": [
    "<p style=\"vertical-align: text-top; text-align: left; font-family: 'objektiv-mk1,Helvetica,Arial,sans-serif,Linotte Light'; white-space:pre-wrap; word-wrap:break-word;\">\n",
    "<font color='#00CC66'>- get jobs from all namespaces</font></p>\n",
    "\n",
    "<div class=\"alert-success\">\n",
    "kubectl get jobs --all-namespaces\n",
    "</div>"
   ]
  },
  {
   "cell_type": "markdown",
   "metadata": {},
   "source": [
    "<p style=\"vertical-align: text-top; text-align: left; font-family: 'objektiv-mk1,Helvetica,Arial,sans-serif,Linotte Light'; white-space:pre-wrap; word-wrap:break-word;\">\n",
    "<font color='#00CC66'>- describe a job (check it's yaml file settings)</font>\n",
    "<font color='grey'>kubectl describe job [YOUR_JOB_NAME]</font></p>"
   ]
  },
  {
   "cell_type": "markdown",
   "metadata": {},
   "source": [
    "<p style=\"vertical-align: text-top; text-align: left; font-family: 'objektiv-mk1,Helvetica,Arial,sans-serif,Linotte Light'; white-space:pre-wrap; word-wrap:break-word;\">\n",
    "<font color='#00CC66'>- to check logs of your job</font>\n",
    "<font color='grey'>kubectl logs [YOUR_JOB]</font></p>\n",
    "<div class=\"alert-danger\">\n",
    "kubectl get pods -n [YOUR_NAMESPACE]\n",
    "    \n",
    "kubectl describe pods [YOUR_POD]\n",
    "\n",
    "kubectl logs [YOUR_POD] >> [YOUR_OUTPUT_LOG_PATH]\n",
    "    \n",
    "note. you can use kubectl get jobs -n [YOUR_NAMESPACE] to get jobs of interest. But if you want to check the logs, you need to check the pod's log. A pod is corresponding to an application!\n",
    "</div>\n",
    "\n",
    "<div class=\"alert-success\">\n",
    "var=`date +\"%F_%H-%M-%S\"`; kubectl logs [YOUR_POD_NAME] -n [YOUR_NAMESPACE] > [PATH_TO_EXECUTION_LOGS]/${var}.log\n",
    "</div>\n",
    "\n",
    "\n",
    "<div class=\"alert-danger\">\n",
    "    ---\n",
    "</div>\n",
    "\n",
    "```\n",
    "ns=[YOUR_NAMESPACE]; basepath='/Users/johnson.huang/execution_logs/ml-etl/develop/20220504';\n",
    "\n",
    "kubectl get pods -n ${ns}\n",
    "\n",
    "pod=[YOUR_POD]; \n",
    "var=`date +\"%F_%H-%M-%S\"`; kubectl logs ${pod} -n ${ns} > ${basepath}/${ns}_${pod}_${var}.log\n",
    "```\n",
    "\n",
    "<div class=\"alert-danger\">\n",
    "    ---\n",
    "</div>\n",
    "\n",
    "\n",
    "One other approach:\n",
    "\n",
    "kubectl describe job $JOB\n",
    "\n",
    "Pod name is shown under \"Events\"\n",
    "\n",
    "kubectl logs $POD\n",
    "\n",
    "\n",
    "<div class=\"alert-success\">\n",
    "kubectl get pods --all-namespaces\n",
    "    \n",
    "kubectl get secrets\n",
    "    \n",
    "-> kubectl describe secrets [YOUR_SECRET_FILE]\n",
    "    \n",
    "-> kubectl get secret [THIS_SECRET_FILE_A_NAME] -o 'go-template={{index .data \"ENCRYPTED_VAR_1\" | base64decode}} {{index .data \"ENCRYPTED_VAR_2\" | base64decode}} {{index .data \"ENCRYPTED_VAR_3\" | base64decode}}'\n",
    "    \n",
    "kubectl get configmaps\n",
    "    \n",
    "-> kubectl describe configmaps [YOUR_CONFIGMAP]\n",
    "</div>"
   ]
  },
  {
   "cell_type": "markdown",
   "metadata": {},
   "source": [
    "<p style=\"vertical-align: text-top; text-align: left; font-family: 'objektiv-mk1,Helvetica,Arial,sans-serif,Linotte Light'; white-space:pre-wrap; word-wrap:break-word;\">\n",
    "<font color='#00CC66'>- delete a job</font>\n",
    "<font color='grey'>kubectl delete jobs [YOUR_JOB_NAME] --ignore-not-found=true</font></p>"
   ]
  },
  {
   "cell_type": "code",
   "execution_count": null,
   "metadata": {},
   "outputs": [],
   "source": []
  },
  {
   "cell_type": "markdown",
   "metadata": {},
   "source": [
    "# [Kubeval - Validating a deployment](https://learnk8s.io/validating-kubernetes-yaml)\n",
    "\n",
    "- installation\n",
    "\n",
    "```\n",
    "$ brew tap instrumenta/instrumenta\n",
    "$ brew install kubeval\n",
    "```\n",
    "\n",
    "\n",
    "- validate\n",
    "<div class=\"alert-info\">\n",
    "kubeval [YOUR_DEPLOYMENT_YAML_FILE]\n",
    "</div>\n",
    "\n",
    "\n",
    "<div class=\"alert-danger\">\n",
    "kubectl describe job [YOUR_JOB] -n [YOUR_NAMESPACE]\n",
    "</div>\n",
    "\n",
    "<div class=\"alert-danger\">\n",
    "kubectl describe pod [YOUR_POD]\n",
    "</div>\n",
    "\n",
    "<div class=\"alert-danger\">\n",
    "kubectl describe configmaps [YOUR_CONFIGMAP_FILE]\n",
    "</div>\n",
    "\n",
    "<div class=\"alert-danger\">\n",
    "kubectl describe secrets [YOUR_SECRET_FILE]\n",
    "</div>\n",
    "\n",
    "- finally\n",
    "\n",
    "<div class=\"alert-danger\">\n",
    "kubectl exec -it [YOUR_POD/JOB_NAME] /bin/bash\n",
    "</div>"
   ]
  },
  {
   "cell_type": "code",
   "execution_count": null,
   "metadata": {},
   "outputs": [],
   "source": []
  },
  {
   "cell_type": "markdown",
   "metadata": {},
   "source": [
    "# fill - background color"
   ]
  },
  {
   "cell_type": "markdown",
   "metadata": {},
   "source": [
    "<div class=\"alert-success\">\n",
    "alert-success: green\n",
    "</div>\n",
    "\n",
    "<div class=\"alert-danger\">\n",
    "alert-danger: red\n",
    "</div>\n",
    "\n",
    "<div class=\"alert-warning\">\n",
    "alert-warning: yellow\n",
    "</div>\n",
    "\n",
    "<div class=\"alert-info\">\n",
    "alert-info: blue\n",
    "</div>\n",
    "\n",
    "https://www.ibm.com/docs/en/db2-event-store/2.0.0?topic=notebooks-markdown-jupyter-cheatsheet"
   ]
  },
  {
   "cell_type": "code",
   "execution_count": null,
   "metadata": {},
   "outputs": [],
   "source": []
  }
 ],
 "metadata": {
  "kernelspec": {
   "display_name": "Python 3",
   "language": "python",
   "name": "python3"
  },
  "language_info": {
   "codemirror_mode": {
    "name": "ipython",
    "version": 3
   },
   "file_extension": ".py",
   "mimetype": "text/x-python",
   "name": "python",
   "nbconvert_exporter": "python",
   "pygments_lexer": "ipython3",
   "version": "3.7.4"
  },
  "toc-autonumbering": true
 },
 "nbformat": 4,
 "nbformat_minor": 4
}
