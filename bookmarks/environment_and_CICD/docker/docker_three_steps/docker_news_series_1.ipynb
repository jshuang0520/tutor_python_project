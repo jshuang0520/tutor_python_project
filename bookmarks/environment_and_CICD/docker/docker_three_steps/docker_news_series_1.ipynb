{
 "cells": [
  {
   "cell_type": "markdown",
   "metadata": {},
   "source": [
    "# [Docker風潮席捲IT世界](https://www.ithome.com.tw/news/91839)"
   ]
  },
  {
   "cell_type": "markdown",
   "metadata": {},
   "source": [
    "## Google每周啟用20億個Container"
   ]
  },
  {
   "cell_type": "markdown",
   "metadata": {},
   "source": [
    "## Container是以應用程式為中心的虛擬化"
   ]
  },
  {
   "cell_type": "markdown",
   "metadata": {},
   "source": [
    "<font color='#00CC66'>傳統虛擬化</font>技術從<font color='#00CC66'>[作業系統層](note. GuestOS)</font>下手，目標是建立一個可以用來執行整套作業系統的沙箱獨立執行環境，習慣以虛擬機器（Virtual Machine）來稱呼。\n",
    "\n",
    "虛擬機器用軟體模擬出vCPU、vRAM等實體伺服器的功能，讓作業系統看起來是身處於實體機器中，所以，可以在這個虛擬機器中安裝各種作業系統，接著安裝應用程式所需的執行環境。\n",
    "\n",
    "傳統的虛擬化技術能將軟體和硬體的相依關係切開，讓軟體盡可能地不用綁定於特定廠牌或規格的硬體。\n",
    "\n",
    "\n",
    "<table>\n",
    "    <td>\n",
    "        <img src='https://i.imgur.com/HqfkT2d.jpg' width='600'/>\n",
    "        <p style=\"text-align: center;\"> <a href=\"https://geekflare.com/docker-vs-virtual-machine/\">Operating System Support</a> </p>\n",
    "    </td>\n",
    "    <td>\n",
    "        <img src='https://diveintodocker.com/assets/courses/virtual-machine-vs-docker-container-diveintodocker-da32029afb09e889fdee17b66876493d3b2441f30e77708520cd9bf338a21866.jpg' width='600'/>\n",
    "        <p style=\"text-align: center;\"> <a href=\"https://diveintodocker.com/\">Dive Into Docker</a> </p>\n",
    "    </td>\n",
    "</table>\n",
    "\n",
    "<table>\n",
    "    <td>\n",
    "        <img src='https://miro.medium.com/max/700/0*fQKhoT--2NnLY9YU.png' width='500'/>\n",
    "    </td>\n",
    "    <td>\n",
    "        <img src='https://miro.medium.com/max/700/0*bL7e7IJ5s-ntdhvC.png' width='500'/>\n",
    "    </td>\n",
    "</table>"
   ]
  },
  {
   "cell_type": "markdown",
   "metadata": {},
   "source": [
    "## 在OS層內建立虛擬環境"
   ]
  },
  {
   "cell_type": "markdown",
   "metadata": {},
   "source": [
    "<p style=\"vertical-align: text-top; text-align: left; font-family: 'objektiv-mk1,Helvetica,Arial,sans-serif,Linotte Light'; white-space:pre-wrap; word-wrap:break-word;\"><font color='grey'>另一種虛擬化技術Container，不是在OS外來建立虛擬環境，而是在OS內的核心系統層來打造虛擬機器，\n",
    "<font color='#00CC66'>透過共用 Host OS 的作法，取代多個 Guest OS 的功用。</font>\n",
    "Container也因此被稱為OS層虛擬化技術。</font></p>\n",
    "\n",
    "\n",
    "<p style=\"vertical-align: text-top; text-align: left; font-family: 'objektiv-mk1,Helvetica,Arial,sans-serif,Linotte Light'; white-space:pre-wrap; word-wrap:break-word;\">Container直接將一個應用程式所需的相關程式碼、函式庫、環境配置檔都打包起來，\n",
    "並建立了嚴格的資源控管機制來分配 Host OS 上的系統資源，\n",
    "避免因這個 Container 占用資源或當機時，而影響了 Host OS 或其他 Container 的執行。\n",
    "    \n",
    "    因為Container是利用系統核心控管機制來分配 Host OS 資源，也就不需要另外安裝 Guest OS 個別管理。\n",
    "    也就是說，當一臺實體伺服器內建立了 100 個 Container 時，這 100 個 Container 共用同一個 Host OS 的核心，再利用 OS 內建機制來分配每一個 Container 可用的資源。\n",
    "\n",
    "因為Container不需要執行OS，因此，一臺實體伺服器可以執行的Container數量，遠遠高於傳統虛擬化技術的虛擬機器\n",
    "開頭提到在總統版Linux在核心內建的 <font color='#00CC66'>Control Group 和 Namespaces 機制，正是用來分配 Host OS 運算資源的機制。</font>\n",
    "</p>"
   ]
  },
  {
   "cell_type": "markdown",
   "metadata": {},
   "source": [
    "## Linux核心支援促成Container標準化"
   ]
  },
  {
   "cell_type": "markdown",
   "metadata": {},
   "source": [
    "## 目標是打造Container生態系"
   ]
  },
  {
   "cell_type": "markdown",
   "metadata": {},
   "source": [
    "<p style=\"vertical-align: text-top; text-align: left; font-family: 'objektiv-mk1,Helvetica,Arial,sans-serif,Linotte Light'; white-space:pre-wrap; word-wrap:break-word;\">\n",
    "Ben Golub說：「Docker不只是一項Container技術，而是要打造一個Container生態系，讓應用程式可以在任何地方執行。」Docker要用Container技術讓應用程式具有相同的封裝方式、啟動方式、存取方式，不用修改就能在任何支援Docker的平臺上執行。因此，「Docker是一個可以來建置、移動和執行分散式應用程式的開放平臺」他說。\n",
    "\n",
    "Docker映象檔是實現Container標準化的關鍵。Docker將Container打包成一個映象檔檔案，這個檔案裡包括了所有建立Container時需要的程式和設定資訊。只要在其他支援Docker的環境中啟用這個映象檔，就能建立一個一模一樣的Container環境。\n",
    "\n",
    "\n",
    "Docker也完整支援RESTful API，可讓開發人員透過API執行所有Docker指令。甚至Docker還提供了一個腳本語法描述的Dockerfile設定檔，可以用來紀錄和描述建立Docker映象檔的每一個指令。不用複製Docker映象檔，只憑Dockerfile也可以自動建立一個和原來一模一樣的Container的映象檔。甚至可以從Registry服務下載一個映象檔，再依此來建立下一個映象檔，例如從ubuntu的映象檔中，加入MySQL程式，來建立一個內有ubuntu和MySQL的映象檔，用來啟用Container。</p>\n"
   ]
  },
  {
   "cell_type": "markdown",
   "metadata": {},
   "source": [
    "## 實現基礎架構程式化"
   ]
  },
  {
   "cell_type": "markdown",
   "metadata": {},
   "source": [
    "<p style=\"vertical-align: text-top; text-align: left; font-family: 'objektiv-mk1,Helvetica,Arial,sans-serif,Linotte Light'; white-space:pre-wrap; word-wrap:break-word;\">\n",
    "Docker實現了Infrastructure as code的精神（基礎架構程式化）。\n",
    "\n",
    "不過，因為Docker目前仍只能在單一主機上執行，需要搭配第三方工具，如Google的Kubernetes工具，才能將Container快速轉移到其他伺服器中，或是在伺服器叢集內移動。</p>"
   ]
  },
  {
   "cell_type": "markdown",
   "metadata": {},
   "source": []
  },
  {
   "cell_type": "markdown",
   "metadata": {},
   "source": [
    "# [10個Q&A快速認識Docker](https://www.ithome.com.tw/news/91847)"
   ]
  },
  {
   "cell_type": "markdown",
   "metadata": {},
   "source": [
    "<p style=\"vertical-align: text-top; text-align: left; font-family: 'objektiv-mk1,Helvetica,Arial,sans-serif,Linotte Light'; white-space:pre-wrap; word-wrap:break-word;\">Q6：一個Container映象檔內可以安裝多少應用程式？</p>\n",
    "<p style=\"vertical-align: text-top; text-align: left; font-family: 'objektiv-mk1,Helvetica,Arial,sans-serif,Linotte Light'; white-space:pre-wrap; word-wrap:break-word;\"><font color='grey'>\n",
    "Docker官方建議，一隻程式安裝在一個Container內，再把這些Container疊起來提供一個完整的服務。\n",
    "\n",
    "Docker稱這是一種Microservices（微服務）的新軟體架構，將組成一個應用系統的每一個Stack，拆解成許多小型服務，例如Apache服務、MySQL服務、Node.js服務、Ruby服務，每一個服務都是包在Container裡的一隻程式，例如MySQL服務就是部署在Container內的MySQL。\n",
    "\n",
    "這麼做的好處是可以建立一個鬆散耦合的彈性應用程式架構，也能輕易地抽換其中一個Container，例如要升級MySQL，只需要重新載入新版MySQL的Container映象檔，就可以完成資料庫升級，不用將整套應用系統停機。</font></p>"
   ]
  },
  {
   "cell_type": "markdown",
   "metadata": {},
   "source": [
    "<p style=\"vertical-align: text-top; text-align: left; font-family: 'objektiv-mk1,Helvetica,Arial,sans-serif,Linotte Light'; white-space:pre-wrap; word-wrap:break-word;\">Q7：Container內不是不需要OS，為何需要OS的基礎映象檔？\n",
    "<font color='grey'>A：OS基礎映象檔的用途是讓Container擁有這OS的檔案系統，\n",
    "例如使用ubuntu基礎映象檔就可以讓Container建立ubuntu的根目錄架構，而不是用來執行一個OS執行實例。</font></p>"
   ]
  },
  {
   "cell_type": "markdown",
   "metadata": {},
   "source": [
    "<p style=\"vertical-align: text-top; text-align: left; font-family: 'objektiv-mk1,Helvetica,Arial,sans-serif,Linotte Light'; white-space:pre-wrap; word-wrap:break-word;\">Q8：Docker對Devops有何幫助？\n",
    "<font color='grey'>A：因為Docker透過Dockerfile來記錄建立Container映象檔的每一個步驟，可以將建立應用程式執行環境的過程和配置參數，完整地記錄下來。\n",
    "甚至結合版本控制服務如GitHub，可以讓Dockerfile具備版本控制功能，\n",
    "能將基礎架構程式化（Infrastructure as code）來管理。</font></p>"
   ]
  },
  {
   "cell_type": "markdown",
   "metadata": {},
   "source": []
  },
  {
   "cell_type": "markdown",
   "metadata": {},
   "source": [
    "# [Docker社群達人教你快速踏出Docker的第一步](https://www.ithome.com.tw/news/91848)"
   ]
  },
  {
   "cell_type": "markdown",
   "metadata": {},
   "source": [
    "<div>\n",
    "    <img src='https://s4.itho.me/sites/default/files/styles/picture_size_large/public/field/image/683-%E5%B0%81%E9%9D%A2%E6%95%85%E4%BA%8B-P34-%28960%29.png?itok=NWanLtd3' width='500'/>\n",
    "</div>"
   ]
  },
  {
   "cell_type": "markdown",
   "metadata": {},
   "source": [
    "<p style=\"vertical-align: text-top; text-align: left; font-family: 'objektiv-mk1,Helvetica,Arial,sans-serif,Linotte Light'; white-space:pre-wrap; word-wrap:break-word;\">Docker是一個Client-Server架構的應用程式，\n",
    "在一個Docker執行環境中，包括了:\n",
    "- Docker用戶端程式\n",
    "- 在背景執行 (Daemon) 的 Docker 伺服器(Docker Engine)，\n",
    "另外還有將Container封裝後的Docker映象檔，用來儲存映象檔的Registry服務(Docker Hub)</p>\n",
    "\n",
    "\n",
    "<p style=\"vertical-align: text-top; text-align: left; font-family: 'objektiv-mk1,Helvetica,Arial,sans-serif,Linotte Light'; white-space:pre-wrap; word-wrap:break-word;\"><font color='grey'>\n",
    "Docker映象檔是一種分層堆疊的運作方式，採用了aufs的檔案架構。\n",
    "要建立一個可提供應用程式完整執行環境的Container映象檔，需要以下步驟:\n",
    "- 先從一個基礎映象檔（Base Image）開始疊起\n",
    "- 一層層將不同Stack的Docker映象檔疊加上去\n",
    "- 最後組合成一個應用程式所需Container執行環境的映象檔\n",
    "而每一個Stack也都是可以會匯出成（Docker commit指令）一個映象檔。\n",
    "    \n",
    "舉例來說，假設一個網頁執行環境需要有OS、Apache網站伺服器、MySQL資料庫、Ruby執行環境等不同的Stack。\n",
    "\n",
    "最常用的基礎映象檔就是ubuntu映象檔，這是用來建立Container的根目錄架構，若採用了不同的OS映象檔，就會變成是那個OS的目錄架構。</font></p>\n",
    "\n",
    "\n",
    "\n",
    "<p style=\"vertical-align: text-top; text-align: left; font-family: 'objektiv-mk1,Helvetica,Arial,sans-serif,Linotte Light'; white-space:pre-wrap; word-wrap:break-word;\">\n",
    "當一個Container結束後，\n",
    "Docker會將這個Container打包成一個暫時性的映象檔，並用一個唯一的Hash值來命名，這個映象檔則儲存在本機端的Docker暫存目錄中。\n",
    "例如剛剛啟用ubuntu映象檔建立Container來安裝了MySQL，裝妥後，這個Container也結束了，而裝妥MySQL後的Container內容則自動打包成一個暫時性的映象檔。我們就可以將這個映象檔匯出成一個長期使用的映象檔，並給予一個名字。</p>\n",
    "\n"
   ]
  },
  {
   "cell_type": "markdown",
   "metadata": {},
   "source": [
    "## 一個Stack就是一層Container映象檔"
   ]
  },
  {
   "cell_type": "markdown",
   "metadata": {},
   "source": [
    "<p style=\"vertical-align: text-top; text-align: left; font-family: 'objektiv-mk1,Helvetica,Arial,sans-serif,Linotte Light'; white-space:pre-wrap; word-wrap:break-word;\">\n",
    "反覆執行Docker來建立新的Stack映象檔時，就如同在原有ubuntu映象檔上疊上一層層新的Stack，\n",
    "最後的映象檔就會變成如ubuntu- Apache-MySQL-Ruby的映象檔。不過這個映象檔的名稱可以自訂。</p>\n",
    "\n",
    "<p style=\"vertical-align: text-top; text-align: left; font-family: 'objektiv-mk1,Helvetica,Arial,sans-serif,Linotte Light'; white-space:pre-wrap; word-wrap:break-word;\"><font color='#00CC66'>因為建立Container後是在記憶體中運作，寫在Container內的資料，在Container結束後就消失了，</font>\n",
    "所以，Docker也提供了一個<font color='#00CC66'>Data Volume參數（docker -v參數），可用來將外部目錄對應到Container內部目錄。\n",
    "當Container內的程式將資料寫到這個內部目錄時，就等同於將資料寫到所對應的外部目錄。</font></p>\n",
    "\n",
    "\n",
    "<p style=\"vertical-align: text-top; text-align: left; font-family: 'objektiv-mk1,Helvetica,Arial,sans-serif,Linotte Light'; white-space:pre-wrap; word-wrap:break-word;\"><font color='grey'>\n",
    "例如可以設定要執行一個MySQL映象檔時，同時將一個本機端（或雲端）的目錄路徑，設定成Container內部的/mysql目錄，作為MySQL資料庫檔案的所在位置。\n",
    "這樣應用程式每次新增資料到MySQL資料庫時，寫入了Container內的/mysql目錄，也等同於寫入了外部所指定的本地端目錄。\n",
    "當MySQLContainer結束後，外部資料的不會隨著Container終止而消失，\n",
    "下次再度啟動MySQL Container，只要內部/mysql也對應到同樣的本地端目錄，就能取得先前所儲存的資料。</font></p>"
   ]
  },
  {
   "cell_type": "markdown",
   "metadata": {},
   "source": [
    "## 一行指令就能完成執行環境所有部署"
   ]
  },
  {
   "cell_type": "markdown",
   "metadata": {},
   "source": [
    "<table>\n",
    "    <td>\n",
    "        <img src='https://s4.itho.me/sites/default/files/images/683-%E5%B0%81%E9%9D%A2%E6%95%85%E4%BA%8B-P34-(600).PNG' width='500'/>\n",
    "        <p style=\"text-align: left; font-family: 'objektiv-mk1'; white-space:pre-wrap; word-wrap:break-word;\">Docker Hub結合GitHub後，\n",
    "只要下載Dockerfile設定檔，就能依據Dockerfile內的腳本指令，自動一步步建立應用程式所需的執行環境映象檔。</p>\n",
    "    </td>\n",
    "</table>"
   ]
  },
  {
   "cell_type": "code",
   "execution_count": null,
   "metadata": {},
   "outputs": [],
   "source": []
  }
 ],
 "metadata": {
  "kernelspec": {
   "display_name": "Python 3",
   "language": "python",
   "name": "python3"
  },
  "language_info": {
   "codemirror_mode": {
    "name": "ipython",
    "version": 3
   },
   "file_extension": ".py",
   "mimetype": "text/x-python",
   "name": "python",
   "nbconvert_exporter": "python",
   "pygments_lexer": "ipython3",
   "version": "3.7.4"
  }
 },
 "nbformat": 4,
 "nbformat_minor": 4
}
