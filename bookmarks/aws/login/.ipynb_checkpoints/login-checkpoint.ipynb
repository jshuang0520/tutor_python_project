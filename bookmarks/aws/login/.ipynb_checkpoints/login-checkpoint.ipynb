{
 "cells": [
  {
   "cell_type": "markdown",
   "id": "4020a206-f38e-423f-b56d-f5ef82c26496",
   "metadata": {},
   "source": [
    "# reference\n",
    "\n",
    "- [switch-role](https://docs.aws.amazon.com/IAM/latest/UserGuide/id_roles_use_switch-role-api.html)"
   ]
  },
  {
   "cell_type": "code",
   "execution_count": null,
   "id": "c36bcae3-a18f-4b87-ad63-05dc13593ed4",
   "metadata": {},
   "outputs": [],
   "source": []
  }
 ],
 "metadata": {
  "kernelspec": {
   "display_name": "Python 3",
   "language": "python",
   "name": "python3"
  },
  "language_info": {
   "codemirror_mode": {
    "name": "ipython",
    "version": 3
   },
   "file_extension": ".py",
   "mimetype": "text/x-python",
   "name": "python",
   "nbconvert_exporter": "python",
   "pygments_lexer": "ipython3",
   "version": "3.7.4"
  }
 },
 "nbformat": 4,
 "nbformat_minor": 5
}
