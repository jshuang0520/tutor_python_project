{
 "cells": [
  {
   "cell_type": "markdown",
   "metadata": {},
   "source": [
    "google: hyphen dash difference\n",
    "\n",
    "## [Hyphen vs. Dash–What's the Difference? - Grammarly](https://www.grammarly.com/blog/hyphens-and-dashes/#:~:text=What's%20the%20Difference%20Between%20a%20Hyphen%20and%20a%20Dash%3F&text=A%20hyphen%20(%2D)%20is%20a,a%20range%20or%20a%20pause.)"
   ]
  },
  {
   "cell_type": "markdown",
   "metadata": {},
   "source": [
    "<p style=\"vertical-align: text-top; text-align: left; font-family: 'objektiv-mk1,Helvetica,Arial,sans-serif,Linotte Light'; white-space:pre-wrap; word-wrap:break-word;\">\n",
    "<font color='grey' size='5px'>What’s the Difference Between a Hyphen and a Dash?</font>\n",
    "<font color='#00CC66'>let's see</font>\n",
    "\n",
    "    A hyphen (-) is a punctuation mark that’s used to join words or parts of words. It’s not interchangeable with other types of dashes.\n",
    "    \n",
    "    A dash is longer than a hyphen and is commonly used to indicate a range or a pause. The most common types of dashes are the en dash (–) and the em dash (—).\n",
    "\n",
    "<font color='grey' size='4px'>When to Use Hyphens</font>\n",
    "    \n",
    "    - Some compound words\n",
    "    \n",
    "    A compound modifier (also called a phrasal adjective) is made up of two or more words that must be understood as a unit.\n",
    "\n",
    "    e.g. “a dog-friendly hotel”\n",
    "    \n",
    "</p>\n",
    "\n",
    "\n"
   ]
  },
  {
   "cell_type": "code",
   "execution_count": null,
   "metadata": {},
   "outputs": [],
   "source": []
  }
 ],
 "metadata": {
  "kernelspec": {
   "display_name": "Python 3",
   "language": "python",
   "name": "python3"
  },
  "language_info": {
   "codemirror_mode": {
    "name": "ipython",
    "version": 3
   },
   "file_extension": ".py",
   "mimetype": "text/x-python",
   "name": "python",
   "nbconvert_exporter": "python",
   "pygments_lexer": "ipython3",
   "version": "3.7.4"
  }
 },
 "nbformat": 4,
 "nbformat_minor": 4
}
