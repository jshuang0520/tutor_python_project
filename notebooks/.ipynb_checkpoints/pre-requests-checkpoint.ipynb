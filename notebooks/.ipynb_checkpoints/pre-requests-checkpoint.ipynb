{
 "cells": [
  {
   "cell_type": "markdown",
   "id": "d5fd1648",
   "metadata": {},
   "source": [
    "## pre-requests"
   ]
  },
  {
   "cell_type": "markdown",
   "id": "ff1ca5bb",
   "metadata": {},
   "source": [
    "- IDE\n",
    "\n",
    "> pip3 install jupyterlab\n",
    "\n",
    "other ways to install: https://pypi.org/project/jupyterlab/"
   ]
  },
  {
   "cell_type": "markdown",
   "id": "506b5731",
   "metadata": {},
   "source": [
    "- for shortcuts\n",
    "\n",
    "> pip3 install jupyterlab-sublime"
   ]
  },
  {
   "cell_type": "markdown",
   "id": "aa4e4fc0",
   "metadata": {},
   "source": [
    "- flowchart: drawio\n",
    "\n",
    "> pip3 install jupyterlab-drawio"
   ]
  },
  {
   "cell_type": "markdown",
   "id": "c4b29b0d-b72d-4d9c-99ab-4991e9960c37",
   "metadata": {},
   "source": [
    "- terminal preview jupyter notebook\n",
    "\n",
    "> pip3 install nbpreview"
   ]
  },
  {
   "cell_type": "markdown",
   "id": "f0890026",
   "metadata": {},
   "source": [
    "## dataset to practice"
   ]
  },
  {
   "cell_type": "markdown",
   "id": "61891765",
   "metadata": {},
   "source": [
    "- kaggle playground - Titanic (binary classification problem)\n",
    "\n",
    "> https://www.kaggle.com/c/titanic/data?select=gender_submission.csv"
   ]
  },
  {
   "cell_type": "code",
   "execution_count": null,
   "id": "49463ee6",
   "metadata": {},
   "outputs": [],
   "source": []
  },
  {
   "cell_type": "markdown",
   "id": "f7a537e8",
   "metadata": {},
   "source": [
    "# turn the notebook to slides\n",
    "\n",
    "- In jupyter notebook (jupyter lab not yet implemented)\n",
    "  - View -> Cell Toolbar -> Slideshow\n",
    "\n",
    "> jupyter nbconvert [YOUR_NOTEBOOK].ipynb --to slides --reveal-prefix reveal.js --post serve"
   ]
  },
  {
   "cell_type": "code",
   "execution_count": null,
   "id": "324d7d33",
   "metadata": {},
   "outputs": [],
   "source": []
  }
 ],
 "metadata": {
  "kernelspec": {
   "display_name": "Python 3",
   "language": "python",
   "name": "python3"
  },
  "language_info": {
   "codemirror_mode": {
    "name": "ipython",
    "version": 3
   },
   "file_extension": ".py",
   "mimetype": "text/x-python",
   "name": "python",
   "nbconvert_exporter": "python",
   "pygments_lexer": "ipython3",
   "version": "3.7.4"
  },
  "toc": {
   "base_numbering": 1,
   "nav_menu": {},
   "number_sections": true,
   "sideBar": true,
   "skip_h1_title": false,
   "title_cell": "Table of Contents",
   "title_sidebar": "Contents",
   "toc_cell": false,
   "toc_position": {},
   "toc_section_display": true,
   "toc_window_display": false
  }
 },
 "nbformat": 4,
 "nbformat_minor": 5
}
