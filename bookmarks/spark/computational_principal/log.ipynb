{
 "cells": [
  {
   "cell_type": "markdown",
   "id": "a805cdea-f8df-498a-ab57-b2aa4c9921c9",
   "metadata": {},
   "source": [
    "# [cluster mode, client mode, local mode](https://blog.knoldus.com/cluster-vs-client-execution-modes-for-a-spark-application/)\n",
    "\n",
    "-> figure illustration\n",
    "\n"
   ]
  },
  {
   "cell_type": "markdown",
   "id": "9391bffc-5b7c-4d8b-835a-b242a20f32a4",
   "metadata": {},
   "source": [
    "# log in cluster mode\n",
    "\n",
    "## $ yarn application -list -appStates FINISHED \n",
    "\n",
    "-> to check [YOUR_YARN_APP_ID] \n",
    "\n",
    "\n",
    "\n",
    "## $ yarn logs [YOUR_YARN_APP_ID]"
   ]
  },
  {
   "cell_type": "code",
   "execution_count": null,
   "id": "7de78c7b-92e7-492f-a1d4-d292b5d5d705",
   "metadata": {},
   "outputs": [],
   "source": []
  },
  {
   "cell_type": "markdown",
   "id": "0ccd8f8a-8b48-4f0c-9269-d59832b240dd",
   "metadata": {},
   "source": [
    "check groups of a user\n",
    "\n",
    "$ groups [YOUR_USER_NAME]\n",
    "\n",
    "\n",
    "-\n",
    "\n",
    "check permission for a user\n",
    "\n",
    "- in dir perspective\n",
    "\n",
    "$ hadoop fs -ls [HADOOP_DIR]\n",
    "\n",
    "- in user perspective\n",
    "\n",
    "$ hadoop fs -getfacl [HADOOP_DIR]\n",
    "\n",
    "\n",
    "set permission for a user\n",
    "\n",
    "$ hadoop fs -setfacl -R -m user:[YOUR_USER_NAME]:rwx [HADOOP_DIR]\n",
    "\n",
    "\n",
    "--\n",
    "\n",
    "[.sparkStaging issue](https://stackoverflow.com/questions/42723604/how-to-set-spark-job-staging-location)\n",
    "\n",
    "yarn 執行的過程會把 jdbc 所需的 jar / python, pyspark zip 寫進 /user/big_data_etl/.sparkStaging 裡面來給他使用，執行完會再把剛剛那個暫存的檔案夾清空\n",
    "\n",
    "算是驗證我剛剛的猜想，在我做 ingest, etl 以外的地方有碰到 /user\n",
    "\n",
    "spark.yarn.stagingDir\n",
    "\n",
    "spark-defaults.conf\n",
    "\n",
    "By default, the staging location is current user's home directory /user/username/ in HDFS filesystem.\n",
    "\n",
    "\n",
    "\n",
    "--\n",
    "\n",
    "[core-site.xml](https://blog.csdn.net/Yuzhiyuxia/article/details/20001389)\n",
    "\n",
    "\n",
    "--\n",
    "\n",
    "mask / umask\n",
    "\n",
    "[mask](https://stackoverflow.com/questions/30995019/what-is-mask-in-hdfs-folder-permission)\n",
    "\n",
    "看來 mask 是「最終設定的權限」?\n",
    "\n",
    "\n",
    "[umask 效果](https://askubuntu.com/questions/44542/what-is-umask-and-how-does-it-work)\n",
    "\n",
    "directory permission   777 = 111 111 111 \n",
    "\n",
    "unmask value           077 = 000 111 111\n",
    "\n",
    "will result in         700 = 111 000 000\n"
   ]
  },
  {
   "cell_type": "code",
   "execution_count": null,
   "id": "ee461012-4054-47ca-8e70-6ffe6fe7d9f3",
   "metadata": {},
   "outputs": [],
   "source": []
  }
 ],
 "metadata": {
  "kernelspec": {
   "display_name": "Python 3",
   "language": "python",
   "name": "python3"
  },
  "language_info": {
   "codemirror_mode": {
    "name": "ipython",
    "version": 3
   },
   "file_extension": ".py",
   "mimetype": "text/x-python",
   "name": "python",
   "nbconvert_exporter": "python",
   "pygments_lexer": "ipython3",
   "version": "3.7.4"
  }
 },
 "nbformat": 4,
 "nbformat_minor": 5
}
