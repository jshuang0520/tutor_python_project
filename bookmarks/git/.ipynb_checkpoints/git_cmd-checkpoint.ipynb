{
 "cells": [
  {
   "cell_type": "markdown",
   "metadata": {},
   "source": [
    "# reference\n",
    "\n",
    "- tag\n",
    "    - [GIT Commit to an existing Tag](https://gist.github.com/danielestevez/2044589)\n",
    "    - [protected_tags](https://docs.gitlab.com/ee/user/project/protected_tags.html)\n"
   ]
  },
  {
   "cell_type": "code",
   "execution_count": null,
   "metadata": {},
   "outputs": [],
   "source": []
  },
  {
   "cell_type": "markdown",
   "metadata": {},
   "source": [
    "# git - update a specific file from git (even from different branch)\n",
    "\n",
    "```\n",
    "git fetch <specific_branch>\n",
    "\n",
    "git checkout <specific_branch> -- path/to/the/file\n",
    "```\n"
   ]
  },
  {
   "cell_type": "markdown",
   "metadata": {},
   "source": []
  },
  {
   "cell_type": "markdown",
   "metadata": {},
   "source": [
    "# git log"
   ]
  },
  {
   "cell_type": "markdown",
   "metadata": {},
   "source": [
    "- reference: [git-log(1) Manual Page](https://mirrors.edge.kernel.org/pub/software/scm/git/docs/git-log.html)\n",
    "\n",
    "--\n",
    "\n",
    "<p style=\"vertical-align: text-top; text-align: left; font-family: 'objektiv-mk1,Helvetica,Arial,sans-serif,Linotte Light'; white-space:pre-wrap; word-wrap:break-word;\">\n",
    "<font color='00CC66' size='5px'>git commit log</font>\n",
    "</p>\n",
    "\n",
    "```\n",
    "git log --all --color --graph --pretty=format:'%Cred%h%Creset -%C(yellow)%d%Creset %s %Cgreen(%as, %cr) %C(bold blue)<%an>%Creset' --date=iso\n",
    "```\n",
    "\n",
    "- <font color='grey' size='3px'>output</font>\n",
    "* <font color='red'>[SHORT_CIMMIT_SHA]</font> - <font color='#feca2d'>(HEAD -> [BRANCH])</font> [feat: COMMIT_MESSAGE] <font color='green'>(yyyy-mm-dd, n months ago)</font> <font color='blue'>[AUTHOR_NAME]</font>\n",
    "\n",
    "--\n",
    "\n",
    "```\n",
    "git log --all --color --graph --pretty=format:'%Cred%h%Creset -%C(yellow)%d%Creset %s %Cgreen(%cr) %C(bold blue)<%an>%Creset' --abbrev-commit\n",
    "```\n",
    "- <font color='grey' size='3px'>output</font>\n",
    "* <font color='red'>[SHORT_CIMMIT_SHA]</font> - <font color='#feca2d'>(HEAD -> [BRANCH])</font> [feat: COMMIT_MESSAGE] <font color='green'>(n months ago)</font> <font color='blue'>[AUTHOR_NAME]</font>"
   ]
  },
  {
   "cell_type": "markdown",
   "metadata": {},
   "source": [
    "# git - history of a file"
   ]
  },
  {
   "cell_type": "markdown",
   "metadata": {},
   "source": [
    "<p style=\"vertical-align: text-top; text-align: left; font-family: 'objektiv-mk1,Helvetica,Arial,sans-serif,Linotte Light'; white-space:pre-wrap; word-wrap:break-word;\">\n",
    "<font color='00CC66' size='5px'>git list all commits of a specific file</font>\n",
    "</p>\n",
    "\n",
    "```\n",
    "git log --follow --abbrev-commit --color -- [YOUR_FILE].py\n",
    "```\n",
    "\n",
    "- <font color='grey' size='3px'>output</font>\n",
    "\n",
    "```\n",
    "commit [SHORT_COMMIT_SHA]\n",
    "Author: [AUTHOR]\n",
    "Date:   [DATE]\n",
    "\n",
    "    [YOUR_COMMIT_MESSAGE]\n",
    "\n",
    "commit [SHORT_COMMIT_SHA]\n",
    "Author: [AUTHOR]\n",
    "Date:   [DATE]\n",
    "\n",
    "    [YOUR_COMMIT_MESSAGE]\n",
    "```"
   ]
  },
  {
   "cell_type": "markdown",
   "metadata": {},
   "source": [
    "<p style=\"vertical-align: text-top; text-align: left; font-family: 'objektiv-mk1,Helvetica,Arial,sans-serif,Linotte Light'; white-space:pre-wrap; word-wrap:break-word;\">\n",
    "<font color='00CC66' size='5px'>git diff a file in different commits</font>\n",
    "</p>\n",
    "\n",
    "\n",
    "git diff <font color='red'>[COMMIT_SHA_1(OLD,red)]</font> <font color='00CC66'>[COMMIT_SHA_2(NEW,green)]</font> -- [PATH_TO_YOUR_FILE]\n",
    "\n",
    "\n",
    "- <font color='grey' size='3px'>output</font>\n",
    "\n",
    "<font color='00CC66' size='5px'>----------</font>\n",
    "```\n",
    "+sed \\\n",
    "+-e \"s|\\\"{|$comma_replc{|g\" \\\n",
    "+-e \"s|}\\\"|}$comma_replc|g\" \\\n",
    "+${input_vm_info} \\\n",
    "+> ${output_meta_vm_info}\n",
    "```\n",
    "<font color='00CC66' size='5px'>----------</font>\n",
    "\n",
    "\n",
    "\n",
    "<font color='red' size='5px'>----------</font>\n",
    "```\n",
    "+## method 2\n",
    " #sed \\\n",
    " #-e \"s|\\\"{|{|g\" \\\n",
    " #-e \"s|}\\\"|}|g\" \\\n",
    "-#-e \"s|\\\"{|'\"$comma_replc\"'{|g\" -e \"s|}\\\"|}'\"$comma_replc\"'|g\"\n",
    "+#-e \"s|, |$comma_replc |g\" \\\n",
    "+#-e 's|\\([[:alnum:]]\\+\\.\\),|\\1'\"$comma_replc_2\"' |g' \\\n",
    "+#-e 's|\"en-US\": \"\\([[:alnum:]]\\+\\),\\([[:alnum:]]\\+\\)|\"en-US\": \"\\1'\"$comma_replc_2\"' \\2|g' \\\n",
    "+#-e 's|County,|County'\"$comma_replc_2\"' |g' \\\n",
    "+#-e 's|City,|City'\"$comma_replc_2\"' |g' \\\n",
    "+#-e 's|District,|District'\"$comma_replc_2\"' |g' \\\n",
    "+#-e 's|Town,|Town'\"$comma_replc_2\"' |g' \\\n",
    " #${input_vm_info} \\\n",
    " #> ${output_meta_vm_info}\n",
    "-sed \\\n",
    "--e \"s|\\\"{|{|g\" \\\n",
    "--e \"s|}\\\"|}|g\" \\\n",
    "--e \"s|, |$comma_replc |g\" \\\n",
    "--e 's|\\([[:alnum:]]\\+\\.\\),|\\1'\"$comma_replc_2\"' |g' \\\n",
    "--e 's|\"en-US\": \"\\([[:alnum:]]\\+\\),\\([[:alnum:]]\\+\\)|\"en-US\": \"\\1'\"$comma_replc_2\"' \\2|g' \\\n",
    "--e 's|County,|County'\"$comma_replc_2\"' |g' \\\n",
    "--e 's|City,|City'\"$comma_replc_2\"' |g' \\\n",
    "--e 's|District,|District'\"$comma_replc_2\"' |g' \\\n",
    "--e 's|Town,|Town'\"$comma_replc_2\"' |g' \\\n",
    "-${input_vm_info} \\\n",
    "-> ${output_meta_vm_info}\n",
    "```\n",
    "<font color='red' size='5px'>----------</font>"
   ]
  },
  {
   "cell_type": "markdown",
   "metadata": {},
   "source": [
    "<p style=\"vertical-align: text-top; text-align: left; font-family: 'objektiv-mk1,Helvetica,Arial,sans-serif,Linotte Light'; white-space:pre-wrap; word-wrap:break-word;\">\n",
    "<font color='00CC66' size='5px'>git log show history of a file</font>\n",
    "</p>\n",
    "\n",
    "```\n",
    "git log -p -- [PATH/TO/FILE]\n",
    "```\n",
    "\n",
    "- <font color='grey' size='3px'>output</font>\n",
    "<div class=\"alert-danger\">-            previous code</div>\n",
    "<div class=\"alert-success\">+            current code</div>"
   ]
  },
  {
   "cell_type": "markdown",
   "metadata": {},
   "source": [
    "<p style=\"vertical-align: text-top; text-align: left; font-family: 'objektiv-mk1,Helvetica,Arial,sans-serif,Linotte Light'; white-space:pre-wrap; word-wrap:break-word;\">\n",
    "<font color='00CC66' size='5px'>git diff files</font>\n",
    "</p>\n",
    "\n",
    "```\n",
    "git diff HEAD~[PREVIOUS_N_COMMITS] -- [PATH/TO/FILE]\n",
    "```\n",
    "\n",
    "- <font color='grey' size='3px'>output</font>\n",
    "<div class=\"alert-danger\">-            previous code</div>\n",
    "<div class=\"alert-success\">+            current code</div>"
   ]
  },
  {
   "cell_type": "code",
   "execution_count": null,
   "metadata": {},
   "outputs": [],
   "source": []
  }
 ],
 "metadata": {
  "kernelspec": {
   "display_name": "Python 3",
   "language": "python",
   "name": "python3"
  },
  "language_info": {
   "codemirror_mode": {
    "name": "ipython",
    "version": 3
   },
   "file_extension": ".py",
   "mimetype": "text/x-python",
   "name": "python",
   "nbconvert_exporter": "python",
   "pygments_lexer": "ipython3",
   "version": "3.7.4"
  }
 },
 "nbformat": 4,
 "nbformat_minor": 4
}
