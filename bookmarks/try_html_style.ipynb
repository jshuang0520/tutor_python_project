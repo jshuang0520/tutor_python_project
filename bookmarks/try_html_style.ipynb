{
 "cells": [
  {
   "cell_type": "markdown",
   "metadata": {},
   "source": [
    "<html lang=\"en-US\" class=\" \">\n",
    "    <head>\n",
    "        <title>Install Helm | Kubernetes + Knative + GitLab + Harbor</title>\n",
    "    </head>\n",
    "    <body data-new-gr-c-s-check-loaded=\"14.1050.0\" data-gr-ext-installed>\n",
    "        <h1 id=\"install-helm\">\n",
    "            <a href=\"#install-helm\" class=\"header-anchor\">#</a>\n",
    "            \" Install Helm\"\n",
    "        </h1>\n",
    "        <div class=\"language-bash extra-class\">\n",
    "            ::before\n",
    "            <pre class=\"language-bash\">\n",
    "                <code>\n",
    "                    <span class=\"token function\">curl</span>\n",
    "                    \" -s https://raw.githubusercontent.com/helm/helm/master/scripts/get-helm-3 \"\n",
    "                    <span class=\"token operator\">|</span>\n",
    "                    <span class=\"token function\">bash</span>\n",
    "                </code>\n",
    "            </pre>\n",
    "        </div>\n",
    "    </body>\n",
    "</html>"
   ]
  },
  {
   "cell_type": "markdown",
   "metadata": {},
   "source": [
    "<html lang=\"en-US\" class=\" \">\n",
    "    <div class=\"language-bash extra-class\">\n",
    "        ::before\n",
    "        <pre class=\"language-bash\">\n",
    "            <code>\n",
    "                <span class=\"token function\">curl</span>\n",
    "                    \" -s https://raw.githubusercontent.com/helm/helm/master/scripts/get-helm-3 \"\n",
    "                <span class=\"token operator\">|</span>\n",
    "                <span class=\"token function\">bash</span>\n",
    "            </code>\n",
    "        </pre>\n",
    "    </div>\n",
    "</html>"
   ]
  },
  {
   "cell_type": "code",
   "execution_count": null,
   "metadata": {},
   "outputs": [],
   "source": [
    "# https://ruzickap.github.io/k8s-knative-gitlab-harbor/part-02/"
   ]
  }
 ],
 "metadata": {
  "kernelspec": {
   "display_name": "Python 3",
   "language": "python",
   "name": "python3"
  },
  "language_info": {
   "codemirror_mode": {
    "name": "ipython",
    "version": 3
   },
   "file_extension": ".py",
   "mimetype": "text/x-python",
   "name": "python",
   "nbconvert_exporter": "python",
   "pygments_lexer": "ipython3",
   "version": "3.7.4"
  }
 },
 "nbformat": 4,
 "nbformat_minor": 4
}
