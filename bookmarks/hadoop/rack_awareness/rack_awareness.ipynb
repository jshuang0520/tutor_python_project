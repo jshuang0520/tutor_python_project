{
 "cells": [
  {
   "cell_type": "markdown",
   "metadata": {},
   "source": [
    "\n",
    "- google: hadoop rack config setting\n",
    "  - [Configuring rack-aware scheduling](https://www.ibm.com/docs/en/spectrum-symphony/7.2.0?topic=works-configuring-rack-aware-scheduling)\n",
    "    - Step 1: Define your network topology with scripts\n",
    "    - Step 2: Set up a configuration file for your topology script\n",
    "    - Step 3: Enable rack-aware scheduling for the application\n",
    "    \n",
    "\n",
    "- google: hadoop off site rack config\n",
    "  - [Apache Hadoop 3.3.2 – Rack Awareness](https://hadoop.apache.org/docs/stable/hadoop-project-dist/hadoop-common/RackAwareness.html)\n",
    "  \n",
    "  \n",
    "- google: hadoop rack \"site\"\n",
    "  - [Rack的設定!! - TonyMoMo的部落格- 痞客邦](https://tonymomo.pixnet.net/blog/post/64963104)\n",
    "    - settings\n",
    "        - 1. 設定core-site.xml\n",
    "        - 2. rack.py的寫法\n",
    "        - <font color='red'>請記得要使用chmod +x修改rack.py</font>\n",
    "        - <font color='red'>請記得叢集中的每一台都需要有 \"rack.py\" 以及 \"設定後的core-site.xml\"</font>\n",
    "        - 重開namenode 與 datanode即可\n",
    "        - Rack awareness於hadooop definition guide second edition 中文版(p.61與p.261有說明)\n",
    "    - why rack awareness?\n",
    "      - Rack awareness 於 hadoop 最大的用途為 :\n",
    "      - 1. <font color='orange'>資料的副本配置</font>: (兩個復本在同一個rack上，另一個則在不同的rack上)，而這個副本的配置也與MapReduce的運作息息相關，因為Mapreduce的強項就是\"在地運算\"\n",
    "      - 2. <font color='orange'>資料修復的速度</font>: 這是因為同一個rack的頻寬較大，如果要跨rack做資料的拷貝會比較花時間\n",
    "        - note. 這導出一個問題: namenode如何知道資料有誤? \n",
    "        > 它是透過checksum機制(CRC-32)來得知\n",
    "        - checksum啟動時機:\n",
    "          - a. 當你存資料進入hdfs時就會計算資料的CRC-32，每一個datanode會在背景執行緒上執行DataBlockScanner，用來定期檢查datanode上所有區塊，若發現有錯誤則會將正確的復本複製過來(當然會避免client讀取到壞掉的區塊)，然後把壞掉的區塊刪除 )\n",
    "          - b. 當你從datanode讀取資料時\n",
    "      - 3. <font color='orange'>資料安全性的考量</font>: 因為資料都在同一個rack上，萬一掛了...就真的沒救了"
   ]
  },
  {
   "cell_type": "code",
   "execution_count": null,
   "metadata": {},
   "outputs": [],
   "source": []
  }
 ],
 "metadata": {
  "kernelspec": {
   "display_name": "Python 3",
   "language": "python",
   "name": "python3"
  },
  "language_info": {
   "codemirror_mode": {
    "name": "ipython",
    "version": 3
   },
   "file_extension": ".py",
   "mimetype": "text/x-python",
   "name": "python",
   "nbconvert_exporter": "python",
   "pygments_lexer": "ipython3",
   "version": "3.7.4"
  }
 },
 "nbformat": 4,
 "nbformat_minor": 4
}
