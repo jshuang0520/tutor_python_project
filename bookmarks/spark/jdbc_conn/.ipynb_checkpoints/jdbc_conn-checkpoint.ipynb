{
 "cells": [
  {
   "cell_type": "markdown",
   "metadata": {},
   "source": [
    "- google: spark thrift server jdbc\n",
    "  - [hive](https://jaceklaskowski.gitbooks.io/mastering-spark-sql/content/demo/demo-connecting-spark-sql-to-hive-metastore.html)\n",
    "  - [sts](https://jaceklaskowski.gitbooks.io/mastering-spark-sql/content/spark-sql-thrift-server.html)\n",
    "\n",
    "\n",
    "- google: pyspark read hive table options schema\n",
    "  - [official doc](https://spark.apache.org/docs/latest/sql-data-sources-hive-tables.html)\n",
    "\n",
    "\n",
    "- google: spark thrift server  \n",
    "  - [Spark Thrift Server 架構和原理介紹](https://blog.csdn.net/u013332124/article/details/90339850)"
   ]
  },
  {
   "cell_type": "code",
   "execution_count": null,
   "metadata": {},
   "outputs": [],
   "source": [
    "import warnings\n",
    "\n",
    "def action_with_warnings():\n",
    "    warnings.warn(\"should not appear\")\n",
    "\n",
    "with warnings.catch_warnings(record=True):\n",
    "    action_with_warnings()"
   ]
  },
  {
   "cell_type": "code",
   "execution_count": 1,
   "metadata": {},
   "outputs": [],
   "source": [
    "from pyspark.sql import (SparkSession, functions as F)\n",
    "from pyspark.sql.types import *\n",
    "from pyspark.storagelevel import *\n",
    "\n",
    "\n",
    "def create_spark_sess(app_name='check_flag_pcrt', master='local[3]'):\n",
    "    # # FIXME: SPARK_SQL_WAREHOUSE_DIR should be in config for different roles (users)\n",
    "    # .config(DfOptConst.SPARK_SQL_WAREHOUSE_DIR.value, 'hdfs://bdcluster:8020/user/big_data_etl/spark-warehouse') \\\n",
    "    spark_session = SparkSession \\\n",
    "        .builder \\\n",
    "        .appName(app_name) \\\n",
    "        .master(master) \\\n",
    "        .getOrCreate()\n",
    "    return spark_session\n",
    "\n",
    "\n",
    "spark = create_spark_sess(master='local[3]')\n",
    "# sc = spark.sparkContext\n",
    "# spark.sparkContext.setLogLevel('WARN')"
   ]
  },
  {
   "cell_type": "code",
   "execution_count": null,
   "metadata": {},
   "outputs": [],
   "source": []
  }
 ],
 "metadata": {
  "kernelspec": {
   "display_name": "Python 3",
   "language": "python",
   "name": "python3"
  },
  "language_info": {
   "codemirror_mode": {
    "name": "ipython",
    "version": 3
   },
   "file_extension": ".py",
   "mimetype": "text/x-python",
   "name": "python",
   "nbconvert_exporter": "python",
   "pygments_lexer": "ipython3",
   "version": "3.7.4"
  }
 },
 "nbformat": 4,
 "nbformat_minor": 4
}
