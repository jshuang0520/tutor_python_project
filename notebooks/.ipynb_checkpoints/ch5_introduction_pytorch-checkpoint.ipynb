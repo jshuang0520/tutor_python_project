{
 "cells": [
  {
   "cell_type": "code",
   "execution_count": 8,
   "id": "54e2b587-7412-4d94-b835-0171c58efcc4",
   "metadata": {},
   "outputs": [],
   "source": [
    "# -*- coding: utf-8 -*-\n",
    "import logging\n",
    "import matplotlib.pyplot as plt\n",
    "import numpy as np\n",
    "import pandas as pd\n",
    "import seaborn as sns\n",
    "import torch\n",
    "import warnings\n",
    "\n",
    "%matplotlib inline\n",
    "pd.set_option('display.max_rows', 30)\n",
    "pd.set_option('display.max_columns', None)\n",
    "# pd.set_option('display.width', 1000)\n",
    "warnings.filterwarnings('ignore')\n",
    "# to avoid lots of INFO\n",
    "logger = logging.getLogger()\n",
    "logger.setLevel(logging.CRITICAL)"
   ]
  },
  {
   "cell_type": "code",
   "execution_count": null,
   "id": "1f89bf85-31a5-4db7-8978-3b31db1f02ac",
   "metadata": {},
   "outputs": [],
   "source": []
  },
  {
   "cell_type": "markdown",
   "id": "2394902a-0432-48d0-aee8-57086536527b",
   "metadata": {},
   "source": [
    "# Introduction to Pytorch - Topics Cover the Following:\n",
    "\n",
    "- data structure\n",
    "\n",
    "- forward pass/propagation (every pytorch code must define this function)\n",
    "\n",
    "- customized loss function definition"
   ]
  },
  {
   "cell_type": "code",
   "execution_count": null,
   "id": "be76915e-4540-4b13-bc68-8710fb23636a",
   "metadata": {},
   "outputs": [],
   "source": []
  },
  {
   "cell_type": "markdown",
   "id": "b718e636-153e-4f92-bba0-f9b78b32dbaf",
   "metadata": {},
   "source": [
    "# [data structure](https://www.google.com/search?q=scalar+vector+matrix+tensor&tbm=isch&ved=2ahUKEwjN3-WthO31AhWBat4KHb_QDJgQ2-cCegQIABAA&oq=scalar+vector+matrix+tensor&gs_lcp=CgNpbWcQAzIFCAAQgAQyBggAEAgQHlC7BVi7BWDwB2gAcAB4AIABOIgBZ5IBATKYAQCgAQGqAQtnd3Mtd2l6LWltZ8ABAQ&sclient=img&ei=gcUAYo2bN4HV-Qa_obPACQ&bih=914&biw=1920)\n",
    "\n",
    "- [TENSORS](https://pytorch.org/tutorials/beginner/basics/tensorqs_tutorial.html#:~:text=Tensors%20are%20a%20specialized%20data,GPUs%20or%20other%20hardware%20accelerators.)\n",
    "  > Tensors are a specialized data structure that are very similar to arrays and matrices. <font color='red'>In PyTorch, we use tensors to encode the inputs and outputs of a model, as well as the model’s parameters.</font>\n",
    "  > <font color='red'>Tensors are similar to NumPy’s ndarrays</font>, except that tensors can run on GPUs or other hardware accelerators. \n",
    "\n",
    "- scaler: 0-way tensor (0d array)\n",
    "\n",
    "- vector: 1-way tensor (1d array)\n",
    "\n",
    "- matrix: 2-way tensor (2d array)\n",
    "\n",
    "- tensor: 3-way tensor (3d array)\n",
    "\n",
    "- 4-way tensor (4d array)\n",
    "\n",
    "- 5-way tensor (5d array)\n",
    "\n",
    "- 6-way tensor (6d array)\n",
    "\n",
    "- N-way tensor (nd array -> numpy: ndarray)\n",
    "\n",
    "<table>\n",
    "    <tr>\n",
    "        <td>\n",
    "            <img src='https://149695847.v2.pressablecdn.com/wp-content/uploads/2022/02/tensor.png' width='300'/>\n",
    "            <p style=\"text-align: center;\"></p>\n",
    "        </td>\n",
    "        <td>\n",
    "            <img src='https://www.researchgate.net/profile/Dmytro-Shulga/publication/332263806/figure/fig3/AS:745257088086019@1554694544935/Tensors-as-generalizations-of-scalars-vectors-and-matrices.png' width='600'/>\n",
    "            <p style=\"text-align: center;\"></p>\n",
    "        </td>\n",
    "        <td>\n",
    "            <img src='https://i.ytimg.com/vi/ir-Eg684MR4/hqdefault.jpg' width='400'/>\n",
    "            <p style=\"text-align: center;\"></p>\n",
    "        </td>\n",
    "        <td>\n",
    "            <img src='https://programmerall.com/images/540/3b/3bc254c1db9fd4e12862be62b227f55c.JPEG' width='400'/>\n",
    "            <p style=\"text-align: center;\"></p>\n",
    "        </td>\n",
    "        <td>\n",
    "            <img src='https://d3i71xaburhd42.cloudfront.net/82750a1533ca30a705d3325290ee8de471073773/3-Figure3-1.png' width='500'/>\n",
    "            <p style=\"text-align: center;\"></p>\n",
    "        </td>\n",
    "</table>\n",
    "\n",
    "<!-- <div>\n",
    "    <img src='https://i.imgur.com/5kDiQyA.png' width='300'/>\n",
    "</div> -->\n",
    "\n",
    "\n",
    "\n",
    "<table>\n",
    "        <td>\n",
    "            <img src='https://i.imgur.com/5kDiQyA.png' width='300'/>\n",
    "            <p style=\"text-align: center;\"></p>\n",
    "        </td>\n",
    "        <td>\n",
    "            <img src='https://www.researchgate.net/profile/Andrews-Sobral/publication/316967304/figure/fig18/AS:613918162563083@1523380904228/Figure-C4-Matricization-of-a-third-order-tensor-into-its-n-mode-matrices.png' width='300'/>\n",
    "            <p style=\"text-align: center;\">slicing the tensor from variaty of aspects</p>\n",
    "        </td>\n",
    "        <td>\n",
    "            <img src='https://i1.momoshop.com.tw/1619092112/goodsimg/0006/210/835/6210835_R.webp' width='300'/>\n",
    "            <p style=\"text-align: center;\">slicing the tensor from variaty of aspects</p>\n",
    "        </td>\n",
    "</table>\n",
    "\n",
    "\n",
    "## [introduction to vectors and tensors](https://biomechanics.stanford.edu/me338_12/me338_s03.pdf)"
   ]
  },
  {
   "cell_type": "code",
   "execution_count": null,
   "id": "40fd2c09-6823-4fe5-b60b-966043cf2755",
   "metadata": {},
   "outputs": [],
   "source": []
  },
  {
   "cell_type": "markdown",
   "id": "c1ca7c90-1fb7-4571-a68c-4509f3e0d0b6",
   "metadata": {},
   "source": [
    "# [TENSORS](https://pytorch.org/tutorials/beginner/basics/tensorqs_tutorial.html#:~:text=Tensors%20are%20a%20specialized%20data,GPUs%20or%20other%20hardware%20accelerators.)"
   ]
  },
  {
   "cell_type": "markdown",
   "id": "b49f431c-06df-484d-b3e8-328414e31dd5",
   "metadata": {},
   "source": [
    "## Initializing a Tensor"
   ]
  },
  {
   "cell_type": "markdown",
   "id": "9c627568-9a6d-47a8-a53f-ace277e1cd3b",
   "metadata": {},
   "source": [
    "- ### method 1: Directly from data"
   ]
  },
  {
   "cell_type": "code",
   "execution_count": 9,
   "id": "1fd60263-05a4-4bae-aabe-aa00bb438057",
   "metadata": {},
   "outputs": [
    {
     "name": "stdout",
     "output_type": "stream",
     "text": [
      "\n",
      "type: <class 'torch.Tensor'>\n",
      "length: 2\n",
      "data: tensor([[1, 2],\n",
      "        [3, 4]])\n",
      "\n"
     ]
    }
   ],
   "source": [
    "data = [[1, 2],[3, 4]]\n",
    "x_data = torch.tensor(data)\n",
    "\n",
    "print('''\n",
    "type: {t}\n",
    "length: {l}\n",
    "data: {d}\n",
    "'''.format(t=type(x_data), \n",
    "           l=len(x_data),\n",
    "           d=x_data,\n",
    "          )\n",
    ")"
   ]
  },
  {
   "cell_type": "markdown",
   "id": "1af94e62-0c3e-4a2a-8f87-40d6920874f9",
   "metadata": {},
   "source": [
    "- ### method 2: From a NumPy array"
   ]
  },
  {
   "cell_type": "code",
   "execution_count": 10,
   "id": "5a8bd7a6-e391-46d2-82dd-050add027ff9",
   "metadata": {},
   "outputs": [
    {
     "name": "stdout",
     "output_type": "stream",
     "text": [
      "\n",
      "type: <class 'torch.Tensor'>\n",
      "length: 2\n",
      "data: tensor([[1, 2],\n",
      "        [3, 4]])\n",
      "\n"
     ]
    }
   ],
   "source": [
    "np_array = np.array(data)\n",
    "x_np = torch.from_numpy(np_array)\n",
    "\n",
    "\n",
    "print('''\n",
    "type: {t}\n",
    "length: {l}\n",
    "data: {d}\n",
    "'''.format(t=type(x_np), \n",
    "           l=len(x_np),\n",
    "           d=x_np,\n",
    "          )\n",
    ")"
   ]
  },
  {
   "cell_type": "markdown",
   "id": "8b555f48-f021-4137-b72d-ba46932c82fb",
   "metadata": {},
   "source": [
    "- ### method 3: From another tensor"
   ]
  },
  {
   "cell_type": "code",
   "execution_count": 11,
   "id": "7fbe8706-c355-4159-b3fb-acfeeeb5207b",
   "metadata": {},
   "outputs": [
    {
     "name": "stdout",
     "output_type": "stream",
     "text": [
      "Ones Tensor: \n",
      " tensor([[1, 1],\n",
      "        [1, 1]]) \n",
      "\n",
      "Random Tensor: \n",
      " tensor([[0.8741, 0.5798],\n",
      "        [0.5316, 0.8774]]) \n",
      "\n"
     ]
    }
   ],
   "source": [
    "x_ones = torch.ones_like(x_data) # retains the properties of x_data\n",
    "print(f\"Ones Tensor: \\n {x_ones} \\n\")\n",
    "\n",
    "x_rand = torch.rand_like(x_data, dtype=torch.float) # overrides the datatype of x_data\n",
    "print(f\"Random Tensor: \\n {x_rand} \\n\")"
   ]
  },
  {
   "cell_type": "markdown",
   "id": "6eec616b-96b9-4812-9a21-c138b573074c",
   "metadata": {},
   "source": [
    "- ### method 4: With random or constant values\n",
    "\n",
    "> <font color='red'>shape</font> is a tuple of tensor dimensions, it determines the <font color='red'>dimensionality of the output tensor</font>."
   ]
  },
  {
   "cell_type": "code",
   "execution_count": 22,
   "id": "a84b0c27-a91b-45c2-805e-e309ed356afc",
   "metadata": {},
   "outputs": [
    {
     "name": "stdout",
     "output_type": "stream",
     "text": [
      "Random Tensor: \n",
      " tensor([[0.1789, 0.7120, 0.2848],\n",
      "        [0.8818, 0.8797, 0.1874]]) \n",
      "\n",
      "Ones Tensor: \n",
      " tensor([[1., 1., 1.],\n",
      "        [1., 1., 1.]]) \n",
      "\n",
      "Zeros Tensor: \n",
      " tensor([[0., 0., 0.],\n",
      "        [0., 0., 0.]])\n"
     ]
    }
   ],
   "source": [
    "# shape is a tuple of tensor dimensions, it determines the dimensionality of the output tensor.\n",
    "shape = (2,3,)  # matrix: 2-way tensor (2d array)\n",
    "\n",
    "rand_tensor = torch.rand(shape)\n",
    "ones_tensor = torch.ones(shape)\n",
    "zeros_tensor = torch.zeros(shape)\n",
    "\n",
    "print(f\"Random Tensor: \\n {rand_tensor} \\n\")\n",
    "print(f\"Ones Tensor: \\n {ones_tensor} \\n\")\n",
    "print(f\"Zeros Tensor: \\n {zeros_tensor}\")"
   ]
  },
  {
   "cell_type": "markdown",
   "id": "99741eca-6183-4972-8465-4eed0b468cc7",
   "metadata": {},
   "source": [
    "<table>\n",
    "        <td>\n",
    "            <img src='https://d3i71xaburhd42.cloudfront.net/82750a1533ca30a705d3325290ee8de471073773/3-Figure3-1.png' width='400'/>\n",
    "            <p style=\"text-align: center;\">[the code above shows] shape = (2,3,)  # matrix: 2-way tensor (2d array) -> thus it is a matrix</p>\n",
    "            <p style=\"text-align: center;\">[the code below shows] shape = (2,3,4)  # tensor: 3-way tensor (3d array) -> thus it is a tensor</p>\n",
    "        </td>\n",
    "</table>"
   ]
  },
  {
   "cell_type": "code",
   "execution_count": 23,
   "id": "057a994d-4781-41f3-b195-7741d0592346",
   "metadata": {},
   "outputs": [
    {
     "name": "stdout",
     "output_type": "stream",
     "text": [
      "Random Tensor: \n",
      " tensor([[[0.8240, 0.1243, 0.8565, 0.7867],\n",
      "         [0.8658, 0.5476, 0.3869, 0.1415],\n",
      "         [0.6293, 0.2940, 0.4930, 0.5771]],\n",
      "\n",
      "        [[0.9283, 0.7408, 0.0589, 0.7307],\n",
      "         [0.6613, 0.6725, 0.1387, 0.3936],\n",
      "         [0.8548, 0.9496, 0.8170, 0.0944]]]) \n",
      "\n",
      "Ones Tensor: \n",
      " tensor([[[1., 1., 1., 1.],\n",
      "         [1., 1., 1., 1.],\n",
      "         [1., 1., 1., 1.]],\n",
      "\n",
      "        [[1., 1., 1., 1.],\n",
      "         [1., 1., 1., 1.],\n",
      "         [1., 1., 1., 1.]]]) \n",
      "\n",
      "Zeros Tensor: \n",
      " tensor([[[0., 0., 0., 0.],\n",
      "         [0., 0., 0., 0.],\n",
      "         [0., 0., 0., 0.]],\n",
      "\n",
      "        [[0., 0., 0., 0.],\n",
      "         [0., 0., 0., 0.],\n",
      "         [0., 0., 0., 0.]]])\n"
     ]
    }
   ],
   "source": [
    "# shape is a tuple of tensor dimensions, it determines the dimensionality of the output tensor.\n",
    "shape = (2,3,4)  # tensor: 3-way tensor (3d array)\n",
    "\n",
    "rand_tensor = torch.rand(shape)\n",
    "ones_tensor = torch.ones(shape)\n",
    "zeros_tensor = torch.zeros(shape)\n",
    "\n",
    "print(f\"Random Tensor: \\n {rand_tensor} \\n\")\n",
    "print(f\"Ones Tensor: \\n {ones_tensor} \\n\")\n",
    "print(f\"Zeros Tensor: \\n {zeros_tensor}\")"
   ]
  },
  {
   "cell_type": "markdown",
   "id": "879814d5-91a7-4359-97a0-3f9a452fb067",
   "metadata": {},
   "source": [
    "### Attributes of a Tensor\n",
    "Tensor attributes describe their shape, datatype, and the device on which they are stored."
   ]
  },
  {
   "cell_type": "code",
   "execution_count": 26,
   "id": "2954761a-9c12-4d99-8bb8-612f9daa2252",
   "metadata": {},
   "outputs": [
    {
     "name": "stdout",
     "output_type": "stream",
     "text": [
      "tensor: tensor([[0.8053, 0.0289, 0.9167, 0.0460],\n",
      "        [0.4463, 0.2402, 0.9492, 0.7410],\n",
      "        [0.0938, 0.8324, 0.2899, 0.6986]])\n",
      "Shape of tensor: torch.Size([3, 4])\n",
      "Datatype of tensor: torch.float32\n",
      "Device tensor is stored on: cpu\n"
     ]
    }
   ],
   "source": [
    "tensor = torch.rand(3,4)  # shape = (3,4,)  # matrix: 2-way tensor (2d array)\n",
    "\n",
    "print('tensor:', tensor)\n",
    "print(f\"Shape of tensor: {tensor.shape}\")\n",
    "print(f\"Datatype of tensor: {tensor.dtype}\")\n",
    "print(f\"Device tensor is stored on: {tensor.device}\")"
   ]
  },
  {
   "cell_type": "markdown",
   "id": "8a89040e-8559-42ea-b58c-c790f2c12869",
   "metadata": {},
   "source": [
    "### [Operations on Tensors](https://pytorch.org/docs/stable/torch.html)\n",
    "\n",
    "- Over 100 tensor operations, including arithmetic, linear algebra, matrix manipulation (transposing, indexing, slicing), sampling and more are comprehensively described here.\n",
    "> <font color='red'>By default, tensors are created on the CPU.</font> We need to explicitly move tensors to the GPU using .to method (after checking for GPU availability). <font color='red'>Keep in mind that copying large tensors across devices can be expensive in terms of time and memory!</font>"
   ]
  },
  {
   "cell_type": "code",
   "execution_count": 27,
   "id": "9193a92e-477c-4782-ac2b-d28b33462635",
   "metadata": {},
   "outputs": [],
   "source": [
    "# We move our tensor to the GPU if available\n",
    "if torch.cuda.is_available():\n",
    "    tensor = tensor.to(\"cuda\")"
   ]
  },
  {
   "cell_type": "code",
   "execution_count": null,
   "id": "ff2098ed-564b-4a27-9c7f-9dceb6de73d1",
   "metadata": {},
   "outputs": [],
   "source": []
  },
  {
   "cell_type": "markdown",
   "id": "acd5b8d4-bcdc-42c7-b59b-0624e18ecb44",
   "metadata": {},
   "source": [
    "- ### Standard numpy-like indexing and slicing"
   ]
  },
  {
   "cell_type": "code",
   "execution_count": 31,
   "id": "1cf224a6-130c-4b35-b418-f9cc94b6e8cf",
   "metadata": {},
   "outputs": [
    {
     "name": "stdout",
     "output_type": "stream",
     "text": [
      "tensor: tensor([[0.9726, 0.3014, 0.8923, 0.7406],\n",
      "        [0.0715, 0.9165, 0.9960, 0.5859],\n",
      "        [0.6690, 0.8470, 0.8853, 0.3305]])\n",
      "First row: tensor([0.9726, 0.3014, 0.8923, 0.7406])\n",
      "First column: tensor([0.9726, 0.0715, 0.6690])\n",
      "Last column: tensor([0.7406, 0.5859, 0.3305])\n",
      "tensor([[0.9726, 0.0000, 0.8923, 0.7406],\n",
      "        [0.0715, 0.0000, 0.9960, 0.5859],\n",
      "        [0.6690, 0.0000, 0.8853, 0.3305]])\n"
     ]
    }
   ],
   "source": [
    "tensor = torch.rand(3, 4)\n",
    "print(f\"tensor: {tensor}\")\n",
    "print(f\"First row: {tensor[0]}\")\n",
    "print(f\"First column: {tensor[:, 0]}\")\n",
    "print(f\"Last column: {tensor[..., -1]}\")\n",
    "tensor[:,1] = 0\n",
    "print(tensor)"
   ]
  },
  {
   "cell_type": "code",
   "execution_count": 53,
   "id": "e68ca0e3-6f18-43ab-8eb8-7ab898720ff8",
   "metadata": {},
   "outputs": [
    {
     "name": "stdout",
     "output_type": "stream",
     "text": [
      "\n",
      "\n",
      "matrix: 2-way tensor (2d array)\n",
      "\n",
      "tensor: tensor([[1, 4, 3, 2],\n",
      "        [2, 6, 0, 9],\n",
      "        [7, 1, 8, 0]])\n",
      "\n",
      "# ===========================\n",
      "#\n",
      "# row representation\n",
      "#\n",
      "# ===========================\n",
      "row_1: tensor([1, 4, 3, 2])\n",
      "row_2: tensor([2, 6, 0, 9])\n",
      "row_3: tensor([7, 1, 8, 0])\n",
      "\n",
      "# ===========================\n",
      "#\n",
      "# column representation\n",
      "#\n",
      "# ===========================\n",
      "col_1: tensor([1, 2, 7])\n",
      "col_2: tensor([4, 6, 1])\n",
      "col_3: tensor([3, 0, 8])\n",
      "col_4: tensor([2, 9, 0])\n",
      "\n",
      "\n",
      "# ===========================\n",
      "#\n",
      "# column representation 2\n",
      "#\n",
      "# ===========================\n",
      "first column: tensor([1, 2, 7])\n",
      "last column: tensor([2, 9, 0])\n",
      "\n"
     ]
    }
   ],
   "source": [
    "tensor = torch.randint(low=0, high=10, size=(3, 4))\n",
    "print('''\n",
    "\n",
    "matrix: 2-way tensor (2d array)\n",
    "\n",
    "tensor: {tensor}\n",
    "\n",
    "# ===========================\n",
    "#\n",
    "# row representation\n",
    "#\n",
    "# ===========================\n",
    "row_1: {row_1}\n",
    "row_2: {row_2}\n",
    "row_3: {row_3}\n",
    "\n",
    "# ===========================\n",
    "#\n",
    "# column representation\n",
    "#\n",
    "# ===========================\n",
    "col_1: {col_1}\n",
    "col_2: {col_2}\n",
    "col_3: {col_3}\n",
    "col_4: {col_4}\n",
    "\n",
    "\n",
    "# ===========================\n",
    "#\n",
    "# column representation 2\n",
    "#\n",
    "# ===========================\n",
    "first column: {first_col}\n",
    "last column: {last_col}\n",
    "'''.format(tensor=tensor,\n",
    "           row_1=tensor[0],\n",
    "           row_2=tensor[1],\n",
    "           row_3=tensor[2],\n",
    "           \n",
    "           col_1=tensor[:, 0],\n",
    "           col_2=tensor[:, 1],\n",
    "           col_3=tensor[:, 2],\n",
    "           col_4=tensor[:, 3],\n",
    "           \n",
    "           first_col=tensor[..., 0],\n",
    "           last_col=tensor[..., -1],\n",
    "          )\n",
    ")"
   ]
  },
  {
   "cell_type": "markdown",
   "id": "b7da8e90-d387-404a-bd3c-48ca46189be8",
   "metadata": {},
   "source": [
    "<table>\n",
    "        <td>\n",
    "            <img src='https://www.researchgate.net/profile/Andrews-Sobral/publication/316967304/figure/fig18/AS:613918162563083@1523380904228/Figure-C4-Matricization-of-a-third-order-tensor-into-its-n-mode-matrices.png' width='600'/>\n",
    "            <p style=\"text-align: center;\">slicing the tensor from variaty of aspects</p>\n",
    "        </td>\n",
    "        <td>\n",
    "            <img src='https://i1.momoshop.com.tw/1619092112/goodsimg/0006/210/835/6210835_R.webp' width='400'/>\n",
    "            <p style=\"text-align: center;\">slicing the tensor from variaty of aspects</p>\n",
    "        </td>\n",
    "</table>"
   ]
  },
  {
   "cell_type": "code",
   "execution_count": 67,
   "id": "b56dca63-3d93-4652-88e5-d463e082fe9e",
   "metadata": {},
   "outputs": [
    {
     "name": "stdout",
     "output_type": "stream",
     "text": [
      "\n",
      "\n",
      "tensor: 3-way tensor (3d array)\n",
      "\n",
      "tensor: tensor([[[1, 3, 5, 1],\n",
      "         [6, 4, 6, 5],\n",
      "         [4, 0, 8, 9]],\n",
      "\n",
      "        [[6, 2, 7, 7],\n",
      "         [2, 0, 7, 6],\n",
      "         [9, 7, 5, 2]]])\n",
      "\n",
      "# ===========================\n",
      "#\n",
      "# plane representation: z-axis\n",
      "#\n",
      "# ===========================\n",
      "\n",
      "mode_1_z_matrixplane_1: tensor([[1, 3, 5, 1],\n",
      "        [6, 4, 6, 5],\n",
      "        [4, 0, 8, 9]])\n",
      "mode_1_z_matrixplane_2: tensor([[6, 2, 7, 7],\n",
      "        [2, 0, 7, 6],\n",
      "        [9, 7, 5, 2]])\n",
      "\n",
      "\n",
      "# ===========================\n",
      "#\n",
      "# plane representation: x-axis\n",
      "#\n",
      "# ===========================\n",
      "\n",
      "mode_2_x_matrixplane_1: tensor([[1, 3, 5, 1],\n",
      "        [6, 2, 7, 7]])\n",
      "mode_2_x_matrixplane_2: tensor([[6, 4, 6, 5],\n",
      "        [2, 0, 7, 6]])\n",
      "mode_2_x_matrixplane_3: tensor([[4, 0, 8, 9],\n",
      "        [9, 7, 5, 2]])\n",
      "\n",
      "# ===========================\n",
      "#\n",
      "# plane representation: y-axis\n",
      "#\n",
      "# ===========================\n",
      "\n",
      "mode_3_y_matrixplane_1: tensor([[1, 6, 4],\n",
      "        [6, 2, 9]])\n",
      "mode_3_y_matrixplane_2: tensor([[3, 4, 0],\n",
      "        [2, 0, 7]])\n",
      "mode_3_y_matrixplane_3: tensor([[5, 6, 8],\n",
      "        [7, 7, 5]])\n",
      "mode_3_y_matrixplane_4: tensor([[1, 5, 9],\n",
      "        [7, 6, 2]])\n",
      "\n",
      "\n",
      "# ===========================\n",
      "#\n",
      "# column representation 2\n",
      "#\n",
      "# ===========================\n",
      "\n",
      "first z column: tensor([[1, 3, 5, 1],\n",
      "        [6, 4, 6, 5],\n",
      "        [4, 0, 8, 9]])  # tensor[0, ...] --> because shape=(z, x, y), it means we slice along the z-axis, the first plane of the z-axis\n",
      "last z column: tensor([[6, 2, 7, 7],\n",
      "        [2, 0, 7, 6],\n",
      "        [9, 7, 5, 2]])  # tensor[-1, ...] --> because shape=(z, x, z), it means we slice along the z-axis, the last plane of the z-axis\n",
      "\n",
      "first y column: tensor([[1, 6, 4],\n",
      "        [6, 2, 9]])  # tensor[..., 0] --> because shape=(z, x, y), it means we slice along the y-axis, the first plane of the y-axis\n",
      "last y column: tensor([[1, 5, 9],\n",
      "        [7, 6, 2]])  # tensor[..., -1] --> because shape=(z, x, y), it means we slice along the y-axis, the last plane of the y-axis\n",
      "\n"
     ]
    }
   ],
   "source": [
    "tensor = torch.randint(low=0, high=10, size=(2, 3, 4))  # size=(2, 3, 4) -> (z, x, y)\n",
    "print('''\n",
    "\n",
    "tensor: 3-way tensor (3d array)\n",
    "\n",
    "tensor: {tensor}\n",
    "\n",
    "# ===========================\n",
    "#\n",
    "# plane representation: z-axis\n",
    "#\n",
    "# ===========================\n",
    "\n",
    "mode_1_z_matrixplane_1: {mode_1_z_matrixplane_1}\n",
    "mode_1_z_matrixplane_2: {mode_1_z_matrixplane_2}\n",
    "\n",
    "\n",
    "# ===========================\n",
    "#\n",
    "# plane representation: x-axis\n",
    "#\n",
    "# ===========================\n",
    "\n",
    "mode_2_x_matrixplane_1: {mode_2_x_matrixplane_1}\n",
    "mode_2_x_matrixplane_2: {mode_2_x_matrixplane_2}\n",
    "mode_2_x_matrixplane_3: {mode_2_x_matrixplane_3}\n",
    "\n",
    "# ===========================\n",
    "#\n",
    "# plane representation: y-axis\n",
    "#\n",
    "# ===========================\n",
    "\n",
    "mode_3_y_matrixplane_1: {mode_3_y_matrixplane_1}\n",
    "mode_3_y_matrixplane_2: {mode_3_y_matrixplane_2}\n",
    "mode_3_y_matrixplane_3: {mode_3_y_matrixplane_3}\n",
    "mode_3_y_matrixplane_4: {mode_3_y_matrixplane_4}\n",
    "\n",
    "\n",
    "# ===========================\n",
    "#\n",
    "# column representation 2\n",
    "#\n",
    "# ===========================\n",
    "\n",
    "first z column: {first_z_col}  # tensor[0, ...] --> because shape=(z, x, y), it means we slice along the z-axis, the first plane of the z-axis\n",
    "last z column: {last_z_col}  # tensor[-1, ...] --> because shape=(z, x, z), it means we slice along the z-axis, the last plane of the z-axis\n",
    "\n",
    "first y column: {first_y_col}  # tensor[..., 0] --> because shape=(z, x, y), it means we slice along the y-axis, the first plane of the y-axis\n",
    "last y column: {last_y_col}  # tensor[..., -1] --> because shape=(z, x, y), it means we slice along the y-axis, the last plane of the y-axis\n",
    "'''.format(tensor=tensor,\n",
    "           \n",
    "           mode_1_z_matrixplane_1=tensor[0,:,:],\n",
    "           mode_1_z_matrixplane_2=tensor[1,:,:],\n",
    "           \n",
    "           mode_2_x_matrixplane_1=tensor[:,0,:],\n",
    "           mode_2_x_matrixplane_2=tensor[:,1,:],\n",
    "           mode_2_x_matrixplane_3=tensor[:,2,:],\n",
    "           \n",
    "           mode_3_y_matrixplane_1=tensor[:,:,0],\n",
    "           mode_3_y_matrixplane_2=tensor[:,:,1],\n",
    "           mode_3_y_matrixplane_3=tensor[:,:,2],\n",
    "           mode_3_y_matrixplane_4=tensor[:,:,3],\n",
    "           \n",
    "\n",
    "           first_z_col=tensor[0, ...],\n",
    "           last_z_col=tensor[-1, ...],\n",
    "           \n",
    "           first_y_col=tensor[..., 0],\n",
    "           last_y_col=tensor[..., -1],\n",
    "          )\n",
    ")"
   ]
  },
  {
   "cell_type": "code",
   "execution_count": null,
   "id": "c6baa050-8709-4805-927f-2af8bd35bd6c",
   "metadata": {},
   "outputs": [],
   "source": []
  },
  {
   "cell_type": "markdown",
   "id": "cb6f4dcc-23a0-449e-82ff-0a0876429447",
   "metadata": {},
   "source": [
    "### [Joining tensors](https://pytorch.org/tutorials/beginner/basics/tensorqs_tutorial.html#:~:text=Tensors%20are%20a%20specialized%20data,GPUs%20or%20other%20hardware%20accelerators.)\n",
    "\n",
    "- [torch.cat](https://pytorch.org/docs/stable/generated/torch.cat.html)\n",
    "\n",
    "- [torch.stack](https://pytorch.org/docs/stable/generated/torch.stack.html)"
   ]
  },
  {
   "cell_type": "code",
   "execution_count": 80,
   "id": "dab66623-061a-428d-a32c-cf2bca321a9a",
   "metadata": {},
   "outputs": [
    {
     "name": "stdout",
     "output_type": "stream",
     "text": [
      "tensor: tensor([[[1, 3, 5, 1],\n",
      "         [6, 4, 6, 5],\n",
      "         [4, 0, 8, 9]],\n",
      "\n",
      "        [[6, 2, 7, 7],\n",
      "         [2, 0, 7, 6],\n",
      "         [9, 7, 5, 2]]])\n",
      "t1.data.cpu().numpy(): [[[1 3 5 1]\n",
      "  [6 4 6 5]\n",
      "  [4 0 8 9]\n",
      "  [1 3 5 1]\n",
      "  [6 4 6 5]\n",
      "  [4 0 8 9]\n",
      "  [1 3 5 1]\n",
      "  [6 4 6 5]\n",
      "  [4 0 8 9]]\n",
      "\n",
      " [[6 2 7 7]\n",
      "  [2 0 7 6]\n",
      "  [9 7 5 2]\n",
      "  [6 2 7 7]\n",
      "  [2 0 7 6]\n",
      "  [9 7 5 2]\n",
      "  [6 2 7 7]\n",
      "  [2 0 7 6]\n",
      "  [9 7 5 2]]]\n"
     ]
    }
   ],
   "source": [
    "print('tensor:', tensor)\n",
    "t1 = torch.cat([tensor, tensor, tensor], dim=1)\n",
    "print('t1.data.cpu().numpy():', t1.data.cpu().numpy())"
   ]
  },
  {
   "cell_type": "code",
   "execution_count": 82,
   "id": "f6645e7e-fa63-4d02-b5f8-f9d3c8b3e2f1",
   "metadata": {},
   "outputs": [
    {
     "name": "stdout",
     "output_type": "stream",
     "text": [
      "tensor_2: tensor([[5, 5, 9, 0, 7],\n",
      "        [4, 8, 2, 6, 3]])\n",
      "t2: tensor([[5, 5, 9, 0, 7, 5, 5, 9, 0, 7, 5, 5, 9, 0, 7],\n",
      "        [4, 8, 2, 6, 3, 4, 8, 2, 6, 3, 4, 8, 2, 6, 3]])\n",
      "t2.data.cpu().numpy(): [[5 5 9 0 7 5 5 9 0 7 5 5 9 0 7]\n",
      " [4 8 2 6 3 4 8 2 6 3 4 8 2 6 3]]\n"
     ]
    }
   ],
   "source": [
    "tensor_2 = torch.randint(low=0, high=10, size=(2, 5))  # size=(2, 5) -> (x, y)\n",
    "print('tensor_2:', tensor_2)\n",
    "t2 = torch.cat([tensor_2, tensor_2, tensor_2], dim=1)\n",
    "print('t2:', t2)\n",
    "print('t2.data.cpu().numpy():', t2.data.cpu().numpy())"
   ]
  },
  {
   "cell_type": "code",
   "execution_count": null,
   "id": "893455a9-df4d-4192-8f28-60753924e6bb",
   "metadata": {},
   "outputs": [],
   "source": []
  },
  {
   "cell_type": "code",
   "execution_count": null,
   "id": "e10b4992-30fd-42b7-ade3-41e3887d03c8",
   "metadata": {},
   "outputs": [],
   "source": []
  },
  {
   "cell_type": "markdown",
   "id": "431fbcb9-dddd-480a-9264-27fbfb7d082a",
   "metadata": {},
   "source": [
    "## Arithmetic operations"
   ]
  },
  {
   "cell_type": "code",
   "execution_count": 94,
   "id": "ed26d95f-c312-4682-91a6-0c9f56ae8b99",
   "metadata": {},
   "outputs": [
    {
     "name": "stdout",
     "output_type": "stream",
     "text": [
      "tensor: tensor([[4, 1],\n",
      "        [6, 2]])\n",
      "\n",
      "y1: tensor([[17, 26],\n",
      "        [26, 40]])\n",
      "y2: tensor([[17, 26],\n",
      "        [26, 40]])\n",
      "y1 == y2: tensor([[True, True],\n",
      "        [True, True]])\n",
      "\n"
     ]
    }
   ],
   "source": [
    "tensor = torch.randint(low=0, high=10, size=(2, 2))\n",
    "print('tensor:', tensor)\n",
    "y1 = tensor @ tensor.T  # @: Matrix product of two tensors\n",
    "y2 = tensor.matmul(tensor.T)\n",
    "\n",
    "print('''\n",
    "y1: {y1}\n",
    "y2: {y2}\n",
    "y1 == y2: {y1_y2}\n",
    "'''.format(y1=y1,\n",
    "           y2=y2,\n",
    "           y1_y2=(y1 == y2)\n",
    "          )\n",
    ")\n"
   ]
  },
  {
   "cell_type": "markdown",
   "id": "00e4701e-447d-4bef-85a9-eb1f9b924d97",
   "metadata": {},
   "source": [
    "### Matrix product of two tensors\n",
    "- matmul\n",
    "- @"
   ]
  },
  {
   "cell_type": "code",
   "execution_count": 156,
   "id": "3e954029-6c74-488a-bfa2-37d48cb4643c",
   "metadata": {},
   "outputs": [
    {
     "name": "stdout",
     "output_type": "stream",
     "text": [
      "tensor: tensor([[0.2201, 0.2851, 0.4248, 0.2401],\n",
      "        [0.0553, 0.6028, 0.3875, 0.3088],\n",
      "        [0.3880, 0.2262, 0.2308, 0.1486],\n",
      "        [0.1612, 0.9137, 0.1006, 0.9780]])\n",
      "\n",
      "y1: tensor([[0.3679, 0.4228, 0.2836, 0.5735],\n",
      "        [0.4228, 0.6119, 0.2931, 0.9007],\n",
      "        [0.2836, 0.2931, 0.2771, 0.4377],\n",
      "        [0.5735, 0.9007, 0.4377, 1.8275]])\n",
      "y2: tensor([[0.3679, 0.4228, 0.2836, 0.5735],\n",
      "        [0.4228, 0.6119, 0.2931, 0.9007],\n",
      "        [0.2836, 0.2931, 0.2771, 0.4377],\n",
      "        [0.5735, 0.9007, 0.4377, 1.8275]])\n",
      "y3: tensor([[0.2243, 0.1665, 0.6568, 0.2155],\n",
      "        [0.8517, 0.4761, 0.9782, 0.3259],\n",
      "        [0.1360, 0.8396, 0.4618, 0.9151],\n",
      "        [0.1034, 0.0260, 0.5967, 0.1920]])\n",
      "\n"
     ]
    },
    {
     "data": {
      "text/plain": [
       "tensor([[0.3679, 0.4228, 0.2836, 0.5735],\n",
       "        [0.4228, 0.6119, 0.2931, 0.9007],\n",
       "        [0.2836, 0.2931, 0.2771, 0.4377],\n",
       "        [0.5735, 0.9007, 0.4377, 1.8275]])"
      ]
     },
     "execution_count": 156,
     "metadata": {},
     "output_type": "execute_result"
    }
   ],
   "source": [
    "'''\n",
    "tensor = torch.randint(low=0, high=10, size=(4, 4))\n",
    "\n",
    "RuntimeError: \"check_uniform_bounds\" not implemented for 'Long'\n",
    "---> 13 y3 = torch.rand_like(tensor)\n",
    "\n",
    "because of \"randint\" is used before\n",
    "'''\n",
    "# tensor = torch.ones(4, 4)\n",
    "tensor = torch.rand(size=(4, 4))\n",
    "print('tensor:', tensor)\n",
    "\n",
    "\n",
    "# This computes the matrix multiplication between two tensors. y1, y2, y3 will have the same value\n",
    "y1 = tensor @ tensor.T\n",
    "y2 = tensor.matmul(tensor.T)  # matmul: Matrix product of two tensors\n",
    "\n",
    "y3 = torch.rand_like(tensor)\n",
    "print('''\n",
    "y1: {y1}\n",
    "y2: {y2}\n",
    "y3: {y3}\n",
    "'''.format(y1=y1,\n",
    "           y2=y2,\n",
    "           y3=y3\n",
    "          )\n",
    ")\n",
    "torch.matmul(tensor, tensor.T, out=y3)  # matmul: Matrix product of two tensors\n",
    "# torch.matmul(tensor, tensor.T).size()"
   ]
  },
  {
   "cell_type": "markdown",
   "id": "ff28bf56-7e19-4743-a191-3e679ce39227",
   "metadata": {},
   "source": [
    "### element-wise product\n",
    "- mul\n",
    "- *"
   ]
  },
  {
   "cell_type": "code",
   "execution_count": 191,
   "id": "8f030b33-639d-41ff-a86e-f99b5ff253ec",
   "metadata": {},
   "outputs": [
    {
     "name": "stdout",
     "output_type": "stream",
     "text": [
      "tensor: tensor([[0.7769, 0.8565, 0.7920, 0.0745],\n",
      "        [0.0243, 0.4274, 0.6382, 0.8787],\n",
      "        [0.5015, 0.0647, 0.7550, 0.5581],\n",
      "        [0.1056, 0.2139, 0.4019, 0.1910]])\n",
      "\n",
      "z1: tensor([[6.0358e-01, 7.3365e-01, 6.2726e-01, 5.5575e-03],\n",
      "        [5.8874e-04, 1.8270e-01, 4.0736e-01, 7.7210e-01],\n",
      "        [2.5147e-01, 4.1887e-03, 5.7007e-01, 3.1153e-01],\n",
      "        [1.1153e-02, 4.5757e-02, 1.6153e-01, 3.6469e-02]])\n",
      "z2: tensor([[6.0358e-01, 7.3365e-01, 6.2726e-01, 5.5575e-03],\n",
      "        [5.8874e-04, 1.8270e-01, 4.0736e-01, 7.7210e-01],\n",
      "        [2.5147e-01, 4.1887e-03, 5.7007e-01, 3.1153e-01],\n",
      "        [1.1153e-02, 4.5757e-02, 1.6153e-01, 3.6469e-02]])\n",
      "z3: tensor([[0.8595, 0.2970, 0.8870, 0.2612],\n",
      "        [0.1352, 0.8120, 0.4587, 0.4407],\n",
      "        [0.1438, 0.5920, 0.5600, 0.1763],\n",
      "        [0.1427, 0.0432, 0.3534, 0.2297]])\n",
      "\n"
     ]
    },
    {
     "data": {
      "text/plain": [
       "tensor([[6.0358e-01, 7.3365e-01, 6.2726e-01, 5.5575e-03],\n",
       "        [5.8874e-04, 1.8270e-01, 4.0736e-01, 7.7210e-01],\n",
       "        [2.5147e-01, 4.1887e-03, 5.7007e-01, 3.1153e-01],\n",
       "        [1.1153e-02, 4.5757e-02, 1.6153e-01, 3.6469e-02]])"
      ]
     },
     "execution_count": 191,
     "metadata": {},
     "output_type": "execute_result"
    }
   ],
   "source": [
    "# tensor = torch.ones(4, 4)\n",
    "tensor = torch.rand(size=(4, 4))\n",
    "# tensor = torch.randint(low=0, high=10, size=(4, 4))\n",
    "print('tensor:', tensor)\n",
    "\n",
    "# This computes the element-wise product. z1, z2, z3 will have the same value\n",
    "z1 = tensor * tensor\n",
    "z2 = tensor.mul(tensor)\n",
    "\n",
    "z3 = torch.rand_like(tensor)\n",
    "print('''\n",
    "z1: {z1}\n",
    "z2: {z2}\n",
    "z3: {z3}\n",
    "'''.format(z1=z1,\n",
    "           z2=z2,\n",
    "           z3=z3\n",
    "          )\n",
    ")\n",
    "\n",
    "torch.mul(tensor, tensor, out=z3)"
   ]
  },
  {
   "cell_type": "markdown",
   "id": "c41e0ff4-2301-47b8-a03d-b39c3ecfaa06",
   "metadata": {},
   "source": [
    "### Single-element tensors \n",
    "\n",
    "- .item(): convert a one-element tensor to a Python numerical value"
   ]
  },
  {
   "cell_type": "code",
   "execution_count": 192,
   "id": "8f426c14-0779-4f69-9105-0b2857537930",
   "metadata": {},
   "outputs": [
    {
     "name": "stdout",
     "output_type": "stream",
     "text": [
      "agg: 7.260379791259766, type: <class 'torch.Tensor'>\n",
      "agg_item: 7.260379791259766, type: <class 'float'>\n"
     ]
    }
   ],
   "source": [
    "agg = tensor.sum()\n",
    "agg_item = agg.item()  # convert it to a Python numerical value\n",
    "print('agg: {d}, type: {t}'.format(d=agg, t=type(agg)))\n",
    "print('agg_item: {d}, type: {t}'.format(d=agg_item, t=type(agg_item)))"
   ]
  },
  {
   "cell_type": "markdown",
   "id": "cf0958c8-e372-4a6d-964b-a62b89f58d55",
   "metadata": {},
   "source": [
    "### <font color='red'>In-place operations</font>\n",
    "\n",
    "Operations that store the result into the operand are called in-place. They are denoted by a <font color='red'>_ suffix</font>. For example: x.<font color='red'>copy_</font>(y), x.<font color='red'>t_</font>(), <font color='red'>will change x</font>."
   ]
  },
  {
   "cell_type": "code",
   "execution_count": 193,
   "id": "139dd7ad-f064-46ae-b040-e8ff61926f4f",
   "metadata": {},
   "outputs": [
    {
     "name": "stdout",
     "output_type": "stream",
     "text": [
      "tensor before being added: \n",
      "tensor([[0.7769, 0.8565, 0.7920, 0.0745],\n",
      "        [0.0243, 0.4274, 0.6382, 0.8787],\n",
      "        [0.5015, 0.0647, 0.7550, 0.5581],\n",
      "        [0.1056, 0.2139, 0.4019, 0.1910]]) \n",
      "\n",
      "tensor after being added: \n",
      "tensor([[5.7769, 5.8565, 5.7920, 5.0745],\n",
      "        [5.0243, 5.4274, 5.6382, 5.8787],\n",
      "        [5.5015, 5.0647, 5.7550, 5.5581],\n",
      "        [5.1056, 5.2139, 5.4019, 5.1910]]) \n",
      "\n"
     ]
    }
   ],
   "source": [
    "print(f\"tensor before being added: \\n{tensor} \\n\")\n",
    "tensor.add_(5)\n",
    "print(f\"tensor after being added: \\n{tensor} \\n\")"
   ]
  },
  {
   "cell_type": "code",
   "execution_count": null,
   "id": "b9f3299b-1e64-444d-9904-0f769cf77fd3",
   "metadata": {},
   "outputs": [],
   "source": []
  },
  {
   "cell_type": "markdown",
   "id": "325e0f8f-60c0-43a6-afa2-6a68fb149261",
   "metadata": {},
   "source": [
    "## Bridge with NumPy\n",
    "\n",
    "<font color='red'>Tensors on the CPU and NumPy arrays can share their underlying memory locations, and changing one will change the other.</font>"
   ]
  },
  {
   "cell_type": "markdown",
   "id": "bf8bbeae-dfa0-4750-adf7-2fe98ac8a7e0",
   "metadata": {},
   "source": [
    "### Tensor to NumPy array\n",
    "\n",
    "```\n",
    "- my_tensor.numpy()\n",
    "\n",
    "- A change in the tensor reflects in the NumPy array\n",
    "  - my_tensor.add_(1)\n",
    "```"
   ]
  },
  {
   "cell_type": "code",
   "execution_count": 195,
   "id": "0c26dcf0-4576-4ef4-b005-84261f5ff857",
   "metadata": {},
   "outputs": [
    {
     "name": "stdout",
     "output_type": "stream",
     "text": [
      "t: tensor([1., 1., 1., 1., 1.]), type: <class 'torch.Tensor'> \n",
      "\n",
      "n: [1. 1. 1. 1. 1.], type: <class 'numpy.ndarray'> \n",
      "\n"
     ]
    }
   ],
   "source": [
    "t = torch.ones(5)\n",
    "print(f\"t: {t}, type: {type(t)} \\n\")\n",
    "n = t.numpy()\n",
    "print(f\"n: {n}, type: {type(n)} \\n\")"
   ]
  },
  {
   "cell_type": "markdown",
   "id": "db82fd1f-edcb-44a9-bd79-ba4d9d4e7d38",
   "metadata": {},
   "source": [
    "- A change in the tensor reflects in the NumPy array."
   ]
  },
  {
   "cell_type": "code",
   "execution_count": 196,
   "id": "2b5aa736-27ca-4887-a7c6-b5d06380242c",
   "metadata": {},
   "outputs": [
    {
     "name": "stdout",
     "output_type": "stream",
     "text": [
      "t: tensor([2., 2., 2., 2., 2.])\n",
      "n: [2. 2. 2. 2. 2.]\n"
     ]
    }
   ],
   "source": [
    "t.add_(1)  # A change in the tensor reflects in the NumPy array.\n",
    "\n",
    "print(f\"t: {t}\")\n",
    "print(f\"n: {n}\")"
   ]
  },
  {
   "cell_type": "markdown",
   "id": "b0f7a250-7d4d-4157-b49f-6c5710d2f97e",
   "metadata": {},
   "source": [
    "### NumPy array to Tensor\n",
    "\n",
    "```\n",
    "- torch.from_numpy(my_ndarray)\n",
    "\n",
    "- Changes in the NumPy array reflects in the tensor\n",
    "  - np.add(my_ndarray, 1, out=my_ndarray)\n",
    "```"
   ]
  },
  {
   "cell_type": "code",
   "execution_count": 197,
   "id": "4c5b88ef-eedf-4c35-b666-9e30eaf782c5",
   "metadata": {},
   "outputs": [
    {
     "name": "stdout",
     "output_type": "stream",
     "text": [
      "t: tensor([2., 2., 2., 2., 2.], dtype=torch.float64)\n",
      "n: [2. 2. 2. 2. 2.]\n"
     ]
    }
   ],
   "source": [
    "n = np.ones(5)\n",
    "t = torch.from_numpy(n)\n",
    "\n",
    "# Changes in the NumPy array reflects in the tensor.\n",
    "np.add(n, 1, out=n)\n",
    "\n",
    "print(f\"t: {t}, type: {type(t)} \\n\")\n",
    "print(f\"n: {n}, type: {type(n)} \\n\")"
   ]
  },
  {
   "cell_type": "code",
   "execution_count": null,
   "id": "3b64bedb-d4c1-4f50-a7d7-719b2777e5d6",
   "metadata": {},
   "outputs": [],
   "source": []
  },
  {
   "cell_type": "markdown",
   "id": "a99344e2-43d9-4fa6-81e1-f1539f57804d",
   "metadata": {},
   "source": [
    "# BUILD THE NEURAL NETWORK"
   ]
  },
  {
   "cell_type": "code",
   "execution_count": 1,
   "id": "ea1b78e2-b6dc-4a4f-855e-573948e1113c",
   "metadata": {},
   "outputs": [],
   "source": [
    "import os\n",
    "import torch\n",
    "from torch import nn\n",
    "from torch.utils.data import DataLoader\n",
    "from torchvision import datasets, transforms"
   ]
  },
  {
   "cell_type": "code",
   "execution_count": 2,
   "id": "270b3283-1e94-4ca8-af50-48ebdec2f7ff",
   "metadata": {},
   "outputs": [
    {
     "name": "stdout",
     "output_type": "stream",
     "text": [
      "Using cpu device\n"
     ]
    }
   ],
   "source": [
    "device = 'cuda' if torch.cuda.is_available() else 'cpu'\n",
    "print(f'Using {device} device')"
   ]
  },
  {
   "cell_type": "markdown",
   "id": "185216ae-8698-4875-9bda-2f305442df5b",
   "metadata": {},
   "source": [
    "## Define the Class\n",
    "\n",
    "We define our neural network by subclassing `nn.Module`, and initialize the neural network layers in `__init__`. <font color='red'>Every nn.Module subclass implements the operations on input data in the forward method.</font>"
   ]
  },
  {
   "cell_type": "code",
   "execution_count": 4,
   "id": "84bf7fae-e79f-4ef4-afd0-e450c2c9a440",
   "metadata": {},
   "outputs": [],
   "source": [
    "class NeuralNetwork(nn.Module):\n",
    "    def __init__(self):\n",
    "        super(NeuralNetwork, self).__init__()\n",
    "        self.flatten = nn.Flatten()\n",
    "        self.linear_relu_stack = nn.Sequential(\n",
    "            nn.Linear(28*28, 512),\n",
    "            nn.ReLU(),\n",
    "            nn.Linear(512, 512),\n",
    "            nn.ReLU(),\n",
    "            nn.Linear(512, 10),\n",
    "        )\n",
    "\n",
    "    def forward(self, x):\n",
    "        x = self.flatten(x)\n",
    "        logits = self.linear_relu_stack(x)\n",
    "        return logits"
   ]
  },
  {
   "cell_type": "markdown",
   "id": "276c6ccb-cfe6-4b86-bf35-d047a02f2547",
   "metadata": {},
   "source": [
    "We create an instance of NeuralNetwork, and move it to the device, and print its structure."
   ]
  },
  {
   "cell_type": "code",
   "execution_count": 5,
   "id": "42f75b19-02fe-4896-b8b4-cbe78f6c057e",
   "metadata": {},
   "outputs": [
    {
     "name": "stdout",
     "output_type": "stream",
     "text": [
      "NeuralNetwork(\n",
      "  (flatten): Flatten(start_dim=1, end_dim=-1)\n",
      "  (linear_relu_stack): Sequential(\n",
      "    (0): Linear(in_features=784, out_features=512, bias=True)\n",
      "    (1): ReLU()\n",
      "    (2): Linear(in_features=512, out_features=512, bias=True)\n",
      "    (3): ReLU()\n",
      "    (4): Linear(in_features=512, out_features=10, bias=True)\n",
      "  )\n",
      ")\n"
     ]
    }
   ],
   "source": [
    "model = NeuralNetwork().to(device)\n",
    "print(model)"
   ]
  },
  {
   "cell_type": "markdown",
   "id": "1776928f-c601-48db-89ab-ca44947bd5dc",
   "metadata": {},
   "source": [
    "To use the model, we pass it the input data. This executes the model’s forward, along with some background operations. <font color='red'>Do not call model.forward() directly!</font>\n",
    "\n",
    "Calling the model on the input returns a 10-dimensional tensor with raw predicted values for each class. We get the prediction probabilities by passing it through an instance of the nn.Softmax module."
   ]
  },
  {
   "cell_type": "code",
   "execution_count": 6,
   "id": "7bb6f3d4-e078-4341-af29-657a0c30df40",
   "metadata": {},
   "outputs": [
    {
     "name": "stdout",
     "output_type": "stream",
     "text": [
      "Predicted class: tensor([5])\n"
     ]
    }
   ],
   "source": [
    "X = torch.rand(1, 28, 28, device=device)\n",
    "logits = model(X)\n",
    "pred_probab = nn.Softmax(dim=1)(logits)\n",
    "y_pred = pred_probab.argmax(1)\n",
    "print(f\"Predicted class: {y_pred}\")"
   ]
  },
  {
   "cell_type": "markdown",
   "id": "b0d5ee72-86f8-428e-afb1-b68fe1d160a9",
   "metadata": {},
   "source": [
    "## Model Layers\n",
    "\n",
    "Let’s break down the layers in the FashionMNIST model. To illustrate it, we will take a sample <font color='red'>minibatch of 3 images of size 28x28</font> and see what happens to it as we pass it through the network."
   ]
  },
  {
   "cell_type": "code",
   "execution_count": 7,
   "id": "99a010eb-75dd-4cac-a118-9edc89847e77",
   "metadata": {},
   "outputs": [
    {
     "name": "stdout",
     "output_type": "stream",
     "text": [
      "torch.Size([3, 28, 28])\n"
     ]
    }
   ],
   "source": [
    "input_image = torch.rand(3,28,28)\n",
    "print(input_image.size())"
   ]
  },
  {
   "cell_type": "markdown",
   "id": "b5fdc435-2fee-4c14-9a0b-1419f03fdaab",
   "metadata": {},
   "source": [
    "## nn.Flatten\n",
    "We initialize the nn.Flatten layer to <font color='red'>convert each 2D 28x28 image into a contiguous array of 784 pixel values </font>( the minibatch dimension (at dim=0) is maintained)."
   ]
  },
  {
   "cell_type": "code",
   "execution_count": 8,
   "id": "b4ffc613-d816-49c1-bcf0-cfbe44a801c3",
   "metadata": {},
   "outputs": [
    {
     "name": "stdout",
     "output_type": "stream",
     "text": [
      "torch.Size([3, 784])\n"
     ]
    }
   ],
   "source": [
    "flatten = nn.Flatten()\n",
    "flat_image = flatten(input_image)\n",
    "print(flat_image.size())"
   ]
  },
  {
   "cell_type": "markdown",
   "id": "1b4f6ba5-0e7f-4e70-b5b8-eccf395c7d7d",
   "metadata": {},
   "source": [
    "## nn.Linear\n",
    "T\n",
    "he linear layer is a module that <font color='red'>applies a linear transformation on the input using its stored weights and biases.</font>"
   ]
  },
  {
   "cell_type": "code",
   "execution_count": 9,
   "id": "6437931b-8e8f-4879-bd07-03acf0b56a0b",
   "metadata": {},
   "outputs": [
    {
     "name": "stdout",
     "output_type": "stream",
     "text": [
      "torch.Size([3, 20])\n"
     ]
    }
   ],
   "source": [
    "layer1 = nn.Linear(in_features=28*28, out_features=20)\n",
    "hidden1 = layer1(flat_image)\n",
    "print(hidden1.size())"
   ]
  },
  {
   "cell_type": "markdown",
   "id": "6fb83d53-4ab4-422e-a5d9-1329c2cc60cb",
   "metadata": {},
   "source": [
    "## nn.ReLU\n",
    "Non-linear activations are what <font color='red'>create the complex mappings</font> between the model’s inputs and outputs. They are applied after linear transformations <font color='red'>to introduce nonlinearity, helping neural networks learn a wide variety of phenomena.</font>\n",
    "\n",
    "In this model, we use nn.ReLU between our linear layers, but there’s other <font color='red'>activations</font> to introduce non-linearity in your model."
   ]
  },
  {
   "cell_type": "code",
   "execution_count": 10,
   "id": "aab99e68-54f6-4a0f-8dc7-437434dc3b8d",
   "metadata": {},
   "outputs": [
    {
     "name": "stdout",
     "output_type": "stream",
     "text": [
      "Before ReLU: tensor([[ 0.3708,  0.2019,  0.1015,  0.8094,  0.0389,  0.4796,  0.2315, -0.3376,\n",
      "         -0.1430,  0.4016,  0.4047, -0.3876, -0.2334,  0.2890,  0.1611, -0.2293,\n",
      "         -0.2058, -0.1435, -0.3682, -0.3675],\n",
      "        [ 0.8131,  0.2989,  0.0363,  0.8490,  0.1033,  0.2025,  0.1335, -0.0600,\n",
      "          0.2642,  0.1572,  0.2741, -0.3090, -0.1181,  0.0534,  0.4741,  0.1215,\n",
      "         -0.1490, -0.3422, -0.2155, -0.6833],\n",
      "        [ 0.5557,  0.2995,  0.0977,  0.6628,  0.1940,  0.1078, -0.2695, -0.1404,\n",
      "          0.1489,  0.3265,  0.2171, -0.3534, -0.3651, -0.0026,  0.1436, -0.4192,\n",
      "          0.0250, -0.1984, -0.1768, -0.0337]], grad_fn=<AddmmBackward0>)\n",
      "\n",
      "\n",
      "After ReLU: tensor([[0.3708, 0.2019, 0.1015, 0.8094, 0.0389, 0.4796, 0.2315, 0.0000, 0.0000,\n",
      "         0.4016, 0.4047, 0.0000, 0.0000, 0.2890, 0.1611, 0.0000, 0.0000, 0.0000,\n",
      "         0.0000, 0.0000],\n",
      "        [0.8131, 0.2989, 0.0363, 0.8490, 0.1033, 0.2025, 0.1335, 0.0000, 0.2642,\n",
      "         0.1572, 0.2741, 0.0000, 0.0000, 0.0534, 0.4741, 0.1215, 0.0000, 0.0000,\n",
      "         0.0000, 0.0000],\n",
      "        [0.5557, 0.2995, 0.0977, 0.6628, 0.1940, 0.1078, 0.0000, 0.0000, 0.1489,\n",
      "         0.3265, 0.2171, 0.0000, 0.0000, 0.0000, 0.1436, 0.0000, 0.0250, 0.0000,\n",
      "         0.0000, 0.0000]], grad_fn=<ReluBackward0>)\n"
     ]
    }
   ],
   "source": [
    "print(f\"Before ReLU: {hidden1}\\n\\n\")\n",
    "hidden1 = nn.ReLU()(hidden1)\n",
    "print(f\"After ReLU: {hidden1}\")"
   ]
  },
  {
   "cell_type": "markdown",
   "id": "6eff9b40-6e1f-403a-bd02-c752aa6b731c",
   "metadata": {},
   "source": [
    "## nn.Sequential\n",
    "\n",
    "nn.Sequential is <font color='red'>an ordered container of modules.</font> The data is passed through all the modules in the same order as defined. You can use sequential containers to put together a quick network like seq_modules."
   ]
  },
  {
   "cell_type": "code",
   "execution_count": 11,
   "id": "416569ab-cc36-4d78-a142-66a7099d0870",
   "metadata": {},
   "outputs": [],
   "source": [
    "seq_modules = nn.Sequential(\n",
    "    flatten,\n",
    "    layer1,\n",
    "    nn.ReLU(),\n",
    "    nn.Linear(20, 10)\n",
    ")\n",
    "input_image = torch.rand(3,28,28)\n",
    "logits = seq_modules(input_image)"
   ]
  },
  {
   "cell_type": "markdown",
   "id": "8c58b3dd-2c84-47c4-88ba-c3152031e213",
   "metadata": {},
   "source": [
    "## nn.Softmax\n",
    "\n",
    "<font color='red'>The last linear layer of the neural network returns logits</font> - raw values in [-infty, infty] - which <font color='red'>are passed to the nn.Softmax module. The logits are scaled to values [0, 1]</font> representing the model’s predicted probabilities for each class. dim parameter indicates the dimension along which the values must sum to 1."
   ]
  },
  {
   "cell_type": "code",
   "execution_count": 12,
   "id": "60a4bf52-12c0-4386-b78f-e4130e742bfd",
   "metadata": {},
   "outputs": [],
   "source": [
    "softmax = nn.Softmax(dim=1)\n",
    "pred_probab = softmax(logits)"
   ]
  },
  {
   "cell_type": "markdown",
   "id": "f957b880-5fdc-4948-ad9b-ee36e0f6dcf5",
   "metadata": {},
   "source": [
    "## Model Parameters\n",
    "\n",
    "Many layers inside a neural network are parameterized, i.e. have associated <font color='red'>weights</font> and <font color='red'>biases</font> that <font color='red'>are optimized during training</font>. <font color='red'>Subclassing nn.Module automatically tracks all fields defined inside your model object</font>, and makes all parameters accessible using your model’s parameters() or named_parameters() methods.\n",
    "\n",
    "In this example, we iterate over each parameter, and print its size and a preview of its values."
   ]
  },
  {
   "cell_type": "code",
   "execution_count": 13,
   "id": "d294255c-5cc3-480f-b3b8-9eddee7a828b",
   "metadata": {},
   "outputs": [
    {
     "name": "stdout",
     "output_type": "stream",
     "text": [
      "Model structure:  NeuralNetwork(\n",
      "  (flatten): Flatten(start_dim=1, end_dim=-1)\n",
      "  (linear_relu_stack): Sequential(\n",
      "    (0): Linear(in_features=784, out_features=512, bias=True)\n",
      "    (1): ReLU()\n",
      "    (2): Linear(in_features=512, out_features=512, bias=True)\n",
      "    (3): ReLU()\n",
      "    (4): Linear(in_features=512, out_features=10, bias=True)\n",
      "  )\n",
      ") \n",
      "\n",
      "\n",
      "Layer: linear_relu_stack.0.weight | Size: torch.Size([512, 784]) | Values : tensor([[ 0.0019,  0.0347, -0.0247,  ...,  0.0323, -0.0294, -0.0063],\n",
      "        [-0.0310,  0.0093,  0.0222,  ...,  0.0009,  0.0174,  0.0146]],\n",
      "       grad_fn=<SliceBackward0>) \n",
      "\n",
      "Layer: linear_relu_stack.0.bias | Size: torch.Size([512]) | Values : tensor([-0.0053,  0.0277], grad_fn=<SliceBackward0>) \n",
      "\n",
      "Layer: linear_relu_stack.2.weight | Size: torch.Size([512, 512]) | Values : tensor([[-0.0222, -0.0249,  0.0052,  ..., -0.0216, -0.0014, -0.0166],\n",
      "        [ 0.0180,  0.0270, -0.0217,  ..., -0.0031,  0.0154,  0.0344]],\n",
      "       grad_fn=<SliceBackward0>) \n",
      "\n",
      "Layer: linear_relu_stack.2.bias | Size: torch.Size([512]) | Values : tensor([0.0150, 0.0397], grad_fn=<SliceBackward0>) \n",
      "\n",
      "Layer: linear_relu_stack.4.weight | Size: torch.Size([10, 512]) | Values : tensor([[-0.0410, -0.0163,  0.0112,  ..., -0.0060,  0.0084, -0.0116],\n",
      "        [ 0.0128, -0.0382,  0.0405,  ...,  0.0347,  0.0423,  0.0381]],\n",
      "       grad_fn=<SliceBackward0>) \n",
      "\n",
      "Layer: linear_relu_stack.4.bias | Size: torch.Size([10]) | Values : tensor([-0.0059,  0.0089], grad_fn=<SliceBackward0>) \n",
      "\n"
     ]
    }
   ],
   "source": [
    "print(\"Model structure: \", model, \"\\n\\n\")\n",
    "\n",
    "for name, param in model.named_parameters():\n",
    "    print(f\"Layer: {name} | Size: {param.size()} | Values : {param[:2]} \\n\")"
   ]
  },
  {
   "cell_type": "code",
   "execution_count": null,
   "id": "178f8283-0127-44f2-b8fa-1b9d36fe0eff",
   "metadata": {},
   "outputs": [],
   "source": []
  },
  {
   "cell_type": "markdown",
   "id": "b60f8bb5-f881-437f-9dc7-2ca3a4e3ffcf",
   "metadata": {},
   "source": [
    "# AUTOMATIC DIFFERENTIATION WITH TORCH.AUTOGRAD"
   ]
  },
  {
   "cell_type": "markdown",
   "id": "927990df-9f7b-4b35-bf60-0f115bde2065",
   "metadata": {},
   "source": [
    "## Tensors, Functions and Computational graph"
   ]
  },
  {
   "cell_type": "markdown",
   "id": "2f528abe-0780-47ca-9cdc-25b9adedee69",
   "metadata": {},
   "source": [
    "\n",
    "In this network, w and b are parameters, which we need to optimize. Thus, we need to be able to compute the gradients of loss function with respect to those variables. In order to do that, we set the requires_grad property of those tensors.\n",
    "\n",
    "<table>\n",
    "        <td>\n",
    "            <img src='https://pytorch.org/tutorials/_images/comp-graph.png' width='800'/>\n",
    "            <p style=\"text-align: center;\">computational graph</p>\n",
    "        </td>\n",
    "</table>"
   ]
  },
  {
   "cell_type": "code",
   "execution_count": 200,
   "id": "75bbd441-1452-4f01-992b-d40914ceb749",
   "metadata": {},
   "outputs": [
    {
     "name": "stdout",
     "output_type": "stream",
     "text": [
      "x: tensor([1., 1., 1., 1., 1.]), type: <class 'torch.Tensor'> \n",
      "\n",
      "y: tensor([0., 0., 0.]), type: <class 'torch.Tensor'> \n",
      "\n",
      "w: tensor([[ 8.6636e-01,  1.4533e-02,  6.2713e-02],\n",
      "        [-5.0381e-01,  5.1424e-04,  4.5244e-01],\n",
      "        [-5.4447e-01,  1.1528e+00, -1.7528e-01],\n",
      "        [ 8.6750e-01, -1.0791e+00, -1.1617e+00],\n",
      "        [-9.2799e-03, -2.8656e+00, -3.0130e-01]], requires_grad=True), type: <class 'torch.Tensor'> \n",
      "\n",
      "b: tensor([1.7421, 1.2407, 0.2888], requires_grad=True), type: <class 'torch.Tensor'> \n",
      "\n",
      "z: tensor([ 2.4184, -1.5362, -0.8344], grad_fn=<AddBackward0>), type: <class 'torch.Tensor'> \n",
      "\n",
      "loss: 1.0197442770004272, type: <class 'torch.Tensor'> \n",
      "\n"
     ]
    }
   ],
   "source": [
    "import torch\n",
    "\n",
    "x = torch.ones(5)  # input tensor\n",
    "y = torch.zeros(3)  # expected output\n",
    "# ===============================================\n",
    "#\n",
    "# In this network, w and b are parameters, which we need to optimize. Thus, we need to be able to compute the gradients of loss function with respect to those variables.\n",
    "#\n",
    "w = torch.randn(5, 3, requires_grad=True)  # requires_grad=True\n",
    "b = torch.randn(3, requires_grad=True)     # requires_grad=True\n",
    "#\n",
    "#\n",
    "# ===============================================\n",
    "z = torch.matmul(x, w)+b\n",
    "\n",
    "loss = torch.nn.functional.binary_cross_entropy_with_logits(z, y)\n",
    "\n",
    "print(f\"x: {x}, type: {type(x)} \\n\")\n",
    "print(f\"y: {y}, type: {type(y)} \\n\")\n",
    "print(f\"w: {w}, type: {type(w)} \\n\")\n",
    "print(f\"b: {b}, type: {type(b)} \\n\")\n",
    "print(f\"z: {z}, type: {type(z)} \\n\")\n",
    "print(f\"loss: {loss}, type: {type(loss)} \\n\")"
   ]
  },
  {
   "cell_type": "code",
   "execution_count": 201,
   "id": "1ac7df07-81e6-4efa-9552-ce1e3c8421c2",
   "metadata": {},
   "outputs": [
    {
     "name": "stdout",
     "output_type": "stream",
     "text": [
      "Gradient function for z = <AddBackward0 object at 0x136b664c0>\n",
      "Gradient function for loss = <BinaryCrossEntropyWithLogitsBackward0 object at 0x136c6a250>\n"
     ]
    }
   ],
   "source": [
    "print('Gradient function for z =', z.grad_fn)\n",
    "print('Gradient function for loss =', loss.grad_fn)"
   ]
  },
  {
   "cell_type": "markdown",
   "id": "dc33e2db-0861-4800-a8be-fb3e835054a1",
   "metadata": {},
   "source": [
    "\n",
    "## [CLASStorch.autograd.Function(*args, **kwargs)](https://pytorch.org/docs/stable/autograd.html#function) | [SOURCE](https://pytorch.org/docs/stable/_modules/torch/autograd/function.html#Function)\n",
    "\n",
    "Base class to create custom autograd.Function\n",
    "\n",
    "\n",
    "To create a custom autograd.Function, subclass this class and implement the forward() and :math`backward` static methods. Then, to use your custom op in the forward pass, call the class method apply. Do not call forward() directly.\n",
    "\n",
    "To ensure correctness and best performance, make sure you are calling the correct methods on ctx and validating your backward function using torch.autograd.gradcheck().\n",
    "\n",
    "See Extending torch.autograd for more details on how to use this class.\n",
    "\n",
    "Examples:"
   ]
  },
  {
   "cell_type": "code",
   "execution_count": null,
   "id": "f73a15af-a956-4e7a-988a-c12a7d5e0725",
   "metadata": {},
   "outputs": [],
   "source": [
    "class Exp(Function):\n",
    "    @staticmethod\n",
    "    def forward(ctx, i):\n",
    "        result = i.exp()\n",
    "        ctx.save_for_backward(result)\n",
    "        return result\n",
    "\n",
    "    @staticmethod\n",
    "    def backward(ctx, grad_output):\n",
    "        result, = ctx.saved_tensors\n",
    "        return grad_output * result\n",
    "\n",
    "# Use it by calling the apply method:\n",
    "output = Exp.apply(input)"
   ]
  },
  {
   "cell_type": "code",
   "execution_count": null,
   "id": "02c5c6da-8633-4959-8b18-e6170c893fda",
   "metadata": {},
   "outputs": [],
   "source": []
  },
  {
   "cell_type": "markdown",
   "id": "39dd53dd-2227-4bd8-9a4d-0f3eb38c764d",
   "metadata": {
    "tags": []
   },
   "source": [
    "## Computing Gradients\n",
    "\n",
    "To optimize weights of parameters in the neural network, we need to compute the derivatives of our loss function with respect to parameters, namely, we need $\\frac{\\partial loss}{\\partial w}$ and $\\frac{\\partial loss}{\\partial b}$ under some fixed values of `x` and `y`. To compute those derivatives, we call `loss.backward()`, and then retrieve the values from `w.grad` and `b.grad`:"
   ]
  },
  {
   "cell_type": "code",
   "execution_count": 202,
   "id": "f0938057-51c5-4150-9d9f-b4eac8f42b8a",
   "metadata": {},
   "outputs": [
    {
     "name": "stdout",
     "output_type": "stream",
     "text": [
      "tensor([[0.3061, 0.0590, 0.1009],\n",
      "        [0.3061, 0.0590, 0.1009],\n",
      "        [0.3061, 0.0590, 0.1009],\n",
      "        [0.3061, 0.0590, 0.1009],\n",
      "        [0.3061, 0.0590, 0.1009]])\n",
      "tensor([0.3061, 0.0590, 0.1009])\n"
     ]
    }
   ],
   "source": [
    "loss.backward()\n",
    "print(w.grad)\n",
    "print(b.grad)"
   ]
  },
  {
   "cell_type": "markdown",
   "id": "2fdf7665-21ee-4b69-8fb1-4e672dbb3161",
   "metadata": {},
   "source": [
    "## Disabling Gradient Tracking"
   ]
  },
  {
   "cell_type": "markdown",
   "id": "4fc4e5ca-1deb-44f0-8aa1-43e14d2f996d",
   "metadata": {},
   "source": [
    "<font color='red'>By default, all tensors with requires_grad=True are tracking their computational history and support gradient computation.</font> However, there are some cases when we do not need to do that, for example, <font color='red'>when we have trained the model and just want to apply it to some input data, i.e. we only want to do forward computations through the network.</font> \n",
    "    \n",
    "- method 1: We can <font color='red'>stop tracking computations</font> by surrounding our computation code with `torch.no_grad()` block:\n",
    "\n",
    "- method 2: Another way to achieve the same result is to use the `detach()` method on the tensor:\n",
    "\n",
    "\n",
    "--\n",
    "\n",
    "There are reasons you might want to disable gradient tracking:\n",
    "\n",
    "- To <font color='red'>mark some parameters</font> in your neural network <font color='red'>as frozen parameters</font>. This is a very common scenario <font color='red'>for [finetuning a pretrained network](https://pytorch.org/tutorials/beginner/finetuning_torchvision_models_tutorial.html).</font>\n",
    "\n",
    "- To <font color='red'>speed up computations when you are only doing forward pass</font>, because computations on tensors that do not track gradients would be more efficient.\n"
   ]
  },
  {
   "cell_type": "code",
   "execution_count": 203,
   "id": "c7eeb61f-181f-43c8-8fd0-f7625a44570d",
   "metadata": {},
   "outputs": [
    {
     "name": "stdout",
     "output_type": "stream",
     "text": [
      "True\n",
      "False\n"
     ]
    }
   ],
   "source": [
    "z = torch.matmul(x, w)+b\n",
    "print(z.requires_grad)\n",
    "\n",
    "with torch.no_grad():\n",
    "    z = torch.matmul(x, w)+b\n",
    "print(z.requires_grad)"
   ]
  },
  {
   "cell_type": "code",
   "execution_count": 204,
   "id": "9e84dbde-efcf-4b97-9404-0efc802df0e5",
   "metadata": {},
   "outputs": [
    {
     "name": "stdout",
     "output_type": "stream",
     "text": [
      "False\n"
     ]
    }
   ],
   "source": [
    "z = torch.matmul(x, w)+b\n",
    "z_det = z.detach()\n",
    "print(z_det.requires_grad)"
   ]
  },
  {
   "cell_type": "code",
   "execution_count": null,
   "id": "56c8916a-98c8-40df-a0f7-fb1127527723",
   "metadata": {},
   "outputs": [],
   "source": []
  }
 ],
 "metadata": {
  "kernelspec": {
   "display_name": "Python 3",
   "language": "python",
   "name": "python3"
  },
  "language_info": {
   "codemirror_mode": {
    "name": "ipython",
    "version": 3
   },
   "file_extension": ".py",
   "mimetype": "text/x-python",
   "name": "python",
   "nbconvert_exporter": "python",
   "pygments_lexer": "ipython3",
   "version": "3.7.4"
  },
  "toc-autonumbering": true
 },
 "nbformat": 4,
 "nbformat_minor": 5
}
