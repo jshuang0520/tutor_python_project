{
 "cells": [
  {
   "cell_type": "markdown",
   "id": "27d3d898-910a-44b5-8bd9-26dbda095eb6",
   "metadata": {},
   "source": [
    "# convert ipynb to py\n",
    "\n",
    "pip install jupyter_contrib_nbextensions\n",
    "> jupyter nbconvert --to script [YOUR_NOTEBOOK].ipynb\n",
    "\n",
    "---\n",
    "# clear all cell outputs for ipynb to reduce file size\n",
    "\n",
    "> jupyter nbconvert --clear-output --inplace [YOUR_NOTEBOOK].ipynb\n",
    "\n",
    "---\n",
    "\n",
    "# turn a notebook into a prettified slide that can be scrolled upward, downward, leftward, rightward (both horizontally and vertically)\n",
    "\n",
    "- note. use jupyter notebook (not jupyter-lab)\n",
    "\n",
    "> jupyter nbconvert [YOUR_NOTEBOOK.ipynb] --to slides --reveal-prefix reveal.js --post serve"
   ]
  },
  {
   "cell_type": "code",
   "execution_count": null,
   "id": "531ea636-cb4d-4f47-ad1a-108847ab226d",
   "metadata": {},
   "outputs": [],
   "source": []
  },
  {
   "cell_type": "markdown",
   "id": "51316657-3f67-4a5d-ac79-78854a298e2f",
   "metadata": {},
   "source": [
    "<p style=\"vertical-align: text-top; text-align: left; font-family: 'objektiv-mk1,Helvetica,Arial,sans-serif,Linotte Light'; white-space:pre-wrap; word-wrap:break-word;\">\n",
    "<font color='00CC66' size='5px'>du for only directory and sort by dir size</font>\n",
    "</p>\n",
    "\n",
    "- google: \n",
    "  - [du for only directory](https://superuser.com/questions/322521/du-only-for-directories)\n",
    "  - [du | sort command](https://linuxhint.com/sort-du-command-by-size/#:~:text=%E2%80%9Cdu%E2%80%9D%20stands%20for%20disk%20usage,to%20get%20the%20desired%20output.)\n",
    "  \n",
    "```\n",
    "du -sh [PATH_TO_YOUR_DIR]/*/ | sort -hr\n",
    "```\n",
    "\n",
    "- <font color='grey' size='3px'>output</font>\n",
    "<p style=\"vertical-align: text-top; text-align: left; font-family: 'objektiv-mk1,Helvetica,Arial,sans-serif,Linotte Light'; white-space:pre-wrap; word-wrap:break-word;\">\n",
    "61G [PATH_TO_YOUR_DIR]/[DIR_1]/\n",
    "19G [PATH_TO_YOUR_DIR]/[DIR_2]/\n",
    "</p>"
   ]
  },
  {
   "cell_type": "code",
   "execution_count": null,
   "id": "6af4df35-79b9-4176-a1fd-2ea819c9c360",
   "metadata": {},
   "outputs": [],
   "source": []
  }
 ],
 "metadata": {
  "kernelspec": {
   "display_name": "Python 3",
   "language": "python",
   "name": "python3"
  },
  "language_info": {
   "codemirror_mode": {
    "name": "ipython",
    "version": 3
   },
   "file_extension": ".py",
   "mimetype": "text/x-python",
   "name": "python",
   "nbconvert_exporter": "python",
   "pygments_lexer": "ipython3",
   "version": "3.7.4"
  }
 },
 "nbformat": 4,
 "nbformat_minor": 5
}
