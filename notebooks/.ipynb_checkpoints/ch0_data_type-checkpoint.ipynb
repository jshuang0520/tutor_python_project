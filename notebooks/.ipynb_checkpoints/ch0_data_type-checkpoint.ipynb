{
 "cells": [
  {
   "cell_type": "markdown",
   "metadata": {},
   "source": [
    "# outline"
   ]
  },
  {
   "cell_type": "markdown",
   "metadata": {},
   "source": [
    "python \n",
    "\n",
    "basic data types\n",
    "- type checking: isinstance\n",
    "- type casting\n",
    "- boolean -> the filtering logic\n",
    "\n",
    "list (tuple): \n",
    "- CRUD\n",
    "> create (append), [get element], re-assign, del (pop)\n",
    "\n",
    "- TRANSFORM\n",
    "> filter(by value, by index), sort, select\n",
    "\n",
    "> zip, enumerate with the loop\n",
    "\n",
    "> cast type to list\n",
    "\n",
    "> transformation feat. pandas series\n",
    "\n",
    "> from collections import Counter\n",
    "\n",
    "set\n",
    "- hastag\n",
    "> for unique, distinct\n",
    "\n",
    "intersection\n",
    "difference\n",
    "venn’s diagram \n",
    "type cast to set\n",
    "\n",
    "dictionary\n",
    "aggregation, loop, keys values\n",
    "transformation feat pandas df \n",
    "defaultdict\n",
    "most common"
   ]
  },
  {
   "cell_type": "code",
   "execution_count": null,
   "metadata": {},
   "outputs": [],
   "source": []
  },
  {
   "cell_type": "markdown",
   "metadata": {},
   "source": [
    "Basic data structure\n",
    "\n",
    "- CRUD\n",
    "create (an empty) one\n",
    "\n",
    "- TRANSFORM\n",
    "check element type\n",
    "select directly\n",
    "filter\n",
    "sort\n",
    "groupby aggregation - sum count collect\n",
    "\n",
    "Common Target Issue:\n",
    "Nan\n",
    "Duplicates\n",
    "\n",
    "--\n",
    "\n",
    "DataFrame \n",
    "\n",
    "- CRUD\n",
    "create (an empty) one\n",
    "\n",
    "- TRANSFORM\n",
    "check element type\n",
    "select, filter - df.loc[], df[]\n",
    "sort - sort_values\n",
    "groupby agg\n",
    "\n",
    "Common Target Issue:\n",
    "Nan - isnull()\n",
    "Duplicates - drop_duplicates\n",
    "\n",
    "other manipulation:\n",
    "concat, join\n",
    "transform a column (Series) to a basic data structure - .tolist(), to_dict(), list(F.col('col')), set()\n",
    "shape: .shape, len()\n",
    "summary, describe(), info()\n",
    "apply function"
   ]
  },
  {
   "cell_type": "markdown",
   "metadata": {
    "tags": []
   },
   "source": [
    "---\n",
    "\n",
    "- the following img embedding methods are not good for now \n",
    "\n",
    "IPython.display.Image\n",
    "\n",
    "from IPython.display import Image\n",
    "Image(filename='py_list_methods.png') \n",
    "\n",
    "Image(filename='/Users/johnson.haung/Downloads/py_list_methods.jpg')"
   ]
  },
  {
   "cell_type": "markdown",
   "metadata": {},
   "source": [
    "- this one works now:\n",
    "\n",
    "> ![img1](py_list_methods.png\n",
    "\n",
    "> <img src=\"py_list_methods.png\""
   ]
  },
  {
   "cell_type": "markdown",
   "metadata": {},
   "source": [
    "<img src=\"py_list_methods.png\">"
   ]
  },
  {
   "cell_type": "code",
   "execution_count": 30,
   "metadata": {},
   "outputs": [],
   "source": [
    "import pandas as pd\n",
    "import json"
   ]
  },
  {
   "cell_type": "code",
   "execution_count": null,
   "metadata": {},
   "outputs": [],
   "source": []
  },
  {
   "cell_type": "markdown",
   "metadata": {},
   "source": [
    "# Fundamental or Primitive Data Types\n",
    "\n",
    "> https://www.datacamp.com/community/tutorials/data-structures-python\n",
    "\n",
    "> https://realpython.com/python-data-types/\n",
    "\n",
    "- int\n",
    "\n",
    "- float\n",
    "  - notice: np.isnan(np.nan) == pd.isnull(np.nan)\n",
    "  - Python Arithmetic Operators\n",
    "  > https://www.w3schools.com/python/python_operators.asp\n",
    "\n",
    "- str\n",
    "\n",
    "- bool\n",
    "  > https://www.digitalocean.com/community/tutorials/understanding-boolean-logic-in-python-3"
   ]
  },
  {
   "cell_type": "code",
   "execution_count": 1,
   "metadata": {},
   "outputs": [
    {
     "name": "stdout",
     "output_type": "stream",
     "text": [
      "x == y: False\n",
      "x != y: True\n",
      "x < y: True\n",
      "x > y: False\n",
      "x <= y: True\n",
      "x >= y: False\n"
     ]
    }
   ],
   "source": [
    "x = 1; y = 2\n",
    "print(\"x == y:\", x == y)\n",
    "print(\"x != y:\", x != y)\n",
    "print(\"x < y:\", x < y)\n",
    "print(\"x > y:\", x > y)\n",
    "print(\"x <= y:\", x <= y)\n",
    "print(\"x >= y:\", x >= y)"
   ]
  },
  {
   "cell_type": "code",
   "execution_count": 2,
   "metadata": {},
   "outputs": [
    {
     "name": "stdout",
     "output_type": "stream",
     "text": [
      "(x == y) and (x != y): False\n",
      "(x == y) or (x != y): True\n"
     ]
    }
   ],
   "source": [
    "# (+ & -) = -\n",
    "print('(x == y) and (x != y): {}'.format((x == y) and (x != y)))\n",
    "\n",
    "# (+ | -) = +\n",
    "print('(x == y) or (x != y): {}'.format((x == y) or (x != y)))"
   ]
  },
  {
   "cell_type": "markdown",
   "metadata": {},
   "source": [
    "> <font color='#FFCC34'> - give it a try - </font>\n",
    "\n",
    "\n",
    "> SELECT * \n",
    "FROM df_train AS T\n",
    "WHERE (T.Survived=0 AND T.Pclass=3) \n",
    "AND NOT (T.Age BETWEEN 5 AND 70)\n",
    "AND T.Age IS NOT NULL;"
   ]
  },
  {
   "cell_type": "code",
   "execution_count": 3,
   "metadata": {},
   "outputs": [
    {
     "name": "stdout",
     "output_type": "stream",
     "text": [
      "--- your turn ---\n",
      "\n",
      "SELECT * \n",
      "FROM df_train AS T\n",
      "WHERE (T.Survived=0 AND T.Pclass=3) \n",
      "AND NOT (T.Age BETWEEN 5 AND 70)\n",
      "AND T.Age IS NOT NULL;\n",
      "\n"
     ]
    }
   ],
   "source": [
    "print('''--- your turn ---\n",
    "\n",
    "SELECT * \n",
    "FROM df_train AS T\n",
    "WHERE (T.Survived=0 AND T.Pclass=3) \n",
    "AND NOT (T.Age BETWEEN 5 AND 70)\n",
    "AND T.Age IS NOT NULL;\n",
    "''')\n",
    "\n",
    "# df_train.loc[((df_train['Survived']==0) & (df_train['Pclass']==3))\n",
    "#              & ~((5 <= df_train['Age']) & (df_train['Age'] <= 70))\n",
    "#              & ~(df_train['Age'].isnull()==True)\n",
    "#             ]"
   ]
  },
  {
   "cell_type": "code",
   "execution_count": null,
   "metadata": {},
   "outputs": [],
   "source": []
  },
  {
   "cell_type": "markdown",
   "metadata": {},
   "source": [
    "### more info for float topic\n",
    "\n",
    "google: sql float double decimal\n",
    "> https://stackoverflow.com/questions/1056323/difference-between-numeric-float-and-decimal-in-sql-server\n",
    "\n",
    "numpy\n",
    "> https://numpy.org/doc/stable/user/basics.types.html\n",
    "\n",
    "\n",
    "google: np float 32 64 python float\n",
    "> https://stackoverflow.com/questions/43968097/python-float-vs-numpy-float32\n",
    "- In general floating point numbers shouldn't be compared directly using ==. You can use numpy.isclose to deal with the small errors caused by non-exact floating point representations."
   ]
  },
  {
   "cell_type": "code",
   "execution_count": 4,
   "metadata": {},
   "outputs": [
    {
     "data": {
      "text/plain": [
       "False"
      ]
     },
     "execution_count": 4,
     "metadata": {},
     "output_type": "execute_result"
    }
   ],
   "source": [
    "import numpy as np\n",
    "t = np.float32(.3)\n",
    "x = np.float32(1)\n",
    "r = np.float32(-.3)\n",
    "_t = t+x+r\n",
    "_t == 1"
   ]
  },
  {
   "cell_type": "code",
   "execution_count": 5,
   "metadata": {},
   "outputs": [
    {
     "data": {
      "text/plain": [
       "True"
      ]
     },
     "execution_count": 5,
     "metadata": {},
     "output_type": "execute_result"
    }
   ],
   "source": [
    "np.isclose(_t, 1)"
   ]
  },
  {
   "cell_type": "code",
   "execution_count": 6,
   "metadata": {},
   "outputs": [
    {
     "data": {
      "text/plain": [
       "True"
      ]
     },
     "execution_count": 6,
     "metadata": {},
     "output_type": "execute_result"
    }
   ],
   "source": [
    "t = .3\n",
    "x = 1\n",
    "r = -.3\n",
    "_t = t+x+r\n",
    "_t == 1 # -> True"
   ]
  },
  {
   "cell_type": "code",
   "execution_count": 7,
   "metadata": {},
   "outputs": [
    {
     "data": {
      "text/plain": [
       "True"
      ]
     },
     "execution_count": 7,
     "metadata": {},
     "output_type": "execute_result"
    }
   ],
   "source": [
    "np.isclose(_t, 1)"
   ]
  },
  {
   "cell_type": "markdown",
   "metadata": {},
   "source": [
    "## datetime, timestamp, unix_time_stamp"
   ]
  },
  {
   "cell_type": "code",
   "execution_count": 8,
   "metadata": {},
   "outputs": [],
   "source": [
    "from datetime import datetime\n",
    "# often be confused with: import datetime"
   ]
  },
  {
   "cell_type": "code",
   "execution_count": 9,
   "metadata": {},
   "outputs": [
    {
     "name": "stdout",
     "output_type": "stream",
     "text": [
      "strp_datetime: 2022-01-04 08:42:01, type: <class 'datetime.datetime'>\n"
     ]
    },
    {
     "data": {
      "text/plain": [
       "datetime.datetime(2022, 1, 4, 8, 42, 1)"
      ]
     },
     "execution_count": 9,
     "metadata": {},
     "output_type": "execute_result"
    }
   ],
   "source": [
    "strp_datetime = datetime.strptime('2022-01-04 08:42:01', \"%Y-%m-%d %H:%M:%S\")\n",
    "print('strp_datetime: {}, type: {}'.format(strp_datetime, type(strp_datetime)))\n",
    "strp_datetime  # out[1]: datetime.datetime(2022, 1, 4, 8, 42, 1)"
   ]
  },
  {
   "cell_type": "code",
   "execution_count": 10,
   "metadata": {},
   "outputs": [
    {
     "name": "stdout",
     "output_type": "stream",
     "text": [
      "strf_string: 2022-04-01 08:42:01, type: <class 'str'>\n"
     ]
    },
    {
     "data": {
      "text/plain": [
       "'2022-04-01 08:42:01'"
      ]
     },
     "execution_count": 10,
     "metadata": {},
     "output_type": "execute_result"
    }
   ],
   "source": [
    "strf_string = datetime.strftime(strp_datetime, \"%Y-%d-%m %H:%M:%S\")\n",
    "print('strf_string: {}, type: {}'.format(strf_string, type(strf_string)))\n",
    "strf_string  # out[1]: '2022-04-01 08:42:01'"
   ]
  },
  {
   "cell_type": "code",
   "execution_count": 11,
   "metadata": {},
   "outputs": [
    {
     "name": "stdout",
     "output_type": "stream",
     "text": [
      "unix_ts: 1641256921.0, type: <class 'float'>\n"
     ]
    },
    {
     "data": {
      "text/plain": [
       "1641256921.0"
      ]
     },
     "execution_count": 11,
     "metadata": {},
     "output_type": "execute_result"
    }
   ],
   "source": [
    "unix_ts = strp_datetime.timestamp()\n",
    "print('unix_ts: {}, type: {}'.format(unix_ts, type(unix_ts)))\n",
    "unix_ts  # out[1]: 1565283661.0"
   ]
  },
  {
   "cell_type": "code",
   "execution_count": 12,
   "metadata": {},
   "outputs": [
    {
     "name": "stdout",
     "output_type": "stream",
     "text": [
      "utc_strp_datetime: 2022-01-04 00:42:01, type: <class 'datetime.datetime'>\n"
     ]
    },
    {
     "data": {
      "text/plain": [
       "datetime.datetime(2022, 1, 4, 0, 42, 1)"
      ]
     },
     "execution_count": 12,
     "metadata": {},
     "output_type": "execute_result"
    }
   ],
   "source": [
    "utc_strp_datetime = datetime.utcfromtimestamp(unix_ts)\n",
    "print('utc_strp_datetime: {}, type: {}'.format(utc_strp_datetime, type(utc_strp_datetime)))\n",
    "utc_strp_datetime  # out[1]: 1565283661.0"
   ]
  },
  {
   "cell_type": "markdown",
   "metadata": {},
   "source": [
    "- stop here, and compare strp_datetime with utc_strp_datetime"
   ]
  },
  {
   "cell_type": "code",
   "execution_count": 13,
   "metadata": {},
   "outputs": [],
   "source": [
    "# from datetime import datetime, timedelta, timezone\n",
    "\n",
    "\n",
    "# def get_dt_str_by_timestamp(timestamp):\n",
    "#     \"\"\"\n",
    "#     Return a string format dict by given timestamp\n",
    "#     \"\"\"\n",
    "#     dt_str = dict()\n",
    "#     dt_str['dt'] = datetime.utcfromtimestamp(timestamp).strftime('%Y-%m-%dT%H:%M:%S')\n",
    "#     dt_str['dt_hour_str'] = dt_str['dt'][:13]\n",
    "#     dt_str['dt_minute_str'] = dt_str['dt'][:16]\n",
    "#     dt_str['time_str'] = dt_str['dt'][-8:]\n",
    "#     return dt_str\n",
    "\n",
    "# def get_utc_unix_ts_from_dt_strp(self, dt_strp):\n",
    "#     \"\"\"\n",
    "#     input: utc datetime, output: unix timestamp of this utc datetime\n",
    "#     --\n",
    "#     note:\n",
    "#     .timestamp() assumes local time instead of UTC if no explicit timezone is given\n",
    "#     \"\"\"\n",
    "#     self.logger.debug(\"dt_strp: {}, type(dt_str): {}\".format(dt_strp, type(dt_strp)))\n",
    "#     unix_ts = int(dt_strp.replace(tzinfo=timezone.utc).timestamp())  # wrong answer for: int(dt_str.timestamp())\n",
    "#     self.logger.debug(\"unix_ts: {}\".format(unix_ts))\n",
    "#     return unix_ts\n",
    "\n",
    "# def get_utc_unix_ts_from_dt_strf(self, dt_strf):\n",
    "#     \"\"\"\n",
    "#     input: utc datetime, output: unix timestamp of this utc datetime\n",
    "#     --\n",
    "#     note:\n",
    "#     .timestamp() assumes local time instead of UTC if no explicit timezone is given\n",
    "#     \"\"\"\n",
    "#     self.logger.debug(\"dt_strf: {}, type(dt_str): {}\".format(dt_strf, type(dt_strf)))\n",
    "#     unix_ts = int(datetime.strptime(dt_strf, '%Y-%m-%dT%H:%M:%S').replace(tzinfo=timezone.utc).timestamp())  # wrong answer for: int(dt_str.timestamp())\n",
    "#     self.logger.debug(\"unix_ts: {}\".format(unix_ts))\n",
    "#     return unix_ts\n",
    "\n",
    "# def get_dt_strf_from_utc_ts(unix_timestamp):\n",
    "#     return datetime.utcfromtimestamp(unix_timestamp).strftime('%Y-%m-%dT%H:%M:%S')\n",
    "\n",
    "    \n",
    "# get_dt_str_by_timestamp(unix_ts)"
   ]
  },
  {
   "cell_type": "code",
   "execution_count": null,
   "metadata": {},
   "outputs": [],
   "source": []
  },
  {
   "cell_type": "markdown",
   "metadata": {},
   "source": [
    "# python basic data structures (non-primitive data structures)\n",
    "\n",
    "> https://docs.python.org/3/tutorial/datastructures.html\n",
    "\n",
    "> list\n",
    "\n",
    "> tuple\n",
    "\n",
    "> set\n",
    "\n",
    "> dictionary"
   ]
  },
  {
   "cell_type": "code",
   "execution_count": null,
   "metadata": {},
   "outputs": [],
   "source": []
  },
  {
   "cell_type": "markdown",
   "metadata": {},
   "source": [
    "## list\n",
    "\n",
    "- 建立時使用 [] 中括號\n",
    "- 可以容納不同的變數類型（str, int, float, bool, complex）\n",
    "- Python 的索引值從 0 開始算\n",
    "\n",
    "list tuple: create, append, pop, del, filter( by value, by index), sort, select zip, enumerate with the loop type cast to list transformation feat pandas series import itertools"
   ]
  },
  {
   "cell_type": "code",
   "execution_count": 14,
   "metadata": {},
   "outputs": [
    {
     "data": {
      "text/plain": [
       "['Chicago Bulls', 72, 10, 0.8780487804878049, True]"
      ]
     },
     "execution_count": 14,
     "metadata": {},
     "output_type": "execute_result"
    }
   ],
   "source": [
    "team_name = \"Chicago Bulls\"\n",
    "wins = 72\n",
    "losses = 10\n",
    "win_percentage = wins / (wins + losses)\n",
    "is_champion = True\n",
    "\n",
    "chicago_bulls = [team_name, wins, losses, win_percentage, is_champion]\n",
    "chicago_bulls"
   ]
  },
  {
   "cell_type": "markdown",
   "metadata": {},
   "source": [
    "> <font color='red'> First thought? </font>\n",
    "\n",
    "- Did you check the type?"
   ]
  },
  {
   "cell_type": "code",
   "execution_count": 15,
   "metadata": {},
   "outputs": [],
   "source": [
    "# your answer here\n"
   ]
  },
  {
   "cell_type": "code",
   "execution_count": 16,
   "metadata": {},
   "outputs": [
    {
     "data": {
      "text/plain": [
       "['Golden State Warriors', 73, 9, 0.8902439024390244, False]"
      ]
     },
     "execution_count": 16,
     "metadata": {},
     "output_type": "execute_result"
    }
   ],
   "source": [
    "team_name = \"Golden State Warriors\"\n",
    "wins = 73\n",
    "losses = 9\n",
    "win_percentage = wins / (wins + losses)\n",
    "is_champion = False\n",
    "\n",
    "gsw = [team_name, wins, losses, win_percentage, is_champion]\n",
    "gsw"
   ]
  },
  {
   "cell_type": "markdown",
   "metadata": {},
   "source": [
    "> <font color='#FFCC34'> - give it a try - </font>\n",
    "\n",
    "- create a list to collect these two lists"
   ]
  },
  {
   "cell_type": "code",
   "execution_count": 17,
   "metadata": {},
   "outputs": [],
   "source": [
    "# your answer here\n",
    "\n",
    "# nba_list = list()\n"
   ]
  },
  {
   "cell_type": "markdown",
   "metadata": {},
   "source": [
    "> <font color='#FFCC34'> - give it a try - </font>\n",
    "\n",
    "- list append vs extend"
   ]
  },
  {
   "cell_type": "code",
   "execution_count": 18,
   "metadata": {},
   "outputs": [],
   "source": [
    "# your answer here\n"
   ]
  },
  {
   "cell_type": "markdown",
   "metadata": {},
   "source": [
    "> <font color='#FFCC34'> - give it a try - </font>\n",
    "\n",
    "- zip two lists\n",
    "- enumerate"
   ]
  },
  {
   "cell_type": "code",
   "execution_count": 19,
   "metadata": {},
   "outputs": [
    {
     "name": "stdout",
     "output_type": "stream",
     "text": [
      "0 ('Chicago Bulls', 'Golden State Warriors')\n",
      "1 (72, 73)\n",
      "2 (10, 9)\n",
      "3 (0.8780487804878049, 0.8902439024390244)\n",
      "4 (True, False)\n"
     ]
    }
   ],
   "source": [
    "# your answer here\n",
    "\n",
    "\n",
    "# enumerate + loop to print elements from the zipped list\n",
    "for count, value in enumerate(list(zip(chicago_bulls, gsw))):\n",
    "    print(count, value)"
   ]
  },
  {
   "cell_type": "code",
   "execution_count": null,
   "metadata": {},
   "outputs": [],
   "source": []
  },
  {
   "cell_type": "code",
   "execution_count": 22,
   "metadata": {},
   "outputs": [
    {
     "data": {
      "text/html": [
       "<div>\n",
       "<style scoped>\n",
       "    .dataframe tbody tr th:only-of-type {\n",
       "        vertical-align: middle;\n",
       "    }\n",
       "\n",
       "    .dataframe tbody tr th {\n",
       "        vertical-align: top;\n",
       "    }\n",
       "\n",
       "    .dataframe thead th {\n",
       "        text-align: right;\n",
       "    }\n",
       "</style>\n",
       "<table border=\"1\" class=\"dataframe\">\n",
       "  <thead>\n",
       "    <tr style=\"text-align: right;\">\n",
       "      <th></th>\n",
       "      <th>PassengerId</th>\n",
       "      <th>Survived</th>\n",
       "      <th>Pclass</th>\n",
       "      <th>Name</th>\n",
       "      <th>Sex</th>\n",
       "      <th>Age</th>\n",
       "      <th>SibSp</th>\n",
       "      <th>Parch</th>\n",
       "      <th>Ticket</th>\n",
       "      <th>Fare</th>\n",
       "      <th>Cabin</th>\n",
       "      <th>Embarked</th>\n",
       "    </tr>\n",
       "  </thead>\n",
       "  <tbody>\n",
       "    <tr>\n",
       "      <th>0</th>\n",
       "      <td>1</td>\n",
       "      <td>0</td>\n",
       "      <td>3</td>\n",
       "      <td>Braund, Mr. Owen Harris</td>\n",
       "      <td>male</td>\n",
       "      <td>22.0</td>\n",
       "      <td>1</td>\n",
       "      <td>0</td>\n",
       "      <td>A/5 21171</td>\n",
       "      <td>7.2500</td>\n",
       "      <td>NaN</td>\n",
       "      <td>S</td>\n",
       "    </tr>\n",
       "    <tr>\n",
       "      <th>1</th>\n",
       "      <td>2</td>\n",
       "      <td>1</td>\n",
       "      <td>1</td>\n",
       "      <td>Cumings, Mrs. John Bradley (Florence Briggs Th...</td>\n",
       "      <td>female</td>\n",
       "      <td>38.0</td>\n",
       "      <td>1</td>\n",
       "      <td>0</td>\n",
       "      <td>PC 17599</td>\n",
       "      <td>71.2833</td>\n",
       "      <td>C85</td>\n",
       "      <td>C</td>\n",
       "    </tr>\n",
       "    <tr>\n",
       "      <th>2</th>\n",
       "      <td>3</td>\n",
       "      <td>1</td>\n",
       "      <td>3</td>\n",
       "      <td>Heikkinen, Miss. Laina</td>\n",
       "      <td>female</td>\n",
       "      <td>26.0</td>\n",
       "      <td>0</td>\n",
       "      <td>0</td>\n",
       "      <td>STON/O2. 3101282</td>\n",
       "      <td>7.9250</td>\n",
       "      <td>NaN</td>\n",
       "      <td>S</td>\n",
       "    </tr>\n",
       "    <tr>\n",
       "      <th>3</th>\n",
       "      <td>4</td>\n",
       "      <td>1</td>\n",
       "      <td>1</td>\n",
       "      <td>Futrelle, Mrs. Jacques Heath (Lily May Peel)</td>\n",
       "      <td>female</td>\n",
       "      <td>35.0</td>\n",
       "      <td>1</td>\n",
       "      <td>0</td>\n",
       "      <td>113803</td>\n",
       "      <td>53.1000</td>\n",
       "      <td>C123</td>\n",
       "      <td>S</td>\n",
       "    </tr>\n",
       "    <tr>\n",
       "      <th>4</th>\n",
       "      <td>5</td>\n",
       "      <td>0</td>\n",
       "      <td>3</td>\n",
       "      <td>Allen, Mr. William Henry</td>\n",
       "      <td>male</td>\n",
       "      <td>35.0</td>\n",
       "      <td>0</td>\n",
       "      <td>0</td>\n",
       "      <td>373450</td>\n",
       "      <td>8.0500</td>\n",
       "      <td>NaN</td>\n",
       "      <td>S</td>\n",
       "    </tr>\n",
       "  </tbody>\n",
       "</table>\n",
       "</div>"
      ],
      "text/plain": [
       "   PassengerId  Survived  Pclass  \\\n",
       "0            1         0       3   \n",
       "1            2         1       1   \n",
       "2            3         1       3   \n",
       "3            4         1       1   \n",
       "4            5         0       3   \n",
       "\n",
       "                                                Name     Sex   Age  SibSp  \\\n",
       "0                            Braund, Mr. Owen Harris    male  22.0      1   \n",
       "1  Cumings, Mrs. John Bradley (Florence Briggs Th...  female  38.0      1   \n",
       "2                             Heikkinen, Miss. Laina  female  26.0      0   \n",
       "3       Futrelle, Mrs. Jacques Heath (Lily May Peel)  female  35.0      1   \n",
       "4                           Allen, Mr. William Henry    male  35.0      0   \n",
       "\n",
       "   Parch            Ticket     Fare Cabin Embarked  \n",
       "0      0         A/5 21171   7.2500   NaN        S  \n",
       "1      0          PC 17599  71.2833   C85        C  \n",
       "2      0  STON/O2. 3101282   7.9250   NaN        S  \n",
       "3      0            113803  53.1000  C123        S  \n",
       "4      0            373450   8.0500   NaN        S  "
      ]
     },
     "execution_count": 22,
     "metadata": {},
     "output_type": "execute_result"
    }
   ],
   "source": [
    "df_train = pd.read_csv('/Users/johnson.huang/py_ds/tutor_python_project/data/titanic/train.csv')\n",
    "df_train.head()"
   ]
  },
  {
   "cell_type": "code",
   "execution_count": 23,
   "metadata": {},
   "outputs": [
    {
     "name": "stdout",
     "output_type": "stream",
     "text": [
      "<class 'pandas.core.indexes.base.Index'>\n"
     ]
    }
   ],
   "source": [
    "print(type(df_train.columns))"
   ]
  },
  {
   "cell_type": "markdown",
   "metadata": {},
   "source": [
    "- type casting"
   ]
  },
  {
   "cell_type": "code",
   "execution_count": 24,
   "metadata": {},
   "outputs": [
    {
     "name": "stdout",
     "output_type": "stream",
     "text": [
      "cols: ['PassengerId', 'Survived', 'Pclass', 'Name', 'Sex', 'Age', 'SibSp', 'Parch', 'Ticket', 'Fare', 'Cabin', 'Embarked']\n"
     ]
    }
   ],
   "source": [
    "cols = list(df_train.columns)\n",
    "print('cols: {}'.format(cols))"
   ]
  },
  {
   "cell_type": "code",
   "execution_count": 25,
   "metadata": {},
   "outputs": [
    {
     "name": "stdout",
     "output_type": "stream",
     "text": [
      "rand_res: 74\n",
      "rand_res: 59\n",
      "rand_res: 16\n",
      "rand_res: 77\n",
      "rand_res: 27\n",
      "rand_res: 32\n",
      "rand_res: 71\n",
      "rand_res: 32\n",
      "rand_res: 63\n",
      "rand_res: 62\n",
      "len(lst): 10; lst: [74, 59, 16, 77, 27, 32, 71, 32, 63, 62]\n"
     ]
    }
   ],
   "source": [
    "# create a list\n",
    "lst = list()\n",
    "# append elements\n",
    "import random\n",
    "for x in range(0, 10):\n",
    "    rand_res = random.randrange(0, 101, 1)\n",
    "    print('rand_res: {}'.format(rand_res))\n",
    "    if rand_res > 10:\n",
    "        lst.append(rand_res)\n",
    "print('len(lst): {length}; lst: {lst}'.format(length=len(lst), lst=lst))"
   ]
  },
  {
   "cell_type": "code",
   "execution_count": 26,
   "metadata": {},
   "outputs": [
    {
     "name": "stdout",
     "output_type": "stream",
     "text": [
      "first elem: 74; last elem: 62\n"
     ]
    }
   ],
   "source": [
    "print('first elem: {}; last elem: {}'.format(lst[0], lst[-1]))"
   ]
  },
  {
   "cell_type": "code",
   "execution_count": 27,
   "metadata": {},
   "outputs": [
    {
     "data": {
      "text/plain": [
       "[16, 27, 32, 32, 59, 62, 63, 71, 74, 77]"
      ]
     },
     "execution_count": 27,
     "metadata": {},
     "output_type": "execute_result"
    }
   ],
   "source": [
    "# sort list\n",
    "sorted(lst)"
   ]
  },
  {
   "cell_type": "code",
   "execution_count": 28,
   "metadata": {},
   "outputs": [
    {
     "data": {
      "text/plain": [
       "[(1, 11), (3, 6), (6, 5)]"
      ]
     },
     "execution_count": 28,
     "metadata": {},
     "output_type": "execute_result"
    }
   ],
   "source": [
    "# counter\n",
    "lst_2 = [1,1,1,1,1,1,1,1,1,1,1,2,2,2,2,3,3,3,3,3,3,4,4,5,5,5,6,6,6,6,6,7,8]\n",
    "from collections import Counter\n",
    "c = Counter(lst_2)\n",
    "c.most_common(3)"
   ]
  },
  {
   "cell_type": "code",
   "execution_count": 31,
   "metadata": {},
   "outputs": [
    {
     "name": "stdout",
     "output_type": "stream",
     "text": [
      "{\n",
      "  \"1\": 11,\n",
      "  \"2\": 4,\n",
      "  \"3\": 6,\n",
      "  \"4\": 2,\n",
      "  \"5\": 3,\n",
      "  \"6\": 5,\n",
      "  \"7\": 1,\n",
      "  \"8\": 1\n",
      "}\n"
     ]
    }
   ],
   "source": [
    "# way(s) to print dictionary nice and neat\n",
    "print(json.dumps(dict(c), indent=2, sort_keys=True))"
   ]
  },
  {
   "cell_type": "code",
   "execution_count": null,
   "metadata": {},
   "outputs": [],
   "source": []
  },
  {
   "cell_type": "markdown",
   "metadata": {},
   "source": [
    "---"
   ]
  },
  {
   "cell_type": "code",
   "execution_count": 32,
   "metadata": {},
   "outputs": [],
   "source": [
    "genre = \"SitCom\"\n",
    "seasons = 10\n",
    "episodes = 236\n",
    "stars = [\"Jennifer Aniston\", \"Courteney Cox\", \"Lisa Kudrow\",\n",
    "\"Matt LeBlanc\", \"Matthew Perry\", \"David Schwimmer\"]"
   ]
  },
  {
   "cell_type": "code",
   "execution_count": 33,
   "metadata": {},
   "outputs": [
    {
     "data": {
      "text/plain": [
       "['Jennifer Aniston',\n",
       " 'Courteney Cox',\n",
       " 'Lisa Kudrow',\n",
       " 'Matt LeBlanc',\n",
       " 'Matthew Perry',\n",
       " 'David Schwimmer']"
      ]
     },
     "execution_count": 33,
     "metadata": {},
     "output_type": "execute_result"
    }
   ],
   "source": [
    "stars"
   ]
  },
  {
   "cell_type": "markdown",
   "metadata": {},
   "source": [
    "> <font color='#FFCC34'> - give it a try - </font>\n",
    "\n",
    "- 建立一個 list 叫做 friends_list 儲存這些資訊"
   ]
  },
  {
   "cell_type": "code",
   "execution_count": 34,
   "metadata": {},
   "outputs": [],
   "source": [
    "# your answer here\n"
   ]
  },
  {
   "cell_type": "markdown",
   "metadata": {},
   "source": [
    "> <font color='#FFCC34'> - give it a try - </font>\n",
    "\n",
    "- 建立好以後，請將季數與 \"Matthew Perry\" 印出"
   ]
  },
  {
   "cell_type": "code",
   "execution_count": 35,
   "metadata": {},
   "outputs": [],
   "source": [
    "# your answer here\n",
    "\n",
    "# method 1: via index (hard code)\n",
    "\n",
    "# method 2-1: via loop searching - O(n)\n",
    "\n",
    "# method 2-2: via loop searching, stop the loop when the matched element is found\n"
   ]
  },
  {
   "cell_type": "markdown",
   "metadata": {},
   "source": [
    "> <font color='#FFCC34'> - give it a try - </font>\n",
    "- alter the last element in this 'star' list"
   ]
  },
  {
   "cell_type": "code",
   "execution_count": 36,
   "metadata": {},
   "outputs": [],
   "source": [
    "# your answer here\n",
    "\n",
    "# re-assign the last element of 'star' list to your English name\n"
   ]
  },
  {
   "cell_type": "markdown",
   "metadata": {},
   "source": [
    "> <font color='#FFCC34'> - give it a try - </font>\n",
    "- append an element to this 'star' list"
   ]
  },
  {
   "cell_type": "code",
   "execution_count": 37,
   "metadata": {},
   "outputs": [],
   "source": [
    "# your answer here\n",
    "\n",
    "# re-assign the last element of 'star' list to your English name\n"
   ]
  },
  {
   "cell_type": "markdown",
   "metadata": {},
   "source": [
    "> <font color='#FFCC34'> - give it a try - </font>\n",
    "- re-order the 'star' list by their names, A-Z"
   ]
  },
  {
   "cell_type": "code",
   "execution_count": 38,
   "metadata": {},
   "outputs": [],
   "source": [
    "# your answer here\n"
   ]
  },
  {
   "cell_type": "markdown",
   "metadata": {},
   "source": [
    "---"
   ]
  },
  {
   "cell_type": "code",
   "execution_count": null,
   "metadata": {},
   "outputs": [],
   "source": []
  },
  {
   "cell_type": "markdown",
   "metadata": {},
   "source": [
    "## tuple\n",
    "\n",
    "- 跟 list 很像，但是我們不能新增，刪除或者更新 tuple 的元素\n",
    "- 建立時使用 () 小括號或者使用 tuple() 函數轉換既有的 list"
   ]
  },
  {
   "cell_type": "code",
   "execution_count": 39,
   "metadata": {},
   "outputs": [
    {
     "data": {
      "text/plain": [
       "('Chicago Bulls', 72, 10, 0.8780487804878049, True)"
      ]
     },
     "execution_count": 39,
     "metadata": {},
     "output_type": "execute_result"
    }
   ],
   "source": [
    "team_name = \"Chicago Bulls\"\n",
    "wins = 72\n",
    "losses = 10\n",
    "win_percentage = wins / (wins + losses)\n",
    "is_champion = True\n",
    "\n",
    "chicago_bulls_list = [team_name, wins, losses, win_percentage, is_champion]\n",
    "chicago_bulls_tuple = (team_name, wins, losses, win_percentage, is_champion)\n",
    "chicago_bulls_tuple"
   ]
  },
  {
   "cell_type": "code",
   "execution_count": 40,
   "metadata": {},
   "outputs": [
    {
     "data": {
      "text/plain": [
       "('Chicago Bulls', 72, 10, 0.8780487804878049, True)"
      ]
     },
     "execution_count": 40,
     "metadata": {},
     "output_type": "execute_result"
    }
   ],
   "source": [
    "# type casting\n",
    "chicago_bulls_tuple_2 = tuple(chicago_bulls_list)\n",
    "chicago_bulls_tuple_2"
   ]
  },
  {
   "cell_type": "markdown",
   "metadata": {},
   "source": [
    "> <font color='#FFCC34'> -- give it a try -- </font>\n",
    "- 2 ways to create a tuple"
   ]
  },
  {
   "cell_type": "code",
   "execution_count": 41,
   "metadata": {},
   "outputs": [],
   "source": [
    "# your answer here\n",
    "\n",
    "# method 1: create an empty tuple named gsw, append an element season='2015–16'\n",
    "\n",
    "# method 2: turn gsw_lst = ['2015–16'] to a tuple\n"
   ]
  },
  {
   "cell_type": "code",
   "execution_count": null,
   "metadata": {},
   "outputs": [],
   "source": []
  },
  {
   "cell_type": "markdown",
   "metadata": {},
   "source": [
    "## set"
   ]
  },
  {
   "cell_type": "code",
   "execution_count": 42,
   "metadata": {},
   "outputs": [],
   "source": [
    "lst1 = [1,1,1,1,1,1,1,1,1,2,2,2,2,2,3,3,4,5,6,7]\n",
    "lst2 = [1,1,1,1,1,1,1,2,2,3,4,5,9,10,11,12]"
   ]
  },
  {
   "cell_type": "code",
   "execution_count": 43,
   "metadata": {},
   "outputs": [
    {
     "name": "stdout",
     "output_type": "stream",
     "text": [
      "lst1_uniq: {1, 2, 3, 4, 5, 6, 7}, length: 7\n"
     ]
    }
   ],
   "source": [
    "lst1_uniq = set(lst1)\n",
    "print('lst1_uniq: {}, length: {}'.format(lst1_uniq, len(lst1_uniq)))"
   ]
  },
  {
   "cell_type": "code",
   "execution_count": 44,
   "metadata": {},
   "outputs": [
    {
     "name": "stdout",
     "output_type": "stream",
     "text": [
      "lst2_uniq: {1, 2, 3, 4, 5, 9, 10, 11, 12}, length: 9\n"
     ]
    }
   ],
   "source": [
    "lst2_uniq = set(lst2)\n",
    "print('lst2_uniq: {}, length: {}'.format(lst2_uniq, len(lst2_uniq)))"
   ]
  },
  {
   "cell_type": "code",
   "execution_count": 45,
   "metadata": {},
   "outputs": [],
   "source": [
    "import matplotlib.pyplot as plt\n",
    "from matplotlib_venn import venn2, venn3\n",
    "\n",
    "\n",
    "def venn_n_sets(lst1, lst2, label1, label2, mode='show_len', venn=2, lst3=None, label3=None):\n",
    "    \"\"\"\n",
    "    https://stackoverflow.com/questions/51052573/matplotlib-venn-changing-what-is-displayed-inside-the-venn-diagram\n",
    "    --\n",
    "    \n",
    "    mode: ['show_len', 'show_text']\n",
    "    \"\"\"\n",
    "    # prepare data\n",
    "    S1 = set(lst1)\n",
    "    S2 = set(lst2)\n",
    "    \n",
    "    # plot\n",
    "    if venn == 2:\n",
    "        v = venn2([S1, S2], (label1, label2))     \n",
    "    elif venn == 3:\n",
    "        S3 = set(lst3)\n",
    "        v = venn3([S1, S2, S3], (label1, label2, label3))\n",
    "        if mode == 'show_len':\n",
    "            v.get_label_by_id('001').set_text(len(S3-(S1|S2)))\n",
    "            \n",
    "        \n",
    "#     # annotation\n",
    "#     if mode == 'show_len':\n",
    "#             v.get_label_by_id('100').set_text(len(S1-S2))\n",
    "#             v.get_label_by_id('110').set_text(len(S1&S2))\n",
    "#             v.get_label_by_id('010').set_text(len(S2-S1))\n",
    "#     elif mode == 'show_text':\n",
    "#         v.get_label_by_id('100').set_text('\\n'.join(map(str,S1-S2)))\n",
    "#         v.get_label_by_id('110').set_text('\\n'.join(map(str,S1&S2)))\n",
    "#         v.get_label_by_id('010').set_text('\\n'.join(map(str,S2-S1)))\n",
    "\n",
    "\n",
    "    # v.get_patch_by_id('001').set_color('blue')\n",
    "    # plt.axis('on')\n",
    "    plt.title('venn diagram', fontsize=15)\n",
    "    plt.show()"
   ]
  },
  {
   "cell_type": "code",
   "execution_count": 46,
   "metadata": {},
   "outputs": [
    {
     "data": {
      "image/png": "[encoded data removed]",
      "text/plain": [
       "<Figure size 432x288 with 1 Axes>"
      ]
     },
     "metadata": {},
     "output_type": "display_data"
    }
   ],
   "source": [
    "venn_n_sets(lst1, lst2, label1='lst1', label2='lst2', mode='show_len', venn=2, lst3=None, label3=None)"
   ]
  },
  {
   "cell_type": "code",
   "execution_count": null,
   "metadata": {},
   "outputs": [],
   "source": []
  },
  {
   "cell_type": "markdown",
   "metadata": {
    "tags": []
   },
   "source": [
    "## dictionary\n",
    "\n",
    "- 帶有鍵值（key）的 list\n",
    "- 建立時使用大括號 {}"
   ]
  },
  {
   "cell_type": "code",
   "execution_count": 47,
   "metadata": {},
   "outputs": [
    {
     "name": "stdout",
     "output_type": "stream",
     "text": [
      "method 1: \n",
      " {\n",
      "  \"1\": 1,\n",
      "  \"2\": 2\n",
      "}\n",
      "------\n",
      "print input_dict: {'date': '2022-01-03', 'day of week': 0, 'TV series': 'Penthouse', 'origin from': 'Korea'}\n",
      "method 2: \n",
      "\n",
      "{ 'TV series': 'Penthouse',\n",
      "  'date': '2022-01-03',\n",
      "  'day of week': 0,\n",
      "  'origin from': 'Korea'}\n"
     ]
    }
   ],
   "source": [
    "# way(s) to print dictionary nice and neat\n",
    "\n",
    "# method 1\n",
    "import json\n",
    "input_dictionary = {1:1, 2:2}\n",
    "print('method 1: \\n', json.dumps(input_dictionary, indent=2, sort_keys=True))\n",
    "\n",
    "print('------')\n",
    "\n",
    "# method 2\n",
    "input_dict = {\"date\": '2022-01-03', 'day of week': 0, 'TV series': 'Penthouse', 'origin from': 'Korea'}\n",
    "print('print input_dict:', input_dict)\n",
    "import pprint\n",
    "pp = pprint.PrettyPrinter(indent=2)\n",
    "print('method 2: \\n', )\n",
    "pp.pprint(input_dict)"
   ]
  },
  {
   "cell_type": "code",
   "execution_count": 48,
   "metadata": {},
   "outputs": [
    {
     "data": {
      "text/plain": [
       "{'team_name': 'Chicago Bulls',\n",
       " 'wins': 72,\n",
       " 'losses': 10,\n",
       " 'win_percentage': 0.8780487804878049,\n",
       " 'is_champion': True}"
      ]
     },
     "execution_count": 48,
     "metadata": {},
     "output_type": "execute_result"
    }
   ],
   "source": [
    "team_name = \"Chicago Bulls\"\n",
    "wins = 72\n",
    "losses = 10\n",
    "win_percentage = wins / (wins + losses)\n",
    "is_champion = True\n",
    "\n",
    "chi_dict = {\n",
    "    \"team_name\": team_name, \"wins\": wins, \"losses\": losses,  \"win_percentage\": win_percentage, \n",
    "    \"is_champion\": is_champion,\n",
    "}\n",
    "\n",
    "chi_dict"
   ]
  },
  {
   "cell_type": "code",
   "execution_count": 49,
   "metadata": {},
   "outputs": [
    {
     "name": "stdout",
     "output_type": "stream",
     "text": [
      "{ 'is_champion': True,\n",
      "  'losses': 10,\n",
      "  'team_name': 'Chicago Bulls',\n",
      "  'win_percentage': 0.8780487804878049,\n",
      "  'wins': 72}\n"
     ]
    }
   ],
   "source": [
    "import pprint\n",
    "pp = pprint.PrettyPrinter(indent=2)\n",
    "pp.pprint(chi_dict)"
   ]
  },
  {
   "cell_type": "markdown",
   "metadata": {},
   "source": [
    "- 建立一個 dict 叫做 friends_dict 儲存這些資訊"
   ]
  },
  {
   "cell_type": "code",
   "execution_count": 50,
   "metadata": {},
   "outputs": [],
   "source": [
    "genre = \"SitCom\"\n",
    "seasons = 10\n",
    "episodes = 236\n",
    "stars = [\"Jennifer Aniston\", \"Courteney Cox\", \"Lisa Kudrow\",\n",
    "\"Matt LeBlanc\", \"Matthew Perry\", \"David Schwimmer\"]\n",
    "\n",
    "# "
   ]
  },
  {
   "cell_type": "code",
   "execution_count": null,
   "metadata": {},
   "outputs": [],
   "source": []
  },
  {
   "cell_type": "markdown",
   "metadata": {},
   "source": [
    "---"
   ]
  },
  {
   "cell_type": "markdown",
   "metadata": {},
   "source": [
    "# relate to dataframe - load data"
   ]
  },
  {
   "cell_type": "code",
   "execution_count": 52,
   "metadata": {},
   "outputs": [
    {
     "data": {
      "text/html": [
       "<div>\n",
       "<style scoped>\n",
       "    .dataframe tbody tr th:only-of-type {\n",
       "        vertical-align: middle;\n",
       "    }\n",
       "\n",
       "    .dataframe tbody tr th {\n",
       "        vertical-align: top;\n",
       "    }\n",
       "\n",
       "    .dataframe thead th {\n",
       "        text-align: right;\n",
       "    }\n",
       "</style>\n",
       "<table border=\"1\" class=\"dataframe\">\n",
       "  <thead>\n",
       "    <tr style=\"text-align: right;\">\n",
       "      <th></th>\n",
       "      <th>PassengerId</th>\n",
       "      <th>Survived</th>\n",
       "      <th>Pclass</th>\n",
       "      <th>Name</th>\n",
       "      <th>Sex</th>\n",
       "      <th>Age</th>\n",
       "      <th>SibSp</th>\n",
       "      <th>Parch</th>\n",
       "      <th>Ticket</th>\n",
       "      <th>Fare</th>\n",
       "      <th>Cabin</th>\n",
       "      <th>Embarked</th>\n",
       "    </tr>\n",
       "  </thead>\n",
       "  <tbody>\n",
       "    <tr>\n",
       "      <th>0</th>\n",
       "      <td>1</td>\n",
       "      <td>0</td>\n",
       "      <td>3</td>\n",
       "      <td>Braund, Mr. Owen Harris</td>\n",
       "      <td>male</td>\n",
       "      <td>22.0</td>\n",
       "      <td>1</td>\n",
       "      <td>0</td>\n",
       "      <td>A/5 21171</td>\n",
       "      <td>7.2500</td>\n",
       "      <td>NaN</td>\n",
       "      <td>S</td>\n",
       "    </tr>\n",
       "    <tr>\n",
       "      <th>1</th>\n",
       "      <td>2</td>\n",
       "      <td>1</td>\n",
       "      <td>1</td>\n",
       "      <td>Cumings, Mrs. John Bradley (Florence Briggs Th...</td>\n",
       "      <td>female</td>\n",
       "      <td>38.0</td>\n",
       "      <td>1</td>\n",
       "      <td>0</td>\n",
       "      <td>PC 17599</td>\n",
       "      <td>71.2833</td>\n",
       "      <td>C85</td>\n",
       "      <td>C</td>\n",
       "    </tr>\n",
       "    <tr>\n",
       "      <th>2</th>\n",
       "      <td>3</td>\n",
       "      <td>1</td>\n",
       "      <td>3</td>\n",
       "      <td>Heikkinen, Miss. Laina</td>\n",
       "      <td>female</td>\n",
       "      <td>26.0</td>\n",
       "      <td>0</td>\n",
       "      <td>0</td>\n",
       "      <td>STON/O2. 3101282</td>\n",
       "      <td>7.9250</td>\n",
       "      <td>NaN</td>\n",
       "      <td>S</td>\n",
       "    </tr>\n",
       "    <tr>\n",
       "      <th>3</th>\n",
       "      <td>4</td>\n",
       "      <td>1</td>\n",
       "      <td>1</td>\n",
       "      <td>Futrelle, Mrs. Jacques Heath (Lily May Peel)</td>\n",
       "      <td>female</td>\n",
       "      <td>35.0</td>\n",
       "      <td>1</td>\n",
       "      <td>0</td>\n",
       "      <td>113803</td>\n",
       "      <td>53.1000</td>\n",
       "      <td>C123</td>\n",
       "      <td>S</td>\n",
       "    </tr>\n",
       "    <tr>\n",
       "      <th>4</th>\n",
       "      <td>5</td>\n",
       "      <td>0</td>\n",
       "      <td>3</td>\n",
       "      <td>Allen, Mr. William Henry</td>\n",
       "      <td>male</td>\n",
       "      <td>35.0</td>\n",
       "      <td>0</td>\n",
       "      <td>0</td>\n",
       "      <td>373450</td>\n",
       "      <td>8.0500</td>\n",
       "      <td>NaN</td>\n",
       "      <td>S</td>\n",
       "    </tr>\n",
       "  </tbody>\n",
       "</table>\n",
       "</div>"
      ],
      "text/plain": [
       "   PassengerId  Survived  Pclass  \\\n",
       "0            1         0       3   \n",
       "1            2         1       1   \n",
       "2            3         1       3   \n",
       "3            4         1       1   \n",
       "4            5         0       3   \n",
       "\n",
       "                                                Name     Sex   Age  SibSp  \\\n",
       "0                            Braund, Mr. Owen Harris    male  22.0      1   \n",
       "1  Cumings, Mrs. John Bradley (Florence Briggs Th...  female  38.0      1   \n",
       "2                             Heikkinen, Miss. Laina  female  26.0      0   \n",
       "3       Futrelle, Mrs. Jacques Heath (Lily May Peel)  female  35.0      1   \n",
       "4                           Allen, Mr. William Henry    male  35.0      0   \n",
       "\n",
       "   Parch            Ticket     Fare Cabin Embarked  \n",
       "0      0         A/5 21171   7.2500   NaN        S  \n",
       "1      0          PC 17599  71.2833   C85        C  \n",
       "2      0  STON/O2. 3101282   7.9250   NaN        S  \n",
       "3      0            113803  53.1000  C123        S  \n",
       "4      0            373450   8.0500   NaN        S  "
      ]
     },
     "execution_count": 52,
     "metadata": {},
     "output_type": "execute_result"
    }
   ],
   "source": [
    "df_train = pd.read_csv('/Users/johnson.huang/py_ds/tutor_python_project/data/titanic/train.csv')\n",
    "df_train.head()"
   ]
  },
  {
   "cell_type": "markdown",
   "metadata": {
    "tags": []
   },
   "source": [
    "# good habits: always know the data type clearly\n",
    "\n",
    "> type() method"
   ]
  },
  {
   "cell_type": "code",
   "execution_count": 53,
   "metadata": {},
   "outputs": [
    {
     "name": "stdout",
     "output_type": "stream",
     "text": [
      "type(1): <class 'int'>\n",
      "type(\"1\"): <class 'str'>\n",
      "type(1.0): <class 'float'>\n",
      "type(True): <class 'bool'>\n",
      "--\n",
      "type([1]): <class 'list'>\n",
      "type((1, 0)): <class 'tuple'>\n",
      "type({1}): <class 'set'>\n",
      "type({1: 1}): <class 'dict'>\n"
     ]
    }
   ],
   "source": [
    "print('type(1): {}'.format(type(1)))\n",
    "print('type(\"1\"): {}'.format(type(\"1\")))\n",
    "print('type(1.0): {}'.format(type(1.0)))\n",
    "print('type(True): {}'.format(type(True)))\n",
    "print('--')\n",
    "print('type([1]): {}'.format(type([1])))\n",
    "print('type((1, 0)): {}'.format(type((1, 0))))\n",
    "print('type({1}):', type({1}))\n",
    "print('type({1: 1}):', type({1: 1}))"
   ]
  },
  {
   "cell_type": "code",
   "execution_count": null,
   "metadata": {},
   "outputs": [],
   "source": []
  },
  {
   "cell_type": "markdown",
   "metadata": {},
   "source": [
    "DataFrame\n",
    "\n",
    "CRUD create (an empty) one\n",
    "\n",
    "TRANSFORM check element type select, filter - df.loc[], df[] sort - sort_values groupby agg\n",
    "\n",
    "Common Target Issue: Nan - isnull() Duplicates - drop_duplicates\n",
    "\n",
    "other manipulation: concat, join transform a column (Series) to a basic data structure - .tolist(), to_dict(), list(F.col('col')), set() shape: .shape, len() summary, describe(), info() apply function"
   ]
  },
  {
   "cell_type": "code",
   "execution_count": 54,
   "metadata": {},
   "outputs": [
    {
     "data": {
      "text/html": [
       "<div>\n",
       "<style scoped>\n",
       "    .dataframe tbody tr th:only-of-type {\n",
       "        vertical-align: middle;\n",
       "    }\n",
       "\n",
       "    .dataframe tbody tr th {\n",
       "        vertical-align: top;\n",
       "    }\n",
       "\n",
       "    .dataframe thead th {\n",
       "        text-align: right;\n",
       "    }\n",
       "</style>\n",
       "<table border=\"1\" class=\"dataframe\">\n",
       "  <thead>\n",
       "    <tr style=\"text-align: right;\">\n",
       "      <th></th>\n",
       "      <th>PassengerId</th>\n",
       "      <th>Survived</th>\n",
       "      <th>Pclass</th>\n",
       "      <th>Name</th>\n",
       "      <th>Sex</th>\n",
       "      <th>Age</th>\n",
       "      <th>SibSp</th>\n",
       "      <th>Parch</th>\n",
       "      <th>Ticket</th>\n",
       "      <th>Fare</th>\n",
       "      <th>Cabin</th>\n",
       "      <th>Embarked</th>\n",
       "    </tr>\n",
       "  </thead>\n",
       "  <tbody>\n",
       "    <tr>\n",
       "      <th>0</th>\n",
       "      <td>1</td>\n",
       "      <td>0</td>\n",
       "      <td>3</td>\n",
       "      <td>Braund, Mr. Owen Harris</td>\n",
       "      <td>male</td>\n",
       "      <td>22.0</td>\n",
       "      <td>1</td>\n",
       "      <td>0</td>\n",
       "      <td>A/5 21171</td>\n",
       "      <td>7.2500</td>\n",
       "      <td>NaN</td>\n",
       "      <td>S</td>\n",
       "    </tr>\n",
       "    <tr>\n",
       "      <th>1</th>\n",
       "      <td>2</td>\n",
       "      <td>1</td>\n",
       "      <td>1</td>\n",
       "      <td>Cumings, Mrs. John Bradley (Florence Briggs Th...</td>\n",
       "      <td>female</td>\n",
       "      <td>38.0</td>\n",
       "      <td>1</td>\n",
       "      <td>0</td>\n",
       "      <td>PC 17599</td>\n",
       "      <td>71.2833</td>\n",
       "      <td>C85</td>\n",
       "      <td>C</td>\n",
       "    </tr>\n",
       "    <tr>\n",
       "      <th>2</th>\n",
       "      <td>3</td>\n",
       "      <td>1</td>\n",
       "      <td>3</td>\n",
       "      <td>Heikkinen, Miss. Laina</td>\n",
       "      <td>female</td>\n",
       "      <td>26.0</td>\n",
       "      <td>0</td>\n",
       "      <td>0</td>\n",
       "      <td>STON/O2. 3101282</td>\n",
       "      <td>7.9250</td>\n",
       "      <td>NaN</td>\n",
       "      <td>S</td>\n",
       "    </tr>\n",
       "  </tbody>\n",
       "</table>\n",
       "</div>"
      ],
      "text/plain": [
       "   PassengerId  Survived  Pclass  \\\n",
       "0            1         0       3   \n",
       "1            2         1       1   \n",
       "2            3         1       3   \n",
       "\n",
       "                                                Name     Sex   Age  SibSp  \\\n",
       "0                            Braund, Mr. Owen Harris    male  22.0      1   \n",
       "1  Cumings, Mrs. John Bradley (Florence Briggs Th...  female  38.0      1   \n",
       "2                             Heikkinen, Miss. Laina  female  26.0      0   \n",
       "\n",
       "   Parch            Ticket     Fare Cabin Embarked  \n",
       "0      0         A/5 21171   7.2500   NaN        S  \n",
       "1      0          PC 17599  71.2833   C85        C  \n",
       "2      0  STON/O2. 3101282   7.9250   NaN        S  "
      ]
     },
     "execution_count": 54,
     "metadata": {},
     "output_type": "execute_result"
    }
   ],
   "source": [
    "df_train.head(3)"
   ]
  },
  {
   "cell_type": "code",
   "execution_count": null,
   "metadata": {},
   "outputs": [],
   "source": [
    "# filter row contains 'Name' == 'Braund, Mr. Owen Harris'\n"
   ]
  },
  {
   "cell_type": "code",
   "execution_count": null,
   "metadata": {},
   "outputs": [],
   "source": [
    "# select only 'Pclass' column, and sort ascending, descending\n"
   ]
  },
  {
   "cell_type": "code",
   "execution_count": null,
   "metadata": {},
   "outputs": [],
   "source": [
    "# select only 'Pclass' column, and check 'null' rows\n"
   ]
  },
  {
   "cell_type": "code",
   "execution_count": null,
   "metadata": {},
   "outputs": [],
   "source": [
    "# select only 'Pclass' column, and dropna\n"
   ]
  },
  {
   "cell_type": "code",
   "execution_count": null,
   "metadata": {},
   "outputs": [],
   "source": [
    "# select only 'Pclass' column, and drop_duplicates\n"
   ]
  },
  {
   "cell_type": "markdown",
   "metadata": {},
   "source": [
    "> <font color='#FFCC34'> - give it a try - </font>\n",
    "- select Name contains 'Mr.'\n",
    "\n",
    "> trap: the '.' in regex means..."
   ]
  },
  {
   "cell_type": "code",
   "execution_count": 64,
   "metadata": {},
   "outputs": [],
   "source": [
    "# df_train[df_train[\"Name\"].str.contains('Mr\\.')]\n",
    "# df_train[df_train[\"Name\"].str.contains('Mr.')]"
   ]
  },
  {
   "cell_type": "code",
   "execution_count": null,
   "metadata": {},
   "outputs": [],
   "source": []
  },
  {
   "cell_type": "code",
   "execution_count": null,
   "metadata": {},
   "outputs": [],
   "source": []
  },
  {
   "cell_type": "code",
   "execution_count": null,
   "metadata": {},
   "outputs": [],
   "source": []
  },
  {
   "cell_type": "code",
   "execution_count": null,
   "metadata": {},
   "outputs": [],
   "source": [
    "import pandas as pd\n",
    "\n",
    "df = pd.DataFrame([\n",
    "    [0.6, 80.00853508348013, 2.5978732688922714], \n",
    "    [0.7, 80.01325081453537, 2.3430000515606744],\n",
    "    [0.8, 80.0076387048498, 2.1208909181530884],\n",
    "    [0.9, 80.0092885611694, 1.8388884021598473],\n",
    "    \n",
    "    [0.6, 60.0002143514116, 3.5050757920956226], \n",
    "    [0.7, 60.02109737529944, 3.239954576303301],\n",
    "    [0.8, 60.01202316554165, 3.0228355101299957],\n",
    "    [0.9, 60.02152607812265, 2.7366519683811497],\n",
    "    \n",
    "    [0.6, 40.07364594862841, 4.4028041461489416],\n",
    "    [0.7, 40.00242931599815, 4.15509618580958],\n",
    "    [0.8, 40.026443169594835, 3.92071100074239],\n",
    "    [0.9, 40.01400429222463, 3.6416650492823637],\n",
    "    ], \n",
    "    columns=['RH', 'T(C)', 'log10_MTTF']\n",
    ")\n",
    "df"
   ]
  },
  {
   "cell_type": "code",
   "execution_count": null,
   "metadata": {},
   "outputs": [],
   "source": [
    "mttf_data = df.copy()\n",
    "mttf_data['MTTF_days']=mttf_data['log10_MTTF'].apply(lambda x: round(10**x/24,2))\n",
    "mttf_data.sort_values('MTTF_days').reset_index(drop=True)"
   ]
  },
  {
   "cell_type": "markdown",
   "metadata": {},
   "source": [
    "scipy - curve fit\n",
    "\n",
    "> https://docs.scipy.org/doc/scipy/reference/generated/scipy.optimize.curve_fit.html"
   ]
  },
  {
   "cell_type": "code",
   "execution_count": null,
   "metadata": {},
   "outputs": [],
   "source": [
    "# import numpy as np\n",
    "# import matplotlib.pyplot as plt\n",
    "# from scipy.optimize import curve_fit\n",
    "\n",
    "\n",
    "# def func(x, a, b, c):\n",
    "#     return a * np.exp(-b * x) + c\n",
    "\n",
    "# # Define the data to be fit with some noise:\n",
    "\n",
    "# xdata = np.linspace(0, 4, 50)\n",
    "# y = func(xdata, 2.5, 1.3, 0.5)\n",
    "# rng = np.random.default_rng()\n",
    "# y_noise = 0.2 * rng.normal(size=xdata.size)\n",
    "# ydata = y + y_noise\n",
    "# plt.plot(xdata, ydata, 'b-', label='data')"
   ]
  },
  {
   "cell_type": "code",
   "execution_count": null,
   "metadata": {},
   "outputs": [],
   "source": [
    "import matplotlib.pyplot as plt\n",
    "from scipy.optimize import curve_fit\n",
    "\n",
    "def func(a, H, b, Ea, T, kb=8.62*(10**5)):\n",
    "    log_mttf = a * (H**b) * np.exp(Ea/(kb*T))\n",
    "    return log_mttf\n",
    "\n",
    "# Define the data to be fit with some noise:\n",
    "\n",
    "xdata = mttf_data['T(C)'].tolist()\n",
    "y = func(xdata, 2.5, 1.3, 0.5)\n",
    "# rng = np.random.default_rng()\n",
    "# y_noise = 0.2 * rng.normal(size=xdata.size)\n",
    "# ydata = y + y_noise\n",
    "# plt.plot(xdata, ydata, 'b-', label='data')"
   ]
  },
  {
   "cell_type": "code",
   "execution_count": null,
   "metadata": {},
   "outputs": [],
   "source": [
    "mttf_data.sort_values('MTTF_days').reset_index(drop=True)"
   ]
  },
  {
   "cell_type": "code",
   "execution_count": null,
   "metadata": {},
   "outputs": [],
   "source": [
    "from sympy import symbols, Eq, solve\n",
    "  \n",
    "# constants\n",
    "kb = 8.62*(10**5)\n",
    "\n",
    "# defining symbols used in equations\n",
    "# or unknown variables\n",
    "a, b, Ea = symbols('a,b,Ea')\n",
    "  \n",
    "# defining equations\n",
    "eq1 = Eq((a * (0.9**b) * np.exp(Ea/(kb*80))), 1.838888)\n",
    "eq2 = Eq((a * (0.8**b) * np.exp(Ea/(kb*80))), 2.120891)\n",
    "eq3 = Eq((a * (0.7**b) * np.exp(Ea/(kb*80))), 2.343000)\n",
    "eq4 = Eq((a * (0.6**b) * np.exp(Ea/(kb*80))), 2.597873)\n",
    "\n",
    "eq5 = Eq((a * (0.9**b) * np.exp(Ea/(kb*60))), 2.736652)\n",
    "eq6 = Eq((a * (0.8**b) * np.exp(Ea/(kb*60))), 3.022836)\n",
    "eq7 = Eq((a * (0.7**b) * np.exp(Ea/(kb*60))), 3.239955)\n",
    "eq8 = Eq((a * (0.6**b) * np.exp(Ea/(kb*60))), 3.505076)\n",
    "\n",
    "eq9 = Eq((a * (0.9**b) * np.exp(Ea/(kb*40))), 3.641665)\n",
    "eq10 = Eq((a * (0.8**b) * np.exp(Ea/(kb*40))), 3.920711)\n",
    "eq11 = Eq((a * (0.7**b) * np.exp(Ea/(kb*40))), 4.155096)\n",
    "eq12 = Eq((a * (0.6**b) * np.exp(Ea/(kb*40))), 4.402804)\n",
    "\n",
    "print(solve((eq1, eq2, eq3, eq4,\n",
    "             eq5, eq6, eq7, eq8,\n",
    "             eq9, eq10, eq11, eq12,\n",
    "            ), (a, b, Ea)))"
   ]
  },
  {
   "cell_type": "code",
   "execution_count": null,
   "metadata": {},
   "outputs": [],
   "source": [
    "# importing library sympy\n",
    "from sympy import symbols, Eq, solve\n",
    "  \n",
    "# defining symbols used in equations\n",
    "# or unknown variables\n",
    "x, y = symbols('x,y')\n",
    "  \n",
    "# defining equations\n",
    "eq1 = Eq((x+y), 1)\n",
    "print(\"Equation 1:\")\n",
    "print(eq1)\n",
    "eq2 = Eq((x-y), 1)\n",
    "print(\"Equation 2\")\n",
    "print(eq2)\n",
    "  \n",
    "# solving the equation\n",
    "print(\"Values of 2 unknown variable are as follows:\")\n",
    "  \n",
    "print(solve((eq1, eq2), (x, y)))"
   ]
  },
  {
   "cell_type": "code",
   "execution_count": null,
   "metadata": {},
   "outputs": [],
   "source": [
    "def func(a, H, b, Ea, T, kb=8.62*(10**5)):\n",
    "    log_mttf = a * (H**b) * np.exp(Ea/(kb*T))\n",
    "    return log_mttf"
   ]
  }
 ],
 "metadata": {
  "kernelspec": {
   "display_name": "Python 3",
   "language": "python",
   "name": "python3"
  },
  "language_info": {
   "codemirror_mode": {
    "name": "ipython",
    "version": 3
   },
   "file_extension": ".py",
   "mimetype": "text/x-python",
   "name": "python",
   "nbconvert_exporter": "python",
   "pygments_lexer": "ipython3",
   "version": "3.7.4"
  }
 },
 "nbformat": 4,
 "nbformat_minor": 4
}
