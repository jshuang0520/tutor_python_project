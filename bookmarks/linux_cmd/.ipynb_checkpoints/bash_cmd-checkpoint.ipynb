{
 "cells": [
  {
   "cell_type": "markdown",
   "metadata": {},
   "source": [
    "# check space"
   ]
  },
  {
   "cell_type": "markdown",
   "metadata": {},
   "source": [
    "<p style=\"vertical-align: text-top; text-align: left; font-family: 'objektiv-mk1,Helvetica,Arial,sans-serif,Linotte Light'; white-space:pre-wrap; word-wrap:break-word;\">\n",
    "<font color='00CC66' size='5px'>du for only directory and sort by dir size</font>\n",
    "</p>\n",
    "\n",
    "- google: \n",
    "  - [du for only directory](https://superuser.com/questions/322521/du-only-for-directories)\n",
    "  - [du | sort command](https://linuxhint.com/sort-du-command-by-size/#:~:text=%E2%80%9Cdu%E2%80%9D%20stands%20for%20disk%20usage,to%20get%20the%20desired%20output.)\n",
    "  \n",
    "```\n",
    "du -sh [PATH_TO_YOUR_DIR]/*/ | sort -hr\n",
    "```\n",
    "\n",
    "- <font color='grey' size='3px'>output</font>\n",
    "<p style=\"vertical-align: text-top; text-align: left; font-family: 'objektiv-mk1,Helvetica,Arial,sans-serif,Linotte Light'; white-space:pre-wrap; word-wrap:break-word;\">\n",
    "61G [PATH_TO_YOUR_DIR]/[DIR_1]/\n",
    "19G [PATH_TO_YOUR_DIR]/[DIR_2]/\n",
    "</p>"
   ]
  },
  {
   "cell_type": "markdown",
   "metadata": {},
   "source": [
    "# loop"
   ]
  },
  {
   "cell_type": "markdown",
   "metadata": {},
   "source": [
    "<p style=\"vertical-align: text-top; text-align: left; font-family: 'objektiv-mk1,Helvetica,Arial,sans-serif,Linotte Light'; white-space:pre-wrap; word-wrap:break-word;\">\n",
    "<font color='00CC66' size='5px'>bash for loop</font>\n",
    "</p>\n",
    "\n",
    "- google: bash nested for loop\n",
    "  - [bash shell nested for loop](https://stackoverflow.com/questions/4847854/bash-shell-nested-for-loop)\n",
    "  \n",
    "```\n",
    "for i in '2015' '2016'\n",
    "do\n",
    "  for j in '01' '02'\n",
    "  do\n",
    "    echo month: \"$i\"-\"$j\"\n",
    "  done\n",
    "done\n",
    "```\n",
    "\n",
    "- <font color='grey' size='3px'>output</font>\n",
    "<p style=\"vertical-align: text-top; text-align: left; font-family: 'objektiv-mk1,Helvetica,Arial,sans-serif,Linotte Light'; white-space:pre-wrap; word-wrap:break-word;\">\n",
    "\n",
    "</p>"
   ]
  },
  {
   "cell_type": "markdown",
   "metadata": {},
   "source": [
    "# file operation"
   ]
  },
  {
   "cell_type": "markdown",
   "metadata": {},
   "source": [
    "## find specific files by their nameing and rename them"
   ]
  },
  {
   "cell_type": "markdown",
   "metadata": {},
   "source": [
    "<p style=\"vertical-align: text-top; text-align: left; font-family: 'objektiv-mk1,Helvetica,Arial,sans-serif,Linotte Light'; white-space:pre-wrap; word-wrap:break-word;\">\n",
    "<font color='00CC66' size='5px'>rename multiple files/dirs in pattern</font>\n",
    "</p>\n",
    "\n",
    "- google: linux rename multiple directories in pattern\n",
    "  - [Rename multiple directories matching pattern](https://stackoverflow.com/questions/18027799/rename-multiple-directories-matching-pattern)\n",
    "  \n",
    "```\n",
    "find . -type d -depth 1 -name bar -execdir mv {} baz \\;\n",
    "```\n",
    "<font color='orange'>note. the method above could fail - keywords: '$PATH environment', '-execdir'</font>\n",
    "\n",
    "--\n",
    "\n",
    "- <font color='red' size='3px'>google: linux rename directory in specific naming pattern recursively</font>\n",
    "  - [how to rename folders recursively in linux [closed]](https://stackoverflow.com/questions/63709999/how-to-rename-folders-recursively-in-linux)\n",
    "  \n",
    "```\n",
    "for a in PATH_TO_YOUR_DIR/*; do mv $a `echo $a | sed -e s/OLD_PATTERN/NEW_PATTERN/`; done\n",
    "```\n",
    "\n",
    "- <font color='grey' size='3px'>output</font>\n",
    "<p style=\"vertical-align: text-top; text-align: left; font-family: 'objektiv-mk1,Helvetica,Arial,sans-serif,Linotte Light'; white-space:pre-wrap; word-wrap:break-word;\">\n",
    "old_dir_name: old_pattern_name_dir\n",
    "new_dir_name: new_pattern_name_dir\n",
    "</p>"
   ]
  },
  {
   "cell_type": "markdown",
   "metadata": {},
   "source": [
    "## find file"
   ]
  },
  {
   "cell_type": "markdown",
   "metadata": {},
   "source": [
    "<p style=\"vertical-align: text-top; text-align: left; font-family: 'objektiv-mk1,Helvetica,Arial,sans-serif,Linotte Light'; white-space:pre-wrap; word-wrap:break-word;\">\n",
    "<font color='00CC66' size='5px'>grep</font>\n",
    "</p>\n",
    "\n",
    "- google: grep to find string in files\n",
    "  - [How do I find all files containing specific text on Linux?](https://stackoverflow.com/questions/16956810/how-do-i-find-all-files-containing-specific-text-on-linux)\n",
    "  \n",
    "```\n",
    "grep -rnwl '/PATH/TO/SOMEWHERE/' -e 'PATTERN'\n",
    "```\n",
    "\n",
    "`-r` or `-R` is recursive,\n",
    "\n",
    "`-n` is line number, and\n",
    "\n",
    "`-w` stands for match the whole word.\n",
    "\n",
    "`-l` (lower-case L) can be added to just give the file name of matching files.\n",
    "\n",
    "`-e` is the pattern used during the search\n",
    "\n",
    "Along with these, `--exclude`, `--include`, `--exclude-dir` flags could be used for efficient searching:\n",
    "\n",
    "```\n",
    "grep --include=\\*.{c,h} -rnw '/path/to/somewhere/' -e \"pattern\"\n",
    "```\n",
    "\n",
    "```\n",
    "grep --exclude=\\*.o -rnw '/path/to/somewhere/' -e \"pattern\"\n",
    "```\n",
    "\n",
    "```\n",
    "grep --exclude-dir={dir1,dir2,*.dst} -rnw '/path/to/somewhere/' -e \"pattern\"\n",
    "```\n",
    "\n",
    "- <font color='grey' size='3px'>output</font>\n",
    "<p style=\"vertical-align: text-top; text-align: left; font-family: 'objektiv-mk1,Helvetica,Arial,sans-serif,Linotte Light'; white-space:pre-wrap; word-wrap:break-word;\">\n",
    "/mnt/data/my_file.txt\n",
    "</p>"
   ]
  },
  {
   "cell_type": "markdown",
   "metadata": {},
   "source": [
    "## replace string"
   ]
  },
  {
   "cell_type": "markdown",
   "metadata": {},
   "source": [
    "<p style=\"vertical-align: text-top; text-align: left; font-family: 'objektiv-mk1,Helvetica,Arial,sans-serif,Linotte Light'; white-space:pre-wrap; word-wrap:break-word;\">\n",
    "<font color='00CC66' size='5px'>sed (with regular expression, regex)</font>\n",
    "</p>\n",
    "\n",
    "- google: sed with regex replace\n",
    "  - [Find and Replace String with sed](https://linuxize.com/post/how-to-use-sed-to-find-and-replace-string-in-files/)\n",
    "  - [Using sed to find and replace complex string (preferrably with regex)](https://unix.stackexchange.com/questions/78625/using-sed-to-find-and-replace-complex-string-preferrably-with-regex)\n",
    "  - [using sed to replace string using info from matched string](https://unix.stackexchange.com/questions/541226/using-sed-to-replace-string-using-info-from-matched-string)\n",
    "  - [How to replace if http or https using sed?](https://stackoverflow.com/questions/66172930/how-to-replace-if-http-or-https-using-sed)\n",
    "\n",
    "```\n",
    "sed -i 's/SEARCH_REGEX/REPLACEMENT/g' INPUTFILE\n",
    "```\n",
    "\n",
    "`\\1`, `\\2`, etc. in the second part are references to the i-th group captured in the first part (the numbering starts with 1)\n",
    "\n",
    "`-E` enables extended regular expressions (needed for + and grouping).\n",
    "\n",
    "`-i` enables \"in-place\" file edit mode\n",
    "\n",
    "  \n",
    "```\n",
    "sed \\\n",
    "-e \"s|\\\"{|$comma_replc{|g\" \\\n",
    "-e \"s|}\\\"|}$comma_replc|g\" \\\n",
    "-e 's|\\([[:alnum:]]\\+\\.\\),|\\1'\"$comma_replc_2\"' |g' \\\n",
    "-e 's|{\"en-US\": \"\\([[:alnum:]]\\+\\),\\(.\\+}\\)|{\"en-US\": \"\\1_ \\2|' \\\n",
    "-e 's|{\"en-US\": \"\\(.\\+\\)\", \"zh-TW\": \"\\(.\\+\\)\"}|{\"en-US\": \"\\1\"'\"$comma_replc_2\"' \"zh-TW\": \"\\2\"}|g' \\\n",
    "-e 's|{\"\\(.\\+\\),\\([^}]\\+\\)\"}|{\"\\1'\"$comma_replc_2\"' \\2\"}|g' \\\n",
    "-e 's|{\"\\(.\\+\\.\\),\\([^}]\\+\\)\"}|{\"\\1'\"$comma_replc_2\"' \\2\"}|g' \\\n",
    "-e 's|\"en-US\": \"\\([[:alnum:]]\\+\\)\\,\\([[:alnum:]]\\+\\)\"|\"en-US\": \"\\1'\"$comma_replc_2\"' \\2\"|g' \\\n",
    "-e 's/{\"\\(.\\+\\),\\(.\\+\\)\"}/{\"\\1_ \\2\"}/' \\\n",
    "${input_vm_info} \\\n",
    "> ${output_meta_vm_info}\n",
    "```\n",
    "\n",
    "<p style=\"vertical-align: text-top; text-align: left; font-family: 'objektiv-mk1,Helvetica,Arial,sans-serif,Linotte Light'; white-space:pre-wrap; word-wrap:break-word;\">\n",
    "<font color='00CC66' size='5px'>sed / awk</font>\n",
    "</p>\n",
    "\n",
    "\n",
    "### grep to show a csv file specific columns (or a df-like form)\n",
    "\n",
    "- google: \n",
    "  - [AWK, SED to display a column based on Column name](https://stackoverflow.com/questions/31773439/awk-sed-to-display-a-column-based-on-column-name)\n",
    "\n",
    "```\n",
    "$ grep \"key word\" my_log_file.log | awk -F ':' '{print $2}' | sort | uniq -c\n",
    "\n",
    "\n",
    "$ awk -F ',' '{gsub(\"\\047\",\"\",$5); print $5}' ${output_meta_vm_info}\n",
    "\n",
    "\n",
    "# https://stackoverflow.com/questions/31773439/awk-sed-to-display-a-column-based-on-column-name\n",
    "\n",
    "\n",
    "$ awk -F ',' -vcol=name '(NR==1){colnum=-1;for(i=1;i<=NF;i++)if($(i)==col)colnum=i;}{print $(colnum)}' ${output_meta_vm_info} | awk '{gsub(\"\\047\",\"\",$5); print $5}'\n",
    "\n",
    "\n",
    "$ awk -F ',' -vcols=name,city '(NR==1){n=split(cols,cs,\",\");for(c=1;c<=n;c++){for(i=1;i<=NF;i++)if($(i)==cs[c])ci[c]=i}}{for(i=1;i<=n;i++)printf \"%s\" FS,$(ci[i]);printf \"\\n\"}' ${output_meta_vm_info}\n",
    "\n",
    "```\n",
    "\n",
    "\n",
    "### use awk to count row number / element number of a file\n",
    "```\n",
    "$ awk -F ',' '{print $1}' [FILENAME] | sort | uniq | wc -l\n",
    "```\n",
    "\n",
    "\n",
    "### trace ram usage (by $ free -m -h, check only \"Mem\")\n",
    "```\n",
    "execution_time=`date -u +\"%Y-%m-%d %H:%M:%S\"`; mem=`free -m -h | grep -v 'total' | grep -v 'Swap' | awk -F ' ' '{print $3}'`; echo \"$execution_time - $mem\"\n",
    "```\n",
    "\n",
    "- <font color='grey' size='3px'>output</font>\n",
    "<p style=\"vertical-align: text-top; text-align: left; font-family: 'objektiv-mk1,Helvetica,Arial,sans-serif,Linotte Light'; white-space:pre-wrap; word-wrap:break-word;\">\n",
    "/mnt/data/my_file.txt\n",
    "</p>"
   ]
  },
  {
   "cell_type": "markdown",
   "metadata": {},
   "source": [
    "<p style=\"vertical-align: text-top; text-align: left; font-family: 'objektiv-mk1,Helvetica,Arial,sans-serif,Linotte Light'; white-space:pre-wrap; word-wrap:break-word;\">\n",
    "<font color='00CC66' size='5px'>linux regular expression</font>\n",
    "</p>\n",
    "\n",
    "- google: linux sed with multiple strings to replace\n",
    "  - [Regular Expressions](https://www.grymoire.com/Unix/Regular.html)\n",
    "  - [Linux Regular Expression Tutorial: Grep Regex Example](https://www.guru99.com/linux-regular-expressions.html)\n",
    "  \n",
    "```\n",
    "\n",
    "Symbol\tDescriptions\n",
    ".\treplaces any character\n",
    "^\tmatches start of string\n",
    "$\tmatches end of string\n",
    "*\tmatches up zero or more times the preceding character\n",
    "\\\tRepresent special characters\n",
    "()\tGroups regular expressions\n",
    "?\tMatches up exactly one character\n",
    "```\n",
    "\n",
    "\n",
    "- <font color='grey' size='3px'>output</font>\n",
    "<p style=\"vertical-align: text-top; text-align: left; font-family: 'objektiv-mk1,Helvetica,Arial,sans-serif,Linotte Light'; white-space:pre-wrap; word-wrap:break-word;\">\n",
    "\n",
    "</p>"
   ]
  },
  {
   "cell_type": "markdown",
   "metadata": {},
   "source": [
    "<p style=\"vertical-align: text-top; text-align: left; font-family: 'objektiv-mk1,Helvetica,Arial,sans-serif,Linotte Light'; white-space:pre-wrap; word-wrap:break-word;\">\n",
    "<font color='00CC66' size='5px'>count (word count / file count)</font>\n",
    "</p>\n",
    "\n",
    "- google: \n",
    "  - []()\n",
    "  \n",
    "```\n",
    "\n",
    "tr -cd 'YOUR_CHARACTER_TO_COUNT' < YOUR_FILE.csv | wc -c\n",
    "```\n",
    "\n",
    "\n",
    "- <font color='grey' size='3px'>output</font>\n",
    "<p style=\"vertical-align: text-top; text-align: left; font-family: 'objektiv-mk1,Helvetica,Arial,sans-serif,Linotte Light'; white-space:pre-wrap; word-wrap:break-word;\">\n",
    "\n",
    "</p>"
   ]
  },
  {
   "cell_type": "code",
   "execution_count": null,
   "metadata": {},
   "outputs": [],
   "source": []
  },
  {
   "cell_type": "markdown",
   "metadata": {},
   "source": [
    "\n",
    "<p style=\"vertical-align: text-top; text-align: left; font-family: 'objektiv-mk1,Helvetica,Arial,sans-serif,Linotte Light'; white-space:pre-wrap; word-wrap:break-word;\">\n",
    "<font color='00CC66' size='5px'>vim text alignment</font>\n",
    "</p>\n",
    "\n",
    "- google: \n",
    "  - [Align text on an equals sign in vim](https://stackoverflow.com/questions/8964953/align-text-on-an-equals-sign-in-vim)\n",
    "  \n",
    "  - [vim enough space to align stack exchange](https://superuser.com/questions/771140/how-to-insert-enough-spaces-to-align-text-to-column-number-using-vim)\n",
    "\n",
    "- method 1\n",
    "\n",
    "```\n",
    "(in vim mode) -> GNU column command (Linux etc)\n",
    "\n",
    ":% ! column -t\n",
    "\n",
    "sed -i '' 's/, /、/g' [YOUR_FILE.txt]\n",
    "```\n",
    "\n",
    "- method 2 (awk)\n",
    "  > because the format is seperted by '[hint]', so we use awk -F '['\n",
    "\n",
    "```\n",
    "awk -F '[' '{print $1}' [YOUR_FILE.txt]\n",
    "```\n",
    "\n",
    "\n",
    "- <font color='grey' size='3px'>output</font>\n",
    "<p style=\"vertical-align: text-top; text-align: left; font-family: 'objektiv-mk1,Helvetica,Arial,sans-serif,Linotte Light'; white-space:pre-wrap; word-wrap:break-word;\">\n",
    "\n",
    "</p>"
   ]
  },
  {
   "cell_type": "code",
   "execution_count": null,
   "metadata": {},
   "outputs": [],
   "source": []
  },
  {
   "cell_type": "code",
   "execution_count": null,
   "metadata": {},
   "outputs": [],
   "source": []
  },
  {
   "cell_type": "markdown",
   "metadata": {},
   "source": [
    "# file size (sum multiple numbers)"
   ]
  },
  {
   "cell_type": "markdown",
   "metadata": {},
   "source": [
    "## to sum all of the file size that are listed below\n",
    "\n",
    "hadoop fs -du -s -h [YOUR_DIR_PATH] | awk -F ' ' '{print $1}' | paste -sd+ | bc"
   ]
  },
  {
   "cell_type": "code",
   "execution_count": null,
   "metadata": {},
   "outputs": [],
   "source": []
  }
 ],
 "metadata": {
  "kernelspec": {
   "display_name": "Python 3",
   "language": "python",
   "name": "python3"
  },
  "language_info": {
   "codemirror_mode": {
    "name": "ipython",
    "version": 3
   },
   "file_extension": ".py",
   "mimetype": "text/x-python",
   "name": "python",
   "nbconvert_exporter": "python",
   "pygments_lexer": "ipython3",
   "version": "3.7.4"
  }
 },
 "nbformat": 4,
 "nbformat_minor": 4
}
