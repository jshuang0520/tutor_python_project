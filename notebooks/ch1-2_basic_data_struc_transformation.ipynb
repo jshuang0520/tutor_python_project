{
 "cells": [
  {
   "cell_type": "markdown",
   "metadata": {
    "slideshow": {
     "slide_type": "slide"
    }
   },
   "source": [
    "# Outline: DataFrame Manipulation\n",
    "\n",
    "other manipulation: \n",
    "\n",
    "concat, \n",
    "\n",
    "join \n",
    "\n",
    "transform a column (Series) to a basic data structure - .tolist(), to_dict(), list(F.col('col')), set() \n",
    "\n",
    "shape: .shape, len() \n",
    "\n",
    "summary, describe(), info() \n",
    "\n",
    "apply function\n",
    "\n",
    "deep copy"
   ]
  },
  {
   "cell_type": "code",
   "execution_count": 1,
   "metadata": {
    "slideshow": {
     "slide_type": "notes"
    }
   },
   "outputs": [],
   "source": [
    "# import packages\n",
    "import pandas as pd\n",
    "import re"
   ]
  },
  {
   "cell_type": "markdown",
   "metadata": {
    "slideshow": {
     "slide_type": "slide"
    }
   },
   "source": [
    "## Transform - apply function to column(s)"
   ]
  },
  {
   "cell_type": "markdown",
   "metadata": {
    "slideshow": {
     "slide_type": "subslide"
    },
    "tags": []
   },
   "source": [
    "### read the data"
   ]
  },
  {
   "cell_type": "code",
   "execution_count": 2,
   "metadata": {
    "slideshow": {
     "slide_type": "subslide"
    }
   },
   "outputs": [
    {
     "data": {
      "text/html": [
       "<div>\n",
       "<style scoped>\n",
       "    .dataframe tbody tr th:only-of-type {\n",
       "        vertical-align: middle;\n",
       "    }\n",
       "\n",
       "    .dataframe tbody tr th {\n",
       "        vertical-align: top;\n",
       "    }\n",
       "\n",
       "    .dataframe thead th {\n",
       "        text-align: right;\n",
       "    }\n",
       "</style>\n",
       "<table border=\"1\" class=\"dataframe\">\n",
       "  <thead>\n",
       "    <tr style=\"text-align: right;\">\n",
       "      <th></th>\n",
       "      <th>PassengerId</th>\n",
       "      <th>Survived</th>\n",
       "      <th>Pclass</th>\n",
       "      <th>Name</th>\n",
       "      <th>Sex</th>\n",
       "      <th>Age</th>\n",
       "      <th>SibSp</th>\n",
       "      <th>Parch</th>\n",
       "      <th>Ticket</th>\n",
       "      <th>Fare</th>\n",
       "      <th>Cabin</th>\n",
       "      <th>Embarked</th>\n",
       "    </tr>\n",
       "  </thead>\n",
       "  <tbody>\n",
       "    <tr>\n",
       "      <th>0</th>\n",
       "      <td>1</td>\n",
       "      <td>0</td>\n",
       "      <td>3</td>\n",
       "      <td>Braund, Mr. Owen Harris</td>\n",
       "      <td>male</td>\n",
       "      <td>22.0</td>\n",
       "      <td>1</td>\n",
       "      <td>0</td>\n",
       "      <td>A/5 21171</td>\n",
       "      <td>7.2500</td>\n",
       "      <td>NaN</td>\n",
       "      <td>S</td>\n",
       "    </tr>\n",
       "    <tr>\n",
       "      <th>1</th>\n",
       "      <td>2</td>\n",
       "      <td>1</td>\n",
       "      <td>1</td>\n",
       "      <td>Cumings, Mrs. John Bradley (Florence Briggs Th...</td>\n",
       "      <td>female</td>\n",
       "      <td>38.0</td>\n",
       "      <td>1</td>\n",
       "      <td>0</td>\n",
       "      <td>PC 17599</td>\n",
       "      <td>71.2833</td>\n",
       "      <td>C85</td>\n",
       "      <td>C</td>\n",
       "    </tr>\n",
       "    <tr>\n",
       "      <th>2</th>\n",
       "      <td>3</td>\n",
       "      <td>1</td>\n",
       "      <td>3</td>\n",
       "      <td>Heikkinen, Miss. Laina</td>\n",
       "      <td>female</td>\n",
       "      <td>26.0</td>\n",
       "      <td>0</td>\n",
       "      <td>0</td>\n",
       "      <td>STON/O2. 3101282</td>\n",
       "      <td>7.9250</td>\n",
       "      <td>NaN</td>\n",
       "      <td>S</td>\n",
       "    </tr>\n",
       "    <tr>\n",
       "      <th>3</th>\n",
       "      <td>4</td>\n",
       "      <td>1</td>\n",
       "      <td>1</td>\n",
       "      <td>Futrelle, Mrs. Jacques Heath (Lily May Peel)</td>\n",
       "      <td>female</td>\n",
       "      <td>35.0</td>\n",
       "      <td>1</td>\n",
       "      <td>0</td>\n",
       "      <td>113803</td>\n",
       "      <td>53.1000</td>\n",
       "      <td>C123</td>\n",
       "      <td>S</td>\n",
       "    </tr>\n",
       "    <tr>\n",
       "      <th>4</th>\n",
       "      <td>5</td>\n",
       "      <td>0</td>\n",
       "      <td>3</td>\n",
       "      <td>Allen, Mr. William Henry</td>\n",
       "      <td>male</td>\n",
       "      <td>35.0</td>\n",
       "      <td>0</td>\n",
       "      <td>0</td>\n",
       "      <td>373450</td>\n",
       "      <td>8.0500</td>\n",
       "      <td>NaN</td>\n",
       "      <td>S</td>\n",
       "    </tr>\n",
       "  </tbody>\n",
       "</table>\n",
       "</div>"
      ],
      "text/plain": [
       "   PassengerId  Survived  Pclass  \\\n",
       "0            1         0       3   \n",
       "1            2         1       1   \n",
       "2            3         1       3   \n",
       "3            4         1       1   \n",
       "4            5         0       3   \n",
       "\n",
       "                                                Name     Sex   Age  SibSp  \\\n",
       "0                            Braund, Mr. Owen Harris    male  22.0      1   \n",
       "1  Cumings, Mrs. John Bradley (Florence Briggs Th...  female  38.0      1   \n",
       "2                             Heikkinen, Miss. Laina  female  26.0      0   \n",
       "3       Futrelle, Mrs. Jacques Heath (Lily May Peel)  female  35.0      1   \n",
       "4                           Allen, Mr. William Henry    male  35.0      0   \n",
       "\n",
       "   Parch            Ticket     Fare Cabin Embarked  \n",
       "0      0         A/5 21171   7.2500   NaN        S  \n",
       "1      0          PC 17599  71.2833   C85        C  \n",
       "2      0  STON/O2. 3101282   7.9250   NaN        S  \n",
       "3      0            113803  53.1000  C123        S  \n",
       "4      0            373450   8.0500   NaN        S  "
      ]
     },
     "execution_count": 2,
     "metadata": {},
     "output_type": "execute_result"
    }
   ],
   "source": [
    "read_data_abs_path = '/Users/johnson.huang/py_ds/tutor_python_project/data/titanic/train.csv'  # absolute path\n",
    "read_data_rel_path = '../data/titanic/train.csv'  # relative path\n",
    "df_train = pd.read_csv(read_data_rel_path)\n",
    "df_train.head()"
   ]
  },
  {
   "cell_type": "code",
   "execution_count": 3,
   "metadata": {
    "slideshow": {
     "slide_type": "subslide"
    }
   },
   "outputs": [
    {
     "data": {
      "text/html": [
       "<div>\n",
       "<style scoped>\n",
       "    .dataframe tbody tr th:only-of-type {\n",
       "        vertical-align: middle;\n",
       "    }\n",
       "\n",
       "    .dataframe tbody tr th {\n",
       "        vertical-align: top;\n",
       "    }\n",
       "\n",
       "    .dataframe thead th {\n",
       "        text-align: right;\n",
       "    }\n",
       "</style>\n",
       "<table border=\"1\" class=\"dataframe\">\n",
       "  <thead>\n",
       "    <tr style=\"text-align: right;\">\n",
       "      <th></th>\n",
       "      <th>PassengerId</th>\n",
       "      <th>Survived</th>\n",
       "      <th>Pclass</th>\n",
       "      <th>Name</th>\n",
       "      <th>Sex</th>\n",
       "      <th>Age</th>\n",
       "      <th>SibSp</th>\n",
       "      <th>Parch</th>\n",
       "      <th>Ticket</th>\n",
       "      <th>Fare</th>\n",
       "      <th>Cabin</th>\n",
       "      <th>Embarked</th>\n",
       "    </tr>\n",
       "  </thead>\n",
       "  <tbody>\n",
       "    <tr>\n",
       "      <th>1</th>\n",
       "      <td>2</td>\n",
       "      <td>1</td>\n",
       "      <td>1</td>\n",
       "      <td>Cumings, Mrs. John Bradley (Florence Briggs Th...</td>\n",
       "      <td>female</td>\n",
       "      <td>38.0</td>\n",
       "      <td>1</td>\n",
       "      <td>0</td>\n",
       "      <td>PC 17599</td>\n",
       "      <td>71.2833</td>\n",
       "      <td>C85</td>\n",
       "      <td>C</td>\n",
       "    </tr>\n",
       "    <tr>\n",
       "      <th>3</th>\n",
       "      <td>4</td>\n",
       "      <td>1</td>\n",
       "      <td>1</td>\n",
       "      <td>Futrelle, Mrs. Jacques Heath (Lily May Peel)</td>\n",
       "      <td>female</td>\n",
       "      <td>35.0</td>\n",
       "      <td>1</td>\n",
       "      <td>0</td>\n",
       "      <td>113803</td>\n",
       "      <td>53.1000</td>\n",
       "      <td>C123</td>\n",
       "      <td>S</td>\n",
       "    </tr>\n",
       "    <tr>\n",
       "      <th>8</th>\n",
       "      <td>9</td>\n",
       "      <td>1</td>\n",
       "      <td>3</td>\n",
       "      <td>Johnson, Mrs. Oscar W (Elisabeth Vilhelmina Berg)</td>\n",
       "      <td>female</td>\n",
       "      <td>27.0</td>\n",
       "      <td>0</td>\n",
       "      <td>2</td>\n",
       "      <td>347742</td>\n",
       "      <td>11.1333</td>\n",
       "      <td>NaN</td>\n",
       "      <td>S</td>\n",
       "    </tr>\n",
       "    <tr>\n",
       "      <th>9</th>\n",
       "      <td>10</td>\n",
       "      <td>1</td>\n",
       "      <td>2</td>\n",
       "      <td>Nasser, Mrs. Nicholas (Adele Achem)</td>\n",
       "      <td>female</td>\n",
       "      <td>14.0</td>\n",
       "      <td>1</td>\n",
       "      <td>0</td>\n",
       "      <td>237736</td>\n",
       "      <td>30.0708</td>\n",
       "      <td>NaN</td>\n",
       "      <td>C</td>\n",
       "    </tr>\n",
       "    <tr>\n",
       "      <th>15</th>\n",
       "      <td>16</td>\n",
       "      <td>1</td>\n",
       "      <td>2</td>\n",
       "      <td>Hewlett, Mrs. (Mary D Kingcome)</td>\n",
       "      <td>female</td>\n",
       "      <td>55.0</td>\n",
       "      <td>0</td>\n",
       "      <td>0</td>\n",
       "      <td>248706</td>\n",
       "      <td>16.0000</td>\n",
       "      <td>NaN</td>\n",
       "      <td>S</td>\n",
       "    </tr>\n",
       "  </tbody>\n",
       "</table>\n",
       "</div>"
      ],
      "text/plain": [
       "    PassengerId  Survived  Pclass  \\\n",
       "1             2         1       1   \n",
       "3             4         1       1   \n",
       "8             9         1       3   \n",
       "9            10         1       2   \n",
       "15           16         1       2   \n",
       "\n",
       "                                                 Name     Sex   Age  SibSp  \\\n",
       "1   Cumings, Mrs. John Bradley (Florence Briggs Th...  female  38.0      1   \n",
       "3        Futrelle, Mrs. Jacques Heath (Lily May Peel)  female  35.0      1   \n",
       "8   Johnson, Mrs. Oscar W (Elisabeth Vilhelmina Berg)  female  27.0      0   \n",
       "9                 Nasser, Mrs. Nicholas (Adele Achem)  female  14.0      1   \n",
       "15                   Hewlett, Mrs. (Mary D Kingcome)   female  55.0      0   \n",
       "\n",
       "    Parch    Ticket     Fare Cabin Embarked  \n",
       "1       0  PC 17599  71.2833   C85        C  \n",
       "3       0    113803  53.1000  C123        S  \n",
       "8       2    347742  11.1333   NaN        S  \n",
       "9       0    237736  30.0708   NaN        C  \n",
       "15      0    248706  16.0000   NaN        S  "
      ]
     },
     "execution_count": 3,
     "metadata": {},
     "output_type": "execute_result"
    }
   ],
   "source": [
    "tmp = df_train.loc[df_train['Name'].str.contains('Mr.')]\n",
    "tmp.loc[df_train['Name'].str.contains('Mrs\\.')].head()"
   ]
  },
  {
   "cell_type": "code",
   "execution_count": 4,
   "metadata": {
    "slideshow": {
     "slide_type": "subslide"
    }
   },
   "outputs": [
    {
     "name": "stdout",
     "output_type": "stream",
     "text": [
      "df_train.loc[df_train['Name'].str.contains('Mr\\.')].shape: (517, 12)\n",
      "df_train.loc[df_train['Sex'] == 'male'].shape: (577, 12)\n"
     ]
    }
   ],
   "source": [
    "print(\"df_train.loc[df_train['Name'].str.contains('Mr\\.')].shape:\", \n",
    "      df_train.loc[df_train['Name'].str.contains('Mr\\.')].shape)\n",
    "\n",
    "print(\"df_train.loc[df_train['Sex'] == 'male'].shape:\", \n",
    "      df_train.loc[df_train['Sex'] == 'male'].shape)"
   ]
  },
  {
   "cell_type": "markdown",
   "metadata": {
    "slideshow": {
     "slide_type": "subslide"
    }
   },
   "source": [
    "- filter this df for only Mr. ones, in this 'Name' column\n",
    "\n",
    "> we first create a column called 'is_mr', thus, we need to define a function to distinguish it from the 'Name' column\n",
    "\n",
    "## regex - regular expression - your best partner to deal with the strings\n",
    "\n",
    "- ^ matches position just before the first character of the string\n",
    "- $ matches position just after the last character of the string\n",
    "- . matches a single character. Does not matter what character it is, except newline\n",
    "- * matches preceding match zero or more times"
   ]
  },
  {
   "cell_type": "code",
   "execution_count": 5,
   "metadata": {
    "slideshow": {
     "slide_type": "subslide"
    }
   },
   "outputs": [
    {
     "data": {
      "text/plain": [
       "0"
      ]
     },
     "execution_count": 5,
     "metadata": {},
     "output_type": "execute_result"
    }
   ],
   "source": [
    "def is_mr(name):\n",
    "    expression_to_use = r'.+Mr\\..+'\n",
    "    if re.match(expression_to_use, name):\n",
    "        return 1\n",
    "    else:\n",
    "        return 0\n",
    "\n",
    "\n",
    "# create a good habit to do the 'unit test'. At least, you need to ensure your function works as expected\n",
    "is_mr('Futrelle, Mrs. Jacques Heath (Lily May Peel)')"
   ]
  },
  {
   "cell_type": "markdown",
   "metadata": {},
   "source": [
    "## create a good habit to do the 'unit test'. At least, you need to ensure your function works as expected\n",
    "\n",
    "- then you can apply it to transform your data"
   ]
  },
  {
   "cell_type": "code",
   "execution_count": 6,
   "metadata": {},
   "outputs": [
    {
     "name": "stdout",
     "output_type": "stream",
     "text": [
      "df_train['is_mr'].sum(): 517\n"
     ]
    },
    {
     "data": {
      "text/html": [
       "<div>\n",
       "<style scoped>\n",
       "    .dataframe tbody tr th:only-of-type {\n",
       "        vertical-align: middle;\n",
       "    }\n",
       "\n",
       "    .dataframe tbody tr th {\n",
       "        vertical-align: top;\n",
       "    }\n",
       "\n",
       "    .dataframe thead th {\n",
       "        text-align: right;\n",
       "    }\n",
       "</style>\n",
       "<table border=\"1\" class=\"dataframe\">\n",
       "  <thead>\n",
       "    <tr style=\"text-align: right;\">\n",
       "      <th></th>\n",
       "      <th>PassengerId</th>\n",
       "      <th>Survived</th>\n",
       "      <th>Pclass</th>\n",
       "      <th>Name</th>\n",
       "      <th>Sex</th>\n",
       "      <th>Age</th>\n",
       "      <th>SibSp</th>\n",
       "      <th>Parch</th>\n",
       "      <th>Ticket</th>\n",
       "      <th>Fare</th>\n",
       "      <th>Cabin</th>\n",
       "      <th>Embarked</th>\n",
       "      <th>is_mr</th>\n",
       "    </tr>\n",
       "  </thead>\n",
       "  <tbody>\n",
       "    <tr>\n",
       "      <th>0</th>\n",
       "      <td>1</td>\n",
       "      <td>0</td>\n",
       "      <td>3</td>\n",
       "      <td>Braund, Mr. Owen Harris</td>\n",
       "      <td>male</td>\n",
       "      <td>22.0</td>\n",
       "      <td>1</td>\n",
       "      <td>0</td>\n",
       "      <td>A/5 21171</td>\n",
       "      <td>7.2500</td>\n",
       "      <td>NaN</td>\n",
       "      <td>S</td>\n",
       "      <td>1</td>\n",
       "    </tr>\n",
       "    <tr>\n",
       "      <th>1</th>\n",
       "      <td>2</td>\n",
       "      <td>1</td>\n",
       "      <td>1</td>\n",
       "      <td>Cumings, Mrs. John Bradley (Florence Briggs Th...</td>\n",
       "      <td>female</td>\n",
       "      <td>38.0</td>\n",
       "      <td>1</td>\n",
       "      <td>0</td>\n",
       "      <td>PC 17599</td>\n",
       "      <td>71.2833</td>\n",
       "      <td>C85</td>\n",
       "      <td>C</td>\n",
       "      <td>0</td>\n",
       "    </tr>\n",
       "    <tr>\n",
       "      <th>2</th>\n",
       "      <td>3</td>\n",
       "      <td>1</td>\n",
       "      <td>3</td>\n",
       "      <td>Heikkinen, Miss. Laina</td>\n",
       "      <td>female</td>\n",
       "      <td>26.0</td>\n",
       "      <td>0</td>\n",
       "      <td>0</td>\n",
       "      <td>STON/O2. 3101282</td>\n",
       "      <td>7.9250</td>\n",
       "      <td>NaN</td>\n",
       "      <td>S</td>\n",
       "      <td>0</td>\n",
       "    </tr>\n",
       "    <tr>\n",
       "      <th>3</th>\n",
       "      <td>4</td>\n",
       "      <td>1</td>\n",
       "      <td>1</td>\n",
       "      <td>Futrelle, Mrs. Jacques Heath (Lily May Peel)</td>\n",
       "      <td>female</td>\n",
       "      <td>35.0</td>\n",
       "      <td>1</td>\n",
       "      <td>0</td>\n",
       "      <td>113803</td>\n",
       "      <td>53.1000</td>\n",
       "      <td>C123</td>\n",
       "      <td>S</td>\n",
       "      <td>0</td>\n",
       "    </tr>\n",
       "    <tr>\n",
       "      <th>4</th>\n",
       "      <td>5</td>\n",
       "      <td>0</td>\n",
       "      <td>3</td>\n",
       "      <td>Allen, Mr. William Henry</td>\n",
       "      <td>male</td>\n",
       "      <td>35.0</td>\n",
       "      <td>0</td>\n",
       "      <td>0</td>\n",
       "      <td>373450</td>\n",
       "      <td>8.0500</td>\n",
       "      <td>NaN</td>\n",
       "      <td>S</td>\n",
       "      <td>1</td>\n",
       "    </tr>\n",
       "  </tbody>\n",
       "</table>\n",
       "</div>"
      ],
      "text/plain": [
       "   PassengerId  Survived  Pclass  \\\n",
       "0            1         0       3   \n",
       "1            2         1       1   \n",
       "2            3         1       3   \n",
       "3            4         1       1   \n",
       "4            5         0       3   \n",
       "\n",
       "                                                Name     Sex   Age  SibSp  \\\n",
       "0                            Braund, Mr. Owen Harris    male  22.0      1   \n",
       "1  Cumings, Mrs. John Bradley (Florence Briggs Th...  female  38.0      1   \n",
       "2                             Heikkinen, Miss. Laina  female  26.0      0   \n",
       "3       Futrelle, Mrs. Jacques Heath (Lily May Peel)  female  35.0      1   \n",
       "4                           Allen, Mr. William Henry    male  35.0      0   \n",
       "\n",
       "   Parch            Ticket     Fare Cabin Embarked  is_mr  \n",
       "0      0         A/5 21171   7.2500   NaN        S      1  \n",
       "1      0          PC 17599  71.2833   C85        C      0  \n",
       "2      0  STON/O2. 3101282   7.9250   NaN        S      0  \n",
       "3      0            113803  53.1000  C123        S      0  \n",
       "4      0            373450   8.0500   NaN        S      1  "
      ]
     },
     "execution_count": 6,
     "metadata": {},
     "output_type": "execute_result"
    }
   ],
   "source": [
    "df_train['is_mr'] = df_train.apply(\n",
    "    lambda row: is_mr(row['Name']),\n",
    "    axis=1  #  means we apply this function column-wise (axis=1)\n",
    ")\n",
    "print(\"df_train['is_mr'].sum():\", df_train['is_mr'].sum())\n",
    "df_train.head()"
   ]
  },
  {
   "cell_type": "code",
   "execution_count": null,
   "metadata": {},
   "outputs": [],
   "source": []
  },
  {
   "cell_type": "markdown",
   "metadata": {
    "slideshow": {
     "slide_type": "slide"
    }
   },
   "source": [
    "## Deal with 2 DataFrames"
   ]
  },
  {
   "cell_type": "markdown",
   "metadata": {
    "slideshow": {
     "slide_type": "subslide"
    }
   },
   "source": [
    "### sql join\n",
    "\n",
    "![sql_join](https://i.pinimg.com/originals/9c/9c/d9/9c9cd9c0b628505dab25bac65e2a0182.png)"
   ]
  },
  {
   "cell_type": "markdown",
   "metadata": {},
   "source": [
    "### pandas merge\n",
    "\n",
    "> https://stackoverflow.com/questions/53645882/pandas-merging-101\n",
    "\n",
    "> animation - https://github.com/gadenbuie/tidyexplain\n",
    "\n",
    "![pd_merge](data:image/png;base64,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)"
   ]
  },
  {
   "cell_type": "code",
   "execution_count": 6,
   "metadata": {},
   "outputs": [
    {
     "name": "stdout",
     "output_type": "stream",
     "text": [
      "-- method 1 to create a dataframe : dictionary\n",
      "df1:\n",
      " +----+------+------------+------------+\n",
      "|    |   id | Feature1   | Feature2   |\n",
      "+====+======+============+============+\n",
      "|  0 |    1 | A          | B          |\n",
      "+----+------+------------+------------+\n",
      "|  1 |    2 | C          | D          |\n",
      "+----+------+------------+------------+\n",
      "|  2 |    3 | E          | F          |\n",
      "+----+------+------------+------------+\n",
      "|  3 |    4 | G          | H          |\n",
      "+----+------+------------+------------+\n",
      "|  4 |    5 | I          | J          |\n",
      "+----+------+------------+------------+\n",
      "-- method 2 to create a dataframe : nd.array\n",
      "df2:\n",
      " +----+------+------------+------------+\n",
      "|    |   id | Feature1   | Feature2   |\n",
      "+====+======+============+============+\n",
      "|  0 |    1 | K          | L          |\n",
      "+----+------+------------+------------+\n",
      "|  1 |    2 | M          | N          |\n",
      "+----+------+------------+------------+\n",
      "|  2 |    6 | O          | P          |\n",
      "+----+------+------------+------------+\n",
      "|  3 |    7 | Q          | R          |\n",
      "+----+------+------------+------------+\n",
      "|  4 |    8 | S          | T          |\n",
      "+----+------+------------+------------+\n"
     ]
    }
   ],
   "source": [
    "# data reference - https://www.kaggle.com/vin1234/merge-join-and-concat-with-pandas\n",
    "print('-- method 1 to create a dataframe : dictionary')\n",
    "dummy_data1 = {\n",
    "    'id': ['1', '2', '3', '4', '5'],\n",
    "    'Feature1': ['A', 'C', 'E', 'G', 'I'],\n",
    "    'Feature2': ['B', 'D', 'F', 'H', 'J']\n",
    "}\n",
    "df1 = pd.DataFrame(dummy_data1, columns = ['id', 'Feature1', 'Feature2'])\n",
    "print('df1:\\n', df1.to_markdown(tablefmt='grid'))\n",
    "print('-- method 2 to create a dataframe : nd.array')\n",
    "# dummy_data2 = {\n",
    "#         'id': ['1', '2', '6', '7', '8'],\n",
    "#         'Feature1': ['K', 'M', 'O', 'Q', 'S'],\n",
    "#         'Feature2': ['L', 'N', 'P', 'R', 'T']}\n",
    "dummy_data2 = [\n",
    "    ['1', 'K', 'L'],\n",
    "    ['2', 'M', 'N'],\n",
    "    ['6', 'O', 'P'],\n",
    "    ['7', 'Q', 'R'],\n",
    "    ['8', 'S', 'T'],\n",
    "]\n",
    "df2 = pd.DataFrame(dummy_data2, columns = ['id', 'Feature1', 'Feature2'])\n",
    "print('df2:\\n', df2.to_markdown(tablefmt='grid'))"
   ]
  },
  {
   "cell_type": "markdown",
   "metadata": {},
   "source": [
    "### inner join"
   ]
  },
  {
   "cell_type": "code",
   "execution_count": 7,
   "metadata": {},
   "outputs": [
    {
     "data": {
      "text/html": [
       "<div>\n",
       "<style scoped>\n",
       "    .dataframe tbody tr th:only-of-type {\n",
       "        vertical-align: middle;\n",
       "    }\n",
       "\n",
       "    .dataframe tbody tr th {\n",
       "        vertical-align: top;\n",
       "    }\n",
       "\n",
       "    .dataframe thead th {\n",
       "        text-align: right;\n",
       "    }\n",
       "</style>\n",
       "<table border=\"1\" class=\"dataframe\">\n",
       "  <thead>\n",
       "    <tr style=\"text-align: right;\">\n",
       "      <th></th>\n",
       "      <th>id</th>\n",
       "      <th>Feature1_x</th>\n",
       "      <th>Feature2_x</th>\n",
       "      <th>Feature1_y</th>\n",
       "      <th>Feature2_y</th>\n",
       "    </tr>\n",
       "  </thead>\n",
       "  <tbody>\n",
       "    <tr>\n",
       "      <th>0</th>\n",
       "      <td>1</td>\n",
       "      <td>A</td>\n",
       "      <td>B</td>\n",
       "      <td>K</td>\n",
       "      <td>L</td>\n",
       "    </tr>\n",
       "    <tr>\n",
       "      <th>1</th>\n",
       "      <td>2</td>\n",
       "      <td>C</td>\n",
       "      <td>D</td>\n",
       "      <td>M</td>\n",
       "      <td>N</td>\n",
       "    </tr>\n",
       "  </tbody>\n",
       "</table>\n",
       "</div>"
      ],
      "text/plain": [
       "  id Feature1_x Feature2_x Feature1_y Feature2_y\n",
       "0  1          A          B          K          L\n",
       "1  2          C          D          M          N"
      ]
     },
     "execution_count": 7,
     "metadata": {},
     "output_type": "execute_result"
    }
   ],
   "source": [
    "df_inner = df1.merge(df2, on='id', how='inner')\n",
    "df_inner"
   ]
  },
  {
   "cell_type": "markdown",
   "metadata": {},
   "source": [
    "### left join"
   ]
  },
  {
   "cell_type": "code",
   "execution_count": 9,
   "metadata": {},
   "outputs": [
    {
     "data": {
      "text/html": [
       "<div>\n",
       "<style scoped>\n",
       "    .dataframe tbody tr th:only-of-type {\n",
       "        vertical-align: middle;\n",
       "    }\n",
       "\n",
       "    .dataframe tbody tr th {\n",
       "        vertical-align: top;\n",
       "    }\n",
       "\n",
       "    .dataframe thead th {\n",
       "        text-align: right;\n",
       "    }\n",
       "</style>\n",
       "<table border=\"1\" class=\"dataframe\">\n",
       "  <thead>\n",
       "    <tr style=\"text-align: right;\">\n",
       "      <th></th>\n",
       "      <th>id</th>\n",
       "      <th>Feature1_left</th>\n",
       "      <th>Feature2_left</th>\n",
       "      <th>Feature1_right</th>\n",
       "      <th>Feature2_right</th>\n",
       "    </tr>\n",
       "  </thead>\n",
       "  <tbody>\n",
       "    <tr>\n",
       "      <th>0</th>\n",
       "      <td>1</td>\n",
       "      <td>A</td>\n",
       "      <td>B</td>\n",
       "      <td>K</td>\n",
       "      <td>L</td>\n",
       "    </tr>\n",
       "    <tr>\n",
       "      <th>1</th>\n",
       "      <td>2</td>\n",
       "      <td>C</td>\n",
       "      <td>D</td>\n",
       "      <td>M</td>\n",
       "      <td>N</td>\n",
       "    </tr>\n",
       "    <tr>\n",
       "      <th>2</th>\n",
       "      <td>3</td>\n",
       "      <td>E</td>\n",
       "      <td>F</td>\n",
       "      <td>NaN</td>\n",
       "      <td>NaN</td>\n",
       "    </tr>\n",
       "    <tr>\n",
       "      <th>3</th>\n",
       "      <td>4</td>\n",
       "      <td>G</td>\n",
       "      <td>H</td>\n",
       "      <td>NaN</td>\n",
       "      <td>NaN</td>\n",
       "    </tr>\n",
       "    <tr>\n",
       "      <th>4</th>\n",
       "      <td>5</td>\n",
       "      <td>I</td>\n",
       "      <td>J</td>\n",
       "      <td>NaN</td>\n",
       "      <td>NaN</td>\n",
       "    </tr>\n",
       "  </tbody>\n",
       "</table>\n",
       "</div>"
      ],
      "text/plain": [
       "  id Feature1_left Feature2_left Feature1_right Feature2_right\n",
       "0  1             A             B              K              L\n",
       "1  2             C             D              M              N\n",
       "2  3             E             F            NaN            NaN\n",
       "3  4             G             H            NaN            NaN\n",
       "4  5             I             J            NaN            NaN"
      ]
     },
     "execution_count": 9,
     "metadata": {},
     "output_type": "execute_result"
    }
   ],
   "source": [
    "df_left = df1.merge(df2, on='id', how='left', suffixes=('_left', '_right'))\n",
    "df_left"
   ]
  },
  {
   "cell_type": "code",
   "execution_count": 10,
   "metadata": {},
   "outputs": [
    {
     "data": {
      "text/html": [
       "<div>\n",
       "<style scoped>\n",
       "    .dataframe tbody tr th:only-of-type {\n",
       "        vertical-align: middle;\n",
       "    }\n",
       "\n",
       "    .dataframe tbody tr th {\n",
       "        vertical-align: top;\n",
       "    }\n",
       "\n",
       "    .dataframe thead th {\n",
       "        text-align: right;\n",
       "    }\n",
       "</style>\n",
       "<table border=\"1\" class=\"dataframe\">\n",
       "  <thead>\n",
       "    <tr style=\"text-align: right;\">\n",
       "      <th></th>\n",
       "      <th>id</th>\n",
       "      <th>Feature1_from_df1</th>\n",
       "      <th>Feature2_from_df1</th>\n",
       "      <th>Feature1_from_df2</th>\n",
       "      <th>Feature2_from_df2</th>\n",
       "    </tr>\n",
       "  </thead>\n",
       "  <tbody>\n",
       "    <tr>\n",
       "      <th>0</th>\n",
       "      <td>1</td>\n",
       "      <td>A</td>\n",
       "      <td>B</td>\n",
       "      <td>K</td>\n",
       "      <td>L</td>\n",
       "    </tr>\n",
       "    <tr>\n",
       "      <th>1</th>\n",
       "      <td>2</td>\n",
       "      <td>C</td>\n",
       "      <td>D</td>\n",
       "      <td>M</td>\n",
       "      <td>N</td>\n",
       "    </tr>\n",
       "    <tr>\n",
       "      <th>2</th>\n",
       "      <td>3</td>\n",
       "      <td>E</td>\n",
       "      <td>F</td>\n",
       "      <td>NaN</td>\n",
       "      <td>NaN</td>\n",
       "    </tr>\n",
       "    <tr>\n",
       "      <th>3</th>\n",
       "      <td>4</td>\n",
       "      <td>G</td>\n",
       "      <td>H</td>\n",
       "      <td>NaN</td>\n",
       "      <td>NaN</td>\n",
       "    </tr>\n",
       "    <tr>\n",
       "      <th>4</th>\n",
       "      <td>5</td>\n",
       "      <td>I</td>\n",
       "      <td>J</td>\n",
       "      <td>NaN</td>\n",
       "      <td>NaN</td>\n",
       "    </tr>\n",
       "  </tbody>\n",
       "</table>\n",
       "</div>"
      ],
      "text/plain": [
       "  id Feature1_from_df1 Feature2_from_df1 Feature1_from_df2 Feature2_from_df2\n",
       "0  1                 A                 B                 K                 L\n",
       "1  2                 C                 D                 M                 N\n",
       "2  3                 E                 F               NaN               NaN\n",
       "3  4                 G                 H               NaN               NaN\n",
       "4  5                 I                 J               NaN               NaN"
      ]
     },
     "execution_count": 10,
     "metadata": {},
     "output_type": "execute_result"
    }
   ],
   "source": [
    "df_left = df1.merge(df2, left_on='id', right_on='id', how='left', suffixes=('_from_df1', '_from_df2'))\n",
    "df_left"
   ]
  },
  {
   "cell_type": "markdown",
   "metadata": {},
   "source": [
    "> <font color='#FFCC34'> - give it a try - </font>\n",
    "\n",
    "- how about merging multiple dataframes? e.g. inner join df1, df2, df3"
   ]
  },
  {
   "cell_type": "code",
   "execution_count": 11,
   "metadata": {},
   "outputs": [
    {
     "data": {
      "text/html": [
       "<div>\n",
       "<style scoped>\n",
       "    .dataframe tbody tr th:only-of-type {\n",
       "        vertical-align: middle;\n",
       "    }\n",
       "\n",
       "    .dataframe tbody tr th {\n",
       "        vertical-align: top;\n",
       "    }\n",
       "\n",
       "    .dataframe thead th {\n",
       "        text-align: right;\n",
       "    }\n",
       "</style>\n",
       "<table border=\"1\" class=\"dataframe\">\n",
       "  <thead>\n",
       "    <tr style=\"text-align: right;\">\n",
       "      <th></th>\n",
       "      <th>id</th>\n",
       "      <th>Feature3</th>\n",
       "    </tr>\n",
       "  </thead>\n",
       "  <tbody>\n",
       "    <tr>\n",
       "      <th>0</th>\n",
       "      <td>1</td>\n",
       "      <td>12</td>\n",
       "    </tr>\n",
       "    <tr>\n",
       "      <th>1</th>\n",
       "      <td>2</td>\n",
       "      <td>13</td>\n",
       "    </tr>\n",
       "    <tr>\n",
       "      <th>2</th>\n",
       "      <td>3</td>\n",
       "      <td>14</td>\n",
       "    </tr>\n",
       "    <tr>\n",
       "      <th>3</th>\n",
       "      <td>4</td>\n",
       "      <td>15</td>\n",
       "    </tr>\n",
       "    <tr>\n",
       "      <th>4</th>\n",
       "      <td>5</td>\n",
       "      <td>16</td>\n",
       "    </tr>\n",
       "    <tr>\n",
       "      <th>5</th>\n",
       "      <td>7</td>\n",
       "      <td>17</td>\n",
       "    </tr>\n",
       "    <tr>\n",
       "      <th>6</th>\n",
       "      <td>8</td>\n",
       "      <td>15</td>\n",
       "    </tr>\n",
       "    <tr>\n",
       "      <th>7</th>\n",
       "      <td>9</td>\n",
       "      <td>12</td>\n",
       "    </tr>\n",
       "    <tr>\n",
       "      <th>8</th>\n",
       "      <td>10</td>\n",
       "      <td>13</td>\n",
       "    </tr>\n",
       "    <tr>\n",
       "      <th>9</th>\n",
       "      <td>11</td>\n",
       "      <td>23</td>\n",
       "    </tr>\n",
       "  </tbody>\n",
       "</table>\n",
       "</div>"
      ],
      "text/plain": [
       "   id  Feature3\n",
       "0   1        12\n",
       "1   2        13\n",
       "2   3        14\n",
       "3   4        15\n",
       "4   5        16\n",
       "5   7        17\n",
       "6   8        15\n",
       "7   9        12\n",
       "8  10        13\n",
       "9  11        23"
      ]
     },
     "execution_count": 11,
     "metadata": {},
     "output_type": "execute_result"
    }
   ],
   "source": [
    "dummy_data3 = {\n",
    "        'id': ['1', '2', '3', '4', '5', '7', '8', '9', '10', '11'],\n",
    "        'Feature3': [12, 13, 14, 15, 16, 17, 15, 12, 13, 23]\n",
    "}\n",
    "df3 = pd.DataFrame(dummy_data3, columns = ['id', 'Feature3'])\n",
    "df3"
   ]
  },
  {
   "cell_type": "code",
   "execution_count": 12,
   "metadata": {},
   "outputs": [],
   "source": [
    "# your answer\n"
   ]
  },
  {
   "cell_type": "code",
   "execution_count": null,
   "metadata": {},
   "outputs": [],
   "source": []
  },
  {
   "cell_type": "markdown",
   "metadata": {
    "slideshow": {
     "slide_type": "subslide"
    }
   },
   "source": [
    "### concat\n",
    "\n",
    "![df_concat](https://encrypted-tbn0.gstatic.com/images?q=tbn:ANd9GcTgpMUpM01WEbIpxCPhHmzS6IGYjTA9id5Yew&usqp=CAU)"
   ]
  },
  {
   "cell_type": "code",
   "execution_count": 13,
   "metadata": {},
   "outputs": [
    {
     "name": "stdout",
     "output_type": "stream",
     "text": [
      "df_concat_horiz:\n",
      " +----+------+------------+------------+------+------------+------------+\n",
      "|    |   id | Feature1   | Feature2   |   id | Feature1   | Feature2   |\n",
      "+====+======+============+============+======+============+============+\n",
      "|  0 |    1 | A          | B          |    1 | K          | L          |\n",
      "+----+------+------------+------------+------+------------+------------+\n",
      "|  1 |    2 | C          | D          |    2 | M          | N          |\n",
      "+----+------+------------+------------+------+------------+------------+\n",
      "|  2 |    3 | E          | F          |    6 | O          | P          |\n",
      "+----+------+------------+------------+------+------------+------------+\n",
      "|  3 |    4 | G          | H          |    7 | Q          | R          |\n",
      "+----+------+------------+------------+------+------------+------------+\n",
      "|  4 |    5 | I          | J          |    8 | S          | T          |\n",
      "+----+------+------------+------------+------+------------+------------+\n",
      "--\n",
      "df_concat_vrt:\n",
      " +----+------+------------+------------+\n",
      "|    |   id | Feature1   | Feature2   |\n",
      "+====+======+============+============+\n",
      "|  0 |    1 | A          | B          |\n",
      "+----+------+------------+------------+\n",
      "|  1 |    2 | C          | D          |\n",
      "+----+------+------------+------------+\n",
      "|  2 |    3 | E          | F          |\n",
      "+----+------+------------+------------+\n",
      "|  3 |    4 | G          | H          |\n",
      "+----+------+------------+------------+\n",
      "|  4 |    5 | I          | J          |\n",
      "+----+------+------------+------------+\n",
      "|  0 |    1 | K          | L          |\n",
      "+----+------+------------+------------+\n",
      "|  1 |    2 | M          | N          |\n",
      "+----+------+------------+------------+\n",
      "|  2 |    6 | O          | P          |\n",
      "+----+------+------------+------------+\n",
      "|  3 |    7 | Q          | R          |\n",
      "+----+------+------------+------------+\n",
      "|  4 |    8 | S          | T          |\n",
      "+----+------+------------+------------+\n"
     ]
    }
   ],
   "source": [
    "df_concat_horiz = pd.concat([df1, df2], axis=1)\n",
    "print('df_concat_horiz:\\n', df_concat_horiz.to_markdown(tablefmt='grid'))\n",
    "print('--')\n",
    "df_concat_vrt = pd.concat([df1, df2], axis=0)\n",
    "print('df_concat_vrt:\\n', df_concat_vrt.to_markdown(tablefmt='grid'))"
   ]
  },
  {
   "cell_type": "code",
   "execution_count": null,
   "metadata": {},
   "outputs": [],
   "source": []
  },
  {
   "cell_type": "markdown",
   "metadata": {
    "slideshow": {
     "slide_type": "slide"
    }
   },
   "source": [
    "## to python basic data structures"
   ]
  },
  {
   "cell_type": "code",
   "execution_count": 14,
   "metadata": {},
   "outputs": [
    {
     "data": {
      "text/html": [
       "<div>\n",
       "<style scoped>\n",
       "    .dataframe tbody tr th:only-of-type {\n",
       "        vertical-align: middle;\n",
       "    }\n",
       "\n",
       "    .dataframe tbody tr th {\n",
       "        vertical-align: top;\n",
       "    }\n",
       "\n",
       "    .dataframe thead th {\n",
       "        text-align: right;\n",
       "    }\n",
       "</style>\n",
       "<table border=\"1\" class=\"dataframe\">\n",
       "  <thead>\n",
       "    <tr style=\"text-align: right;\">\n",
       "      <th></th>\n",
       "      <th>id</th>\n",
       "      <th>Feature1</th>\n",
       "      <th>Feature2</th>\n",
       "    </tr>\n",
       "  </thead>\n",
       "  <tbody>\n",
       "    <tr>\n",
       "      <th>0</th>\n",
       "      <td>1</td>\n",
       "      <td>A</td>\n",
       "      <td>B</td>\n",
       "    </tr>\n",
       "    <tr>\n",
       "      <th>1</th>\n",
       "      <td>2</td>\n",
       "      <td>C</td>\n",
       "      <td>D</td>\n",
       "    </tr>\n",
       "    <tr>\n",
       "      <th>2</th>\n",
       "      <td>3</td>\n",
       "      <td>E</td>\n",
       "      <td>F</td>\n",
       "    </tr>\n",
       "    <tr>\n",
       "      <th>3</th>\n",
       "      <td>4</td>\n",
       "      <td>G</td>\n",
       "      <td>H</td>\n",
       "    </tr>\n",
       "    <tr>\n",
       "      <th>4</th>\n",
       "      <td>5</td>\n",
       "      <td>I</td>\n",
       "      <td>J</td>\n",
       "    </tr>\n",
       "  </tbody>\n",
       "</table>\n",
       "</div>"
      ],
      "text/plain": [
       "  id Feature1 Feature2\n",
       "0  1        A        B\n",
       "1  2        C        D\n",
       "2  3        E        F\n",
       "3  4        G        H\n",
       "4  5        I        J"
      ]
     },
     "execution_count": 14,
     "metadata": {},
     "output_type": "execute_result"
    }
   ],
   "source": [
    "df1.head()"
   ]
  },
  {
   "cell_type": "markdown",
   "metadata": {},
   "source": [
    "### to list"
   ]
  },
  {
   "cell_type": "code",
   "execution_count": 15,
   "metadata": {},
   "outputs": [
    {
     "data": {
      "text/plain": [
       "['1', '2', '3', '4', '5']"
      ]
     },
     "execution_count": 15,
     "metadata": {},
     "output_type": "execute_result"
    }
   ],
   "source": [
    "df1['id'].tolist()"
   ]
  },
  {
   "cell_type": "markdown",
   "metadata": {},
   "source": [
    "### to dict"
   ]
  },
  {
   "cell_type": "code",
   "execution_count": 16,
   "metadata": {
    "scrolled": true
   },
   "outputs": [
    {
     "name": "stdout",
     "output_type": "stream",
     "text": [
      "df_set_index:\n",
      " +------+------------+\n",
      "|   id | Feature1   |\n",
      "+======+============+\n",
      "|    1 | A          |\n",
      "+------+------------+\n",
      "|    2 | C          |\n",
      "+------+------------+\n",
      "|    3 | E          |\n",
      "+------+------------+\n",
      "|    4 | G          |\n",
      "+------+------------+\n",
      "|    5 | I          |\n",
      "+------+------------+\n",
      "Index(['1', '2', '3', '4', '5'], dtype='object', name='id')\n"
     ]
    }
   ],
   "source": [
    "df_set_index = df1.set_index(['id'])['Feature1']\n",
    "print('df_set_index:\\n', df_set_index.to_markdown(tablefmt='grid'))\n",
    "print(df_set_index.index)"
   ]
  },
  {
   "cell_type": "code",
   "execution_count": 17,
   "metadata": {},
   "outputs": [
    {
     "data": {
      "text/plain": [
       "{'1': 'A', '2': 'C', '3': 'E', '4': 'G', '5': 'I'}"
      ]
     },
     "execution_count": 17,
     "metadata": {},
     "output_type": "execute_result"
    }
   ],
   "source": [
    "df1.set_index(['id'])['Feature1'].to_dict()"
   ]
  },
  {
   "cell_type": "code",
   "execution_count": 18,
   "metadata": {},
   "outputs": [
    {
     "data": {
      "text/plain": [
       "[{'id': '1', 'Feature1': 'A', 'Feature2': 'B'},\n",
       " {'id': '2', 'Feature1': 'C', 'Feature2': 'D'},\n",
       " {'id': '3', 'Feature1': 'E', 'Feature2': 'F'},\n",
       " {'id': '4', 'Feature1': 'G', 'Feature2': 'H'},\n",
       " {'id': '5', 'Feature1': 'I', 'Feature2': 'J'}]"
      ]
     },
     "execution_count": 18,
     "metadata": {},
     "output_type": "execute_result"
    }
   ],
   "source": [
    "df1.to_dict('records')"
   ]
  },
  {
   "cell_type": "code",
   "execution_count": null,
   "metadata": {},
   "outputs": [],
   "source": [
    "df.to_dict"
   ]
  },
  {
   "cell_type": "markdown",
   "metadata": {},
   "source": [
    "### to set"
   ]
  },
  {
   "cell_type": "code",
   "execution_count": 17,
   "metadata": {},
   "outputs": [
    {
     "data": {
      "text/plain": [
       "5"
      ]
     },
     "execution_count": 17,
     "metadata": {},
     "output_type": "execute_result"
    }
   ],
   "source": [
    "set(df1['id'])"
   ]
  },
  {
   "cell_type": "code",
   "execution_count": 22,
   "metadata": {},
   "outputs": [
    {
     "data": {
      "text/plain": [
       "array(['1', '2', '3', '4', '5'], dtype=object)"
      ]
     },
     "execution_count": 22,
     "metadata": {},
     "output_type": "execute_result"
    }
   ],
   "source": [
    "df1['id'].unique()"
   ]
  },
  {
   "cell_type": "code",
   "execution_count": 21,
   "metadata": {},
   "outputs": [
    {
     "data": {
      "text/plain": [
       "5"
      ]
     },
     "execution_count": 21,
     "metadata": {},
     "output_type": "execute_result"
    }
   ],
   "source": [
    "df1['id'].nunique()"
   ]
  },
  {
   "cell_type": "code",
   "execution_count": 23,
   "metadata": {},
   "outputs": [
    {
     "data": {
      "text/plain": [
       "5"
      ]
     },
     "execution_count": 23,
     "metadata": {},
     "output_type": "execute_result"
    }
   ],
   "source": [
    "len(df1['id'].unique())"
   ]
  },
  {
   "cell_type": "code",
   "execution_count": 22,
   "metadata": {},
   "outputs": [
    {
     "data": {
      "text/plain": [
       "5"
      ]
     },
     "execution_count": 22,
     "metadata": {},
     "output_type": "execute_result"
    }
   ],
   "source": [
    "len(set(df1['id']))"
   ]
  },
  {
   "cell_type": "code",
   "execution_count": null,
   "metadata": {},
   "outputs": [],
   "source": []
  },
  {
   "cell_type": "markdown",
   "metadata": {
    "tags": []
   },
   "source": [
    "# your turn"
   ]
  },
  {
   "cell_type": "markdown",
   "metadata": {},
   "source": [
    "- use df_train to practice"
   ]
  },
  {
   "cell_type": "markdown",
   "metadata": {},
   "source": [
    "### if you have trouble with the file path..."
   ]
  },
  {
   "cell_type": "code",
   "execution_count": 78,
   "metadata": {},
   "outputs": [
    {
     "data": {
      "text/plain": [
       "'/Users/johnson.huang/py_ds/tutor_python_project/notebooks'"
      ]
     },
     "execution_count": 78,
     "metadata": {},
     "output_type": "execute_result"
    }
   ],
   "source": [
    "import os \n",
    "os.getcwd()"
   ]
  },
  {
   "cell_type": "code",
   "execution_count": 79,
   "metadata": {},
   "outputs": [
    {
     "data": {
      "text/plain": [
       "'Users/johnson.huang'"
      ]
     },
     "execution_count": 79,
     "metadata": {},
     "output_type": "execute_result"
    }
   ],
   "source": [
    "'Users' + os.sep + 'johnson.huang'"
   ]
  },
  {
   "cell_type": "markdown",
   "metadata": {
    "tags": []
   },
   "source": [
    "### read the data"
   ]
  },
  {
   "cell_type": "code",
   "execution_count": 24,
   "metadata": {},
   "outputs": [
    {
     "data": {
      "text/html": [
       "<div>\n",
       "<style scoped>\n",
       "    .dataframe tbody tr th:only-of-type {\n",
       "        vertical-align: middle;\n",
       "    }\n",
       "\n",
       "    .dataframe tbody tr th {\n",
       "        vertical-align: top;\n",
       "    }\n",
       "\n",
       "    .dataframe thead th {\n",
       "        text-align: right;\n",
       "    }\n",
       "</style>\n",
       "<table border=\"1\" class=\"dataframe\">\n",
       "  <thead>\n",
       "    <tr style=\"text-align: right;\">\n",
       "      <th></th>\n",
       "      <th>PassengerId</th>\n",
       "      <th>Survived</th>\n",
       "      <th>Pclass</th>\n",
       "      <th>Name</th>\n",
       "      <th>Sex</th>\n",
       "      <th>Age</th>\n",
       "      <th>SibSp</th>\n",
       "      <th>Parch</th>\n",
       "      <th>Ticket</th>\n",
       "      <th>Fare</th>\n",
       "      <th>Cabin</th>\n",
       "      <th>Embarked</th>\n",
       "    </tr>\n",
       "  </thead>\n",
       "  <tbody>\n",
       "    <tr>\n",
       "      <th>0</th>\n",
       "      <td>1</td>\n",
       "      <td>0</td>\n",
       "      <td>3</td>\n",
       "      <td>Braund, Mr. Owen Harris</td>\n",
       "      <td>male</td>\n",
       "      <td>22.0</td>\n",
       "      <td>1</td>\n",
       "      <td>0</td>\n",
       "      <td>A/5 21171</td>\n",
       "      <td>7.2500</td>\n",
       "      <td>NaN</td>\n",
       "      <td>S</td>\n",
       "    </tr>\n",
       "    <tr>\n",
       "      <th>1</th>\n",
       "      <td>2</td>\n",
       "      <td>1</td>\n",
       "      <td>1</td>\n",
       "      <td>Cumings, Mrs. John Bradley (Florence Briggs Th...</td>\n",
       "      <td>female</td>\n",
       "      <td>38.0</td>\n",
       "      <td>1</td>\n",
       "      <td>0</td>\n",
       "      <td>PC 17599</td>\n",
       "      <td>71.2833</td>\n",
       "      <td>C85</td>\n",
       "      <td>C</td>\n",
       "    </tr>\n",
       "    <tr>\n",
       "      <th>2</th>\n",
       "      <td>3</td>\n",
       "      <td>1</td>\n",
       "      <td>3</td>\n",
       "      <td>Heikkinen, Miss. Laina</td>\n",
       "      <td>female</td>\n",
       "      <td>26.0</td>\n",
       "      <td>0</td>\n",
       "      <td>0</td>\n",
       "      <td>STON/O2. 3101282</td>\n",
       "      <td>7.9250</td>\n",
       "      <td>NaN</td>\n",
       "      <td>S</td>\n",
       "    </tr>\n",
       "    <tr>\n",
       "      <th>3</th>\n",
       "      <td>4</td>\n",
       "      <td>1</td>\n",
       "      <td>1</td>\n",
       "      <td>Futrelle, Mrs. Jacques Heath (Lily May Peel)</td>\n",
       "      <td>female</td>\n",
       "      <td>35.0</td>\n",
       "      <td>1</td>\n",
       "      <td>0</td>\n",
       "      <td>113803</td>\n",
       "      <td>53.1000</td>\n",
       "      <td>C123</td>\n",
       "      <td>S</td>\n",
       "    </tr>\n",
       "    <tr>\n",
       "      <th>4</th>\n",
       "      <td>5</td>\n",
       "      <td>0</td>\n",
       "      <td>3</td>\n",
       "      <td>Allen, Mr. William Henry</td>\n",
       "      <td>male</td>\n",
       "      <td>35.0</td>\n",
       "      <td>0</td>\n",
       "      <td>0</td>\n",
       "      <td>373450</td>\n",
       "      <td>8.0500</td>\n",
       "      <td>NaN</td>\n",
       "      <td>S</td>\n",
       "    </tr>\n",
       "  </tbody>\n",
       "</table>\n",
       "</div>"
      ],
      "text/plain": [
       "   PassengerId  Survived  Pclass  \\\n",
       "0            1         0       3   \n",
       "1            2         1       1   \n",
       "2            3         1       3   \n",
       "3            4         1       1   \n",
       "4            5         0       3   \n",
       "\n",
       "                                                Name     Sex   Age  SibSp  \\\n",
       "0                            Braund, Mr. Owen Harris    male  22.0      1   \n",
       "1  Cumings, Mrs. John Bradley (Florence Briggs Th...  female  38.0      1   \n",
       "2                             Heikkinen, Miss. Laina  female  26.0      0   \n",
       "3       Futrelle, Mrs. Jacques Heath (Lily May Peel)  female  35.0      1   \n",
       "4                           Allen, Mr. William Henry    male  35.0      0   \n",
       "\n",
       "   Parch            Ticket     Fare Cabin Embarked  \n",
       "0      0         A/5 21171   7.2500   NaN        S  \n",
       "1      0          PC 17599  71.2833   C85        C  \n",
       "2      0  STON/O2. 3101282   7.9250   NaN        S  \n",
       "3      0            113803  53.1000  C123        S  \n",
       "4      0            373450   8.0500   NaN        S  "
      ]
     },
     "execution_count": 24,
     "metadata": {},
     "output_type": "execute_result"
    }
   ],
   "source": [
    "data_path_to_read_1 = '/Users/johnson.huang/py_ds/tutor_python_project/data/titanic/train.csv'  # absolute path\n",
    "data_path_to_read_2 = '../data/titanic/train.csv'  # relative path\n",
    "df_train = pd.read_csv(data_path_to_read_2)\n",
    "df_train.head()"
   ]
  },
  {
   "cell_type": "markdown",
   "metadata": {},
   "source": [
    "> <font color='#FFCC34'> - give it a try - </font>\n",
    "\n",
    "- select all rows (records) with 'Ticket' starts with A-Z alphabets, not integers"
   ]
  },
  {
   "cell_type": "code",
   "execution_count": 31,
   "metadata": {},
   "outputs": [
    {
     "data": {
      "text/plain": [
       "1"
      ]
     },
     "execution_count": 31,
     "metadata": {},
     "output_type": "execute_result"
    }
   ],
   "source": [
    "import re\n",
    "def starts_with_alphabet(inupt_string):\n",
    "    if re.match(r'^[A-Z].+', inupt_string):\n",
    "        return 1\n",
    "    else:\n",
    "        return 0\n",
    "starts_with_alphabet('PC 17599')"
   ]
  },
  {
   "cell_type": "code",
   "execution_count": null,
   "metadata": {},
   "outputs": [],
   "source": []
  }
 ],
 "metadata": {
  "celltoolbar": "Slideshow",
  "kernelspec": {
   "display_name": "Python 3",
   "language": "python",
   "name": "python3"
  },
  "language_info": {
   "codemirror_mode": {
    "name": "ipython",
    "version": 3
   },
   "file_extension": ".py",
   "mimetype": "text/x-python",
   "name": "python",
   "nbconvert_exporter": "python",
   "pygments_lexer": "ipython3",
   "version": "3.7.4"
  },
  "toc": {
   "base_numbering": 1,
   "nav_menu": {},
   "number_sections": true,
   "sideBar": true,
   "skip_h1_title": false,
   "title_cell": "Table of Contents",
   "title_sidebar": "Contents",
   "toc_cell": false,
   "toc_position": {},
   "toc_section_display": true,
   "toc_window_display": false
  },
  "toc-autonumbering": true
 },
 "nbformat": 4,
 "nbformat_minor": 4
}
